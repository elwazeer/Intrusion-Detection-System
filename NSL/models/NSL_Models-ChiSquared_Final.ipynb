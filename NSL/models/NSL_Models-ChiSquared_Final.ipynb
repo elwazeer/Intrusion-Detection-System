{
 "cells": [
  {
   "cell_type": "code",
   "execution_count": 76,
   "metadata": {},
   "outputs": [],
   "source": [
    "import pandas as pd\n",
    "import numpy as np"
   ]
  },
  {
   "cell_type": "code",
   "execution_count": 77,
   "metadata": {},
   "outputs": [],
   "source": [
    "from sklearn.model_selection import cross_val_score\n",
    "from sklearn.model_selection import cross_validate\n",
    "from sklearn.feature_selection import SelectKBest\n",
    "from sklearn.feature_selection import f_classif\n",
    "from sklearn.metrics import fbeta_score, make_scorer\n",
    "from sklearn.metrics import make_scorer, accuracy_score, precision_score, recall_score, f1_score\n"
   ]
  },
  {
   "cell_type": "markdown",
   "metadata": {},
   "source": [
    "# Reading Data"
   ]
  },
  {
   "cell_type": "code",
   "execution_count": 78,
   "metadata": {
    "scrolled": true
   },
   "outputs": [],
   "source": [
    "df = pd.read_csv('../Dataset/NSL_new.csv')"
   ]
  },
  {
   "cell_type": "code",
   "execution_count": 79,
   "metadata": {},
   "outputs": [],
   "source": [
    "df = df.sample(n=4000)"
   ]
  },
  {
   "cell_type": "code",
   "execution_count": 80,
   "metadata": {},
   "outputs": [],
   "source": [
    "X = df.drop(['label'], axis=1)\n",
    "y = df['label']"
   ]
  },
  {
   "cell_type": "code",
   "execution_count": 81,
   "metadata": {},
   "outputs": [],
   "source": [
    "scoring_metrics = {'accuracy' : make_scorer(accuracy_score), \n",
    "           'precision' : make_scorer(precision_score, average=\"micro\"),\n",
    "           'recall' : make_scorer(recall_score, average=\"micro\"), \n",
    "           'f1_score' : make_scorer(f1_score, average=\"micro\")}"
   ]
  },
  {
   "cell_type": "code",
   "execution_count": 82,
   "metadata": {},
   "outputs": [
    {
     "data": {
      "text/html": [
       "<div>\n",
       "<style scoped>\n",
       "    .dataframe tbody tr th:only-of-type {\n",
       "        vertical-align: middle;\n",
       "    }\n",
       "\n",
       "    .dataframe tbody tr th {\n",
       "        vertical-align: top;\n",
       "    }\n",
       "\n",
       "    .dataframe thead th {\n",
       "        text-align: right;\n",
       "    }\n",
       "</style>\n",
       "<table border=\"1\" class=\"dataframe\">\n",
       "  <thead>\n",
       "    <tr style=\"text-align: right;\">\n",
       "      <th></th>\n",
       "      <th>duration</th>\n",
       "      <th>src_bytes</th>\n",
       "      <th>dst_bytes</th>\n",
       "      <th>land</th>\n",
       "      <th>wrong_fragment</th>\n",
       "      <th>urgent</th>\n",
       "      <th>hot</th>\n",
       "      <th>num_failed_logins</th>\n",
       "      <th>logged_in</th>\n",
       "      <th>num_compromised</th>\n",
       "      <th>...</th>\n",
       "      <th>flag_RSTO</th>\n",
       "      <th>flag_RSTOS0</th>\n",
       "      <th>flag_RSTR</th>\n",
       "      <th>flag_S0</th>\n",
       "      <th>flag_S1</th>\n",
       "      <th>flag_S2</th>\n",
       "      <th>flag_S3</th>\n",
       "      <th>flag_SF</th>\n",
       "      <th>flag_SH</th>\n",
       "      <th>label</th>\n",
       "    </tr>\n",
       "  </thead>\n",
       "  <tbody>\n",
       "    <tr>\n",
       "      <td>98833</td>\n",
       "      <td>0</td>\n",
       "      <td>0</td>\n",
       "      <td>0</td>\n",
       "      <td>0</td>\n",
       "      <td>0</td>\n",
       "      <td>0</td>\n",
       "      <td>0</td>\n",
       "      <td>0</td>\n",
       "      <td>0</td>\n",
       "      <td>0</td>\n",
       "      <td>...</td>\n",
       "      <td>0</td>\n",
       "      <td>0</td>\n",
       "      <td>0</td>\n",
       "      <td>0</td>\n",
       "      <td>0</td>\n",
       "      <td>0</td>\n",
       "      <td>0</td>\n",
       "      <td>0</td>\n",
       "      <td>0</td>\n",
       "      <td>neptune</td>\n",
       "    </tr>\n",
       "    <tr>\n",
       "      <td>83210</td>\n",
       "      <td>0</td>\n",
       "      <td>18</td>\n",
       "      <td>0</td>\n",
       "      <td>0</td>\n",
       "      <td>0</td>\n",
       "      <td>0</td>\n",
       "      <td>0</td>\n",
       "      <td>0</td>\n",
       "      <td>0</td>\n",
       "      <td>0</td>\n",
       "      <td>...</td>\n",
       "      <td>0</td>\n",
       "      <td>0</td>\n",
       "      <td>0</td>\n",
       "      <td>0</td>\n",
       "      <td>0</td>\n",
       "      <td>0</td>\n",
       "      <td>0</td>\n",
       "      <td>1</td>\n",
       "      <td>0</td>\n",
       "      <td>ipsweep</td>\n",
       "    </tr>\n",
       "    <tr>\n",
       "      <td>84136</td>\n",
       "      <td>4</td>\n",
       "      <td>11234</td>\n",
       "      <td>366</td>\n",
       "      <td>0</td>\n",
       "      <td>0</td>\n",
       "      <td>0</td>\n",
       "      <td>0</td>\n",
       "      <td>0</td>\n",
       "      <td>1</td>\n",
       "      <td>0</td>\n",
       "      <td>...</td>\n",
       "      <td>0</td>\n",
       "      <td>0</td>\n",
       "      <td>0</td>\n",
       "      <td>0</td>\n",
       "      <td>0</td>\n",
       "      <td>0</td>\n",
       "      <td>0</td>\n",
       "      <td>1</td>\n",
       "      <td>0</td>\n",
       "      <td>normal</td>\n",
       "    </tr>\n",
       "    <tr>\n",
       "      <td>105369</td>\n",
       "      <td>0</td>\n",
       "      <td>105</td>\n",
       "      <td>147</td>\n",
       "      <td>0</td>\n",
       "      <td>0</td>\n",
       "      <td>0</td>\n",
       "      <td>0</td>\n",
       "      <td>0</td>\n",
       "      <td>0</td>\n",
       "      <td>0</td>\n",
       "      <td>...</td>\n",
       "      <td>0</td>\n",
       "      <td>0</td>\n",
       "      <td>0</td>\n",
       "      <td>0</td>\n",
       "      <td>0</td>\n",
       "      <td>0</td>\n",
       "      <td>0</td>\n",
       "      <td>1</td>\n",
       "      <td>0</td>\n",
       "      <td>normal</td>\n",
       "    </tr>\n",
       "    <tr>\n",
       "      <td>93737</td>\n",
       "      <td>0</td>\n",
       "      <td>143</td>\n",
       "      <td>9531</td>\n",
       "      <td>0</td>\n",
       "      <td>0</td>\n",
       "      <td>0</td>\n",
       "      <td>0</td>\n",
       "      <td>0</td>\n",
       "      <td>1</td>\n",
       "      <td>0</td>\n",
       "      <td>...</td>\n",
       "      <td>0</td>\n",
       "      <td>0</td>\n",
       "      <td>0</td>\n",
       "      <td>0</td>\n",
       "      <td>0</td>\n",
       "      <td>0</td>\n",
       "      <td>0</td>\n",
       "      <td>1</td>\n",
       "      <td>0</td>\n",
       "      <td>normal</td>\n",
       "    </tr>\n",
       "  </tbody>\n",
       "</table>\n",
       "<p>5 rows × 123 columns</p>\n",
       "</div>"
      ],
      "text/plain": [
       "        duration  src_bytes  dst_bytes  land  wrong_fragment  urgent  hot  \\\n",
       "98833          0          0          0     0               0       0    0   \n",
       "83210          0         18          0     0               0       0    0   \n",
       "84136          4      11234        366     0               0       0    0   \n",
       "105369         0        105        147     0               0       0    0   \n",
       "93737          0        143       9531     0               0       0    0   \n",
       "\n",
       "        num_failed_logins  logged_in  num_compromised  ...  flag_RSTO  \\\n",
       "98833                   0          0                0  ...          0   \n",
       "83210                   0          0                0  ...          0   \n",
       "84136                   0          1                0  ...          0   \n",
       "105369                  0          0                0  ...          0   \n",
       "93737                   0          1                0  ...          0   \n",
       "\n",
       "        flag_RSTOS0  flag_RSTR  flag_S0  flag_S1  flag_S2  flag_S3  flag_SF  \\\n",
       "98833             0          0        0        0        0        0        0   \n",
       "83210             0          0        0        0        0        0        1   \n",
       "84136             0          0        0        0        0        0        1   \n",
       "105369            0          0        0        0        0        0        1   \n",
       "93737             0          0        0        0        0        0        1   \n",
       "\n",
       "        flag_SH    label  \n",
       "98833         0  neptune  \n",
       "83210         0  ipsweep  \n",
       "84136         0   normal  \n",
       "105369        0   normal  \n",
       "93737         0   normal  \n",
       "\n",
       "[5 rows x 123 columns]"
      ]
     },
     "execution_count": 82,
     "metadata": {},
     "output_type": "execute_result"
    }
   ],
   "source": [
    "df.head()"
   ]
  },
  {
   "cell_type": "code",
   "execution_count": 83,
   "metadata": {
    "scrolled": true
   },
   "outputs": [
    {
     "data": {
      "text/html": [
       "<div>\n",
       "<style scoped>\n",
       "    .dataframe tbody tr th:only-of-type {\n",
       "        vertical-align: middle;\n",
       "    }\n",
       "\n",
       "    .dataframe tbody tr th {\n",
       "        vertical-align: top;\n",
       "    }\n",
       "\n",
       "    .dataframe thead th {\n",
       "        text-align: right;\n",
       "    }\n",
       "</style>\n",
       "<table border=\"1\" class=\"dataframe\">\n",
       "  <thead>\n",
       "    <tr style=\"text-align: right;\">\n",
       "      <th></th>\n",
       "      <th>duration</th>\n",
       "      <th>src_bytes</th>\n",
       "      <th>dst_bytes</th>\n",
       "      <th>land</th>\n",
       "      <th>wrong_fragment</th>\n",
       "      <th>urgent</th>\n",
       "      <th>hot</th>\n",
       "      <th>num_failed_logins</th>\n",
       "      <th>logged_in</th>\n",
       "      <th>num_compromised</th>\n",
       "      <th>...</th>\n",
       "      <th>flag_REJ</th>\n",
       "      <th>flag_RSTO</th>\n",
       "      <th>flag_RSTOS0</th>\n",
       "      <th>flag_RSTR</th>\n",
       "      <th>flag_S0</th>\n",
       "      <th>flag_S1</th>\n",
       "      <th>flag_S2</th>\n",
       "      <th>flag_S3</th>\n",
       "      <th>flag_SF</th>\n",
       "      <th>flag_SH</th>\n",
       "    </tr>\n",
       "  </thead>\n",
       "  <tbody>\n",
       "    <tr>\n",
       "      <td>98833</td>\n",
       "      <td>0</td>\n",
       "      <td>0</td>\n",
       "      <td>0</td>\n",
       "      <td>0</td>\n",
       "      <td>0</td>\n",
       "      <td>0</td>\n",
       "      <td>0</td>\n",
       "      <td>0</td>\n",
       "      <td>0</td>\n",
       "      <td>0</td>\n",
       "      <td>...</td>\n",
       "      <td>1</td>\n",
       "      <td>0</td>\n",
       "      <td>0</td>\n",
       "      <td>0</td>\n",
       "      <td>0</td>\n",
       "      <td>0</td>\n",
       "      <td>0</td>\n",
       "      <td>0</td>\n",
       "      <td>0</td>\n",
       "      <td>0</td>\n",
       "    </tr>\n",
       "    <tr>\n",
       "      <td>83210</td>\n",
       "      <td>0</td>\n",
       "      <td>18</td>\n",
       "      <td>0</td>\n",
       "      <td>0</td>\n",
       "      <td>0</td>\n",
       "      <td>0</td>\n",
       "      <td>0</td>\n",
       "      <td>0</td>\n",
       "      <td>0</td>\n",
       "      <td>0</td>\n",
       "      <td>...</td>\n",
       "      <td>0</td>\n",
       "      <td>0</td>\n",
       "      <td>0</td>\n",
       "      <td>0</td>\n",
       "      <td>0</td>\n",
       "      <td>0</td>\n",
       "      <td>0</td>\n",
       "      <td>0</td>\n",
       "      <td>1</td>\n",
       "      <td>0</td>\n",
       "    </tr>\n",
       "    <tr>\n",
       "      <td>84136</td>\n",
       "      <td>4</td>\n",
       "      <td>11234</td>\n",
       "      <td>366</td>\n",
       "      <td>0</td>\n",
       "      <td>0</td>\n",
       "      <td>0</td>\n",
       "      <td>0</td>\n",
       "      <td>0</td>\n",
       "      <td>1</td>\n",
       "      <td>0</td>\n",
       "      <td>...</td>\n",
       "      <td>0</td>\n",
       "      <td>0</td>\n",
       "      <td>0</td>\n",
       "      <td>0</td>\n",
       "      <td>0</td>\n",
       "      <td>0</td>\n",
       "      <td>0</td>\n",
       "      <td>0</td>\n",
       "      <td>1</td>\n",
       "      <td>0</td>\n",
       "    </tr>\n",
       "    <tr>\n",
       "      <td>105369</td>\n",
       "      <td>0</td>\n",
       "      <td>105</td>\n",
       "      <td>147</td>\n",
       "      <td>0</td>\n",
       "      <td>0</td>\n",
       "      <td>0</td>\n",
       "      <td>0</td>\n",
       "      <td>0</td>\n",
       "      <td>0</td>\n",
       "      <td>0</td>\n",
       "      <td>...</td>\n",
       "      <td>0</td>\n",
       "      <td>0</td>\n",
       "      <td>0</td>\n",
       "      <td>0</td>\n",
       "      <td>0</td>\n",
       "      <td>0</td>\n",
       "      <td>0</td>\n",
       "      <td>0</td>\n",
       "      <td>1</td>\n",
       "      <td>0</td>\n",
       "    </tr>\n",
       "    <tr>\n",
       "      <td>93737</td>\n",
       "      <td>0</td>\n",
       "      <td>143</td>\n",
       "      <td>9531</td>\n",
       "      <td>0</td>\n",
       "      <td>0</td>\n",
       "      <td>0</td>\n",
       "      <td>0</td>\n",
       "      <td>0</td>\n",
       "      <td>1</td>\n",
       "      <td>0</td>\n",
       "      <td>...</td>\n",
       "      <td>0</td>\n",
       "      <td>0</td>\n",
       "      <td>0</td>\n",
       "      <td>0</td>\n",
       "      <td>0</td>\n",
       "      <td>0</td>\n",
       "      <td>0</td>\n",
       "      <td>0</td>\n",
       "      <td>1</td>\n",
       "      <td>0</td>\n",
       "    </tr>\n",
       "  </tbody>\n",
       "</table>\n",
       "<p>5 rows × 122 columns</p>\n",
       "</div>"
      ],
      "text/plain": [
       "        duration  src_bytes  dst_bytes  land  wrong_fragment  urgent  hot  \\\n",
       "98833          0          0          0     0               0       0    0   \n",
       "83210          0         18          0     0               0       0    0   \n",
       "84136          4      11234        366     0               0       0    0   \n",
       "105369         0        105        147     0               0       0    0   \n",
       "93737          0        143       9531     0               0       0    0   \n",
       "\n",
       "        num_failed_logins  logged_in  num_compromised  ...  flag_REJ  \\\n",
       "98833                   0          0                0  ...         1   \n",
       "83210                   0          0                0  ...         0   \n",
       "84136                   0          1                0  ...         0   \n",
       "105369                  0          0                0  ...         0   \n",
       "93737                   0          1                0  ...         0   \n",
       "\n",
       "        flag_RSTO  flag_RSTOS0  flag_RSTR  flag_S0  flag_S1  flag_S2  flag_S3  \\\n",
       "98833           0            0          0        0        0        0        0   \n",
       "83210           0            0          0        0        0        0        0   \n",
       "84136           0            0          0        0        0        0        0   \n",
       "105369          0            0          0        0        0        0        0   \n",
       "93737           0            0          0        0        0        0        0   \n",
       "\n",
       "        flag_SF  flag_SH  \n",
       "98833         0        0  \n",
       "83210         1        0  \n",
       "84136         1        0  \n",
       "105369        1        0  \n",
       "93737         1        0  \n",
       "\n",
       "[5 rows x 122 columns]"
      ]
     },
     "execution_count": 83,
     "metadata": {},
     "output_type": "execute_result"
    }
   ],
   "source": [
    "X.head()"
   ]
  },
  {
   "cell_type": "code",
   "execution_count": 84,
   "metadata": {},
   "outputs": [
    {
     "data": {
      "text/plain": [
       "98833     neptune\n",
       "83210     ipsweep\n",
       "84136      normal\n",
       "105369     normal\n",
       "93737      normal\n",
       "Name: label, dtype: object"
      ]
     },
     "execution_count": 84,
     "metadata": {},
     "output_type": "execute_result"
    }
   ],
   "source": [
    "y.head()"
   ]
  },
  {
   "cell_type": "code",
   "execution_count": 85,
   "metadata": {},
   "outputs": [],
   "source": [
    "y = y.replace( to_replace =  'normal' , value = 0 )\n",
    "\n",
    "y = y.replace( to_replace =  'neptune' , value = 1 )\n",
    "y = y.replace( to_replace =  'back' , value = 1 )\n",
    "y = y.replace( to_replace =  'land' , value = 1 )\n",
    "y = y.replace( to_replace =  'pod' , value = 1 )\n",
    "y = y.replace( to_replace =  'smurf' , value = 1 )\n",
    "y = y.replace( to_replace =  'teardrop' , value = 1 )\n",
    "y = y.replace( to_replace =  'mailbomb' , value = 1 )\n",
    "y = y.replace( to_replace =  'apache2' , value = 1 )\n",
    "y = y.replace( to_replace =  'processtable' , value = 1 )\n",
    "y = y.replace( to_replace =  'udpstorm' , value = 1 )\n",
    "y = y.replace( to_replace =  'worm' , value = 1 )\n",
    "\n",
    "y = y.replace( to_replace =  'ipsweep' , value = 2 )\n",
    "y = y.replace( to_replace =  'nmap' , value = 2 )\n",
    "y = y.replace( to_replace =  'portsweep' , value = 2 )\n",
    "y = y.replace( to_replace =  'satan' , value = 2 )\n",
    "y = y.replace( to_replace =  'mscan' , value = 2 )\n",
    "y = y.replace( to_replace =  'saint' , value = 2 )\n",
    "\n",
    "y = y.replace( to_replace =  'ftp_write' , value = 3 )\n",
    "y = y.replace( to_replace =  'guess_passwd' , value = 3 )\n",
    "y = y.replace( to_replace =  'imap' , value = 3)\n",
    "y = y.replace( to_replace =  'multihop' , value = 3 )\n",
    "y = y.replace( to_replace =  'phf' , value = 3 )\n",
    "y = y.replace( to_replace =  'spy' , value = 3 )\n",
    "y = y.replace( to_replace =  'warezclient' , value = 3 )\n",
    "y = y.replace( to_replace =  'warezmaster' , value = 3 )\n",
    "y = y.replace( to_replace =  'sendmail' , value = 3 )\n",
    "y = y.replace( to_replace =  'snmpgetattack' , value = 3 )\n",
    "y = y.replace( to_replace =  'snmpguess' , value = 3 )\n",
    "y = y.replace( to_replace =  'xlock' , value = 3 )\n",
    "y = y.replace( to_replace =  'xsnoop' , value = 3 )\n",
    "y = y.replace( to_replace =  'httptunnel' , value = 3 )\n",
    "\n",
    "y = y.replace( to_replace =  'buffer_overflow' , value = 4 )\n",
    "y = y.replace( to_replace =  'loadmodule' , value = 4 )\n",
    "y = y.replace( to_replace =  'perl' , value = 4 )\n",
    "y = y.replace( to_replace =  'rootkit' , value = 4 )\n",
    "y = y.replace( to_replace =  'ps' , value = 4 )\n",
    "y = y.replace( to_replace =  'sqlattack' , value = 4  )\n",
    "y = y.replace( to_replace =  'xterm' , value = 4 )\n",
    "\n",
    "y = y.replace( to_replace =  'unknown' , value = 5 )"
   ]
  },
  {
   "cell_type": "code",
   "execution_count": 86,
   "metadata": {
    "scrolled": true
   },
   "outputs": [
    {
     "data": {
      "text/plain": [
       "98833     1\n",
       "83210     2\n",
       "84136     0\n",
       "105369    0\n",
       "93737     0\n",
       "Name: label, dtype: int64"
      ]
     },
     "execution_count": 86,
     "metadata": {},
     "output_type": "execute_result"
    }
   ],
   "source": [
    "y.head()"
   ]
  },
  {
   "cell_type": "markdown",
   "metadata": {},
   "source": [
    "# ChiSquared"
   ]
  },
  {
   "cell_type": "code",
   "execution_count": 87,
   "metadata": {},
   "outputs": [],
   "source": [
    "import matplotlib.pyplot as plt\n",
    "\n",
    "from sklearn.datasets import load_iris\n",
    "from sklearn.model_selection import train_test_split\n",
    "from sklearn.preprocessing import MinMaxScaler\n",
    "from sklearn.svm import LinearSVC\n",
    "from sklearn.pipeline import make_pipeline\n",
    "from sklearn.feature_selection import SelectKBest, chi2"
   ]
  },
  {
   "cell_type": "code",
   "execution_count": 88,
   "metadata": {},
   "outputs": [
    {
     "name": "stdout",
     "output_type": "stream",
     "text": [
      "before transform:         duration  src_bytes  dst_bytes  land  wrong_fragment  urgent  hot  \\\n",
      "98833          0          0          0     0               0       0    0   \n",
      "83210          0         18          0     0               0       0    0   \n",
      "84136          4      11234        366     0               0       0    0   \n",
      "105369         0        105        147     0               0       0    0   \n",
      "93737          0        143       9531     0               0       0    0   \n",
      "...          ...        ...        ...   ...             ...     ...  ...   \n",
      "121057      2310        145        105     0               0       0    0   \n",
      "99541          0        170       1091     0               0       0    0   \n",
      "99184          0        219        392     0               0       0    0   \n",
      "7321           0          0          0     0               0       0    0   \n",
      "24200          0          1          0     0               0       0    0   \n",
      "\n",
      "        num_failed_logins  logged_in  num_compromised  ...  flag_REJ  \\\n",
      "98833                   0          0                0  ...         1   \n",
      "83210                   0          0                0  ...         0   \n",
      "84136                   0          1                0  ...         0   \n",
      "105369                  0          0                0  ...         0   \n",
      "93737                   0          1                0  ...         0   \n",
      "...                   ...        ...              ...  ...       ...   \n",
      "121057                  0          0                0  ...         0   \n",
      "99541                   0          1                0  ...         0   \n",
      "99184                   0          1                0  ...         0   \n",
      "7321                    0          0                0  ...         0   \n",
      "24200                   0          0                0  ...         0   \n",
      "\n",
      "        flag_RSTO  flag_RSTOS0  flag_RSTR  flag_S0  flag_S1  flag_S2  flag_S3  \\\n",
      "98833           0            0          0        0        0        0        0   \n",
      "83210           0            0          0        0        0        0        0   \n",
      "84136           0            0          0        0        0        0        0   \n",
      "105369          0            0          0        0        0        0        0   \n",
      "93737           0            0          0        0        0        0        0   \n",
      "...           ...          ...        ...      ...      ...      ...      ...   \n",
      "121057          0            0          0        0        0        0        0   \n",
      "99541           0            0          0        0        0        0        0   \n",
      "99184           0            0          0        0        0        0        0   \n",
      "7321            1            0          0        0        0        0        0   \n",
      "24200           0            0          0        0        0        0        0   \n",
      "\n",
      "        flag_SF  flag_SH  \n",
      "98833         0        0  \n",
      "83210         1        0  \n",
      "84136         1        0  \n",
      "105369        1        0  \n",
      "93737         1        0  \n",
      "...         ...      ...  \n",
      "121057        1        0  \n",
      "99541         1        0  \n",
      "99184         1        0  \n",
      "7321          0        0  \n",
      "24200         1        0  \n",
      "\n",
      "[4000 rows x 122 columns]\n",
      "scores_: [4.75640662e+06 6.18440687e+08 3.32688090e+08 1.65780731e+00\n",
      " 1.50860465e+02            nan 3.16017313e+03 3.55073148e+00\n",
      " 1.24906566e+03 2.71646727e+03 3.40367469e+02 1.24275602e+01\n",
      " 3.15355111e+03 4.28953772e+02 1.33285024e+03 3.30645711e+01\n",
      "            nan            nan 1.50416120e+02 2.52811827e+05\n",
      " 6.28158268e+03 1.67883227e+03 1.69508024e+03 3.84506415e+02\n",
      " 3.96675013e+02 8.01956786e+02 2.41261906e+02 3.17047499e+02\n",
      " 4.93792290e+04 2.18958411e+05 7.91310553e+02 4.29567049e+02\n",
      " 7.79030551e+02 3.28261519e+02 1.66906805e+03 1.73828616e+03\n",
      " 3.03074644e+02 3.90994461e+02 4.95025686e+02 6.39668430e+01\n",
      " 1.94341541e+02 6.21378008e+00 8.87682869e-01 5.47076412e+01\n",
      "            nan 2.69440547e+01 3.31561462e+01 2.98405316e+01\n",
      " 3.31561462e+01 2.85416037e+01 1.65780731e+01 2.32093023e+01\n",
      " 2.31344914e+01 2.30546058e+02 2.48671096e+01 1.12324621e+03\n",
      " 1.47510232e+02 3.48139535e+01 2.81827243e+01 1.19650317e+01\n",
      " 8.19328409e+01 2.73607414e+02 2.53038860e+01            nan\n",
      " 1.73144530e+01 8.51160499e+02            nan 3.48139535e+01\n",
      "            nan 2.81827243e+01 3.62068190e+01 4.14451827e+01\n",
      " 1.98936877e+01 2.98405316e+01 1.93990486e+01 1.49202658e+01\n",
      " 2.36919004e+01 1.57465267e+01 2.69206950e+01 2.04862579e+01\n",
      " 1.32624585e+01 1.27033580e+01 3.64717608e+01 1.11625893e+01\n",
      " 3.55073148e+00 1.61406524e+02            nan            nan\n",
      " 1.26047157e+00 4.82097554e+00 6.87803271e+02            nan\n",
      " 6.63122924e+00 4.82097554e+00 1.65780731e+00 1.97297752e+02\n",
      " 1.65780731e+01 1.16046512e+01 2.15514950e+01 2.98405316e+01\n",
      " 1.88952194e+01 6.33761891e+01            nan            nan\n",
      " 1.92547729e+01            nan 2.30797546e+01 5.64022138e+01\n",
      " 2.48671096e+01 1.82358804e+01 3.83266617e+01            nan\n",
      " 1.62572525e+02 3.59720336e+01 6.21818182e+01 5.75474755e+02\n",
      " 1.79784965e+03 8.87682869e+00 2.83532270e+00 4.37255473e+01\n",
      " 1.04624811e+03 1.03636364e+02]\n",
      "pvalues_: [0.00000000e+000 0.00000000e+000 0.00000000e+000 7.98366940e-001\n",
      " 1.33147008e-031             nan 0.00000000e+000 4.70206555e-001\n",
      " 3.67357052e-269 0.00000000e+000 2.10671462e-072 1.44395113e-002\n",
      " 0.00000000e+000 1.53912022e-091 2.50986002e-287 1.15866571e-006\n",
      "             nan             nan 1.65788937e-031 0.00000000e+000\n",
      " 0.00000000e+000 0.00000000e+000 0.00000000e+000 6.18898644e-082\n",
      " 1.45446888e-084 2.89400451e-172 4.96234381e-051 2.27423734e-067\n",
      " 0.00000000e+000 0.00000000e+000 5.85477063e-170 1.13427632e-091\n",
      " 2.67487338e-167 8.64459686e-070 0.00000000e+000 0.00000000e+000\n",
      " 2.35262910e-064 2.45464119e-083 7.97787122e-106 4.24690201e-013\n",
      " 6.18376339e-041 1.83741761e-001 9.26321224e-001 3.74109074e-011\n",
      "             nan 2.04033859e-005 1.10970004e-006 5.27425613e-006\n",
      " 1.10970004e-006 9.68570722e-006 2.33393007e-003 1.14999213e-004\n",
      " 1.19027997e-004 1.00702093e-048 5.35015919e-005 6.92472590e-242\n",
      " 6.95346185e-031 5.07257547e-007 1.14532206e-005 1.76132014e-002\n",
      " 6.78284002e-017 5.32311552e-058 4.37044268e-005             nan\n",
      " 1.67906196e-003 6.35106762e-183             nan 5.07257547e-007\n",
      "             nan 1.14532206e-005 2.62361455e-007 2.17372476e-008\n",
      " 5.24118543e-004 5.27425613e-006 6.56016230e-004 4.86948056e-003\n",
      " 9.20736631e-005 3.37884709e-003 2.06264312e-005 4.00269783e-004\n",
      " 1.00620908e-002 1.28199817e-002 2.31403455e-007 2.47962415e-002\n",
      " 4.70206555e-001 7.29891092e-034             nan             nan\n",
      " 8.68045517e-001 3.06164590e-001 1.52444845e-147             nan\n",
      " 1.56707406e-001 3.06164590e-001 7.98366940e-001 1.43156148e-041\n",
      " 2.33393007e-003 2.05465748e-002 2.46116542e-004 5.27425613e-006\n",
      " 8.24085325e-004 5.65490098e-013             nan             nan\n",
      " 7.00334727e-004             nan 1.22064184e-004 1.65125526e-011\n",
      " 5.35015919e-005 1.10973937e-003 9.59474487e-008             nan\n",
      " 4.10347785e-034 2.93228387e-007 1.00872263e-012 3.14591973e-123\n",
      " 0.00000000e+000 6.42530035e-002 5.85750903e-001 7.31554955e-009\n",
      " 3.38488871e-225 1.65360974e-021]\n",
      "selected index: [  0   1   2   6   8   9  12  14  19  20  21  22  25  28  29  30  32  34\n",
      "  35  55  65  90 115 116 120]\n",
      "after transform: [[0.0000e+00 0.0000e+00 0.0000e+00 ... 0.0000e+00 0.0000e+00 0.0000e+00]\n",
      " [0.0000e+00 1.8000e+01 0.0000e+00 ... 0.0000e+00 0.0000e+00 1.0000e+00]\n",
      " [4.0000e+00 1.1234e+04 3.6600e+02 ... 0.0000e+00 0.0000e+00 1.0000e+00]\n",
      " ...\n",
      " [0.0000e+00 2.1900e+02 3.9200e+02 ... 0.0000e+00 0.0000e+00 1.0000e+00]\n",
      " [0.0000e+00 0.0000e+00 0.0000e+00 ... 0.0000e+00 0.0000e+00 0.0000e+00]\n",
      " [0.0000e+00 1.0000e+00 0.0000e+00 ... 0.0000e+00 0.0000e+00 1.0000e+00]]\n"
     ]
    }
   ],
   "source": [
    "print(\"before transform:\",X)\n",
    "selector=SelectKBest(score_func=chi2,k=25)\n",
    "fit = selector.fit(X,y)\n",
    "features = fit.transform(X)\n",
    "print(\"scores_:\",fit.scores_)\n",
    "print(\"pvalues_:\",fit.pvalues_)\n",
    "print(\"selected index:\",fit.get_support(True))\n",
    "print(\"after transform:\",fit.transform(X)) \n",
    "X = fit.transform(X)"
   ]
  },
  {
   "cell_type": "markdown",
   "metadata": {},
   "source": [
    "# SVM"
   ]
  },
  {
   "cell_type": "code",
   "execution_count": 89,
   "metadata": {},
   "outputs": [],
   "source": [
    "from sklearn import svm"
   ]
  },
  {
   "cell_type": "code",
   "execution_count": 90,
   "metadata": {},
   "outputs": [],
   "source": [
    "svmModel = svm.SVC(gamma='scale')"
   ]
  },
  {
   "cell_type": "code",
   "execution_count": 97,
   "metadata": {},
   "outputs": [
    {
     "name": "stderr",
     "output_type": "stream",
     "text": [
      "[Parallel(n_jobs=-1)]: Using backend LokyBackend with 8 concurrent workers.\n",
      "C:\\Users\\nayer\\Anaconda3\\lib\\site-packages\\sklearn\\model_selection\\_split.py:657: Warning: The least populated class in y has only 1 members, which is too few. The minimum number of members in any class cannot be less than n_splits=10.\n",
      "  % (min_groups, self.n_splits)), Warning)\n",
      "[Parallel(n_jobs=-1)]: Done   1 tasks      | elapsed:    2.0s\n",
      "[Parallel(n_jobs=-1)]: Done   2 out of  10 | elapsed:    2.0s remaining:    8.4s\n",
      "[Parallel(n_jobs=-1)]: Done   3 out of  10 | elapsed:    2.1s remaining:    5.0s\n",
      "[Parallel(n_jobs=-1)]: Done   4 out of  10 | elapsed:    2.1s remaining:    3.2s\n",
      "[Parallel(n_jobs=-1)]: Done   5 out of  10 | elapsed:    2.1s remaining:    2.1s\n",
      "[Parallel(n_jobs=-1)]: Done   6 out of  10 | elapsed:    2.2s remaining:    1.4s\n",
      "[Parallel(n_jobs=-1)]: Done   7 out of  10 | elapsed:    2.2s remaining:    0.9s\n",
      "[Parallel(n_jobs=-1)]: Done   8 out of  10 | elapsed:    2.2s remaining:    0.5s\n",
      "[Parallel(n_jobs=-1)]: Done  10 out of  10 | elapsed:    3.5s remaining:    0.0s\n",
      "[Parallel(n_jobs=-1)]: Done  10 out of  10 | elapsed:    3.5s finished\n"
     ]
    }
   ],
   "source": [
    "svmScore = cross_validate(svmModel, X, y, cv=10, scoring=scoring_metrics, verbose=15 ,n_jobs=-1)"
   ]
  },
  {
   "cell_type": "code",
   "execution_count": 98,
   "metadata": {},
   "outputs": [],
   "source": [
    "ss = pd.DataFrame(svmScore)"
   ]
  },
  {
   "cell_type": "code",
   "execution_count": 99,
   "metadata": {},
   "outputs": [
    {
     "data": {
      "text/html": [
       "<div>\n",
       "<style scoped>\n",
       "    .dataframe tbody tr th:only-of-type {\n",
       "        vertical-align: middle;\n",
       "    }\n",
       "\n",
       "    .dataframe tbody tr th {\n",
       "        vertical-align: top;\n",
       "    }\n",
       "\n",
       "    .dataframe thead th {\n",
       "        text-align: right;\n",
       "    }\n",
       "</style>\n",
       "<table border=\"1\" class=\"dataframe\">\n",
       "  <thead>\n",
       "    <tr style=\"text-align: right;\">\n",
       "      <th></th>\n",
       "      <th>fit_time</th>\n",
       "      <th>score_time</th>\n",
       "      <th>test_accuracy</th>\n",
       "      <th>test_precision</th>\n",
       "      <th>test_recall</th>\n",
       "      <th>test_f1_score</th>\n",
       "    </tr>\n",
       "  </thead>\n",
       "  <tbody>\n",
       "    <tr>\n",
       "      <td>0</td>\n",
       "      <td>1.595463</td>\n",
       "      <td>0.478425</td>\n",
       "      <td>0.528536</td>\n",
       "      <td>0.528536</td>\n",
       "      <td>0.528536</td>\n",
       "      <td>0.528536</td>\n",
       "    </tr>\n",
       "    <tr>\n",
       "      <td>1</td>\n",
       "      <td>1.599943</td>\n",
       "      <td>0.571099</td>\n",
       "      <td>0.529851</td>\n",
       "      <td>0.529851</td>\n",
       "      <td>0.529851</td>\n",
       "      <td>0.529851</td>\n",
       "    </tr>\n",
       "    <tr>\n",
       "      <td>2</td>\n",
       "      <td>1.718236</td>\n",
       "      <td>0.530432</td>\n",
       "      <td>0.528678</td>\n",
       "      <td>0.528678</td>\n",
       "      <td>0.528678</td>\n",
       "      <td>0.528678</td>\n",
       "    </tr>\n",
       "    <tr>\n",
       "      <td>3</td>\n",
       "      <td>1.766356</td>\n",
       "      <td>0.522382</td>\n",
       "      <td>0.532500</td>\n",
       "      <td>0.532500</td>\n",
       "      <td>0.532500</td>\n",
       "      <td>0.532500</td>\n",
       "    </tr>\n",
       "    <tr>\n",
       "      <td>4</td>\n",
       "      <td>1.630056</td>\n",
       "      <td>0.456236</td>\n",
       "      <td>0.532500</td>\n",
       "      <td>0.532500</td>\n",
       "      <td>0.532500</td>\n",
       "      <td>0.532500</td>\n",
       "    </tr>\n",
       "  </tbody>\n",
       "</table>\n",
       "</div>"
      ],
      "text/plain": [
       "   fit_time  score_time  test_accuracy  test_precision  test_recall  \\\n",
       "0  1.595463    0.478425       0.528536        0.528536     0.528536   \n",
       "1  1.599943    0.571099       0.529851        0.529851     0.529851   \n",
       "2  1.718236    0.530432       0.528678        0.528678     0.528678   \n",
       "3  1.766356    0.522382       0.532500        0.532500     0.532500   \n",
       "4  1.630056    0.456236       0.532500        0.532500     0.532500   \n",
       "\n",
       "   test_f1_score  \n",
       "0       0.528536  \n",
       "1       0.529851  \n",
       "2       0.528678  \n",
       "3       0.532500  \n",
       "4       0.532500  "
      ]
     },
     "execution_count": 99,
     "metadata": {},
     "output_type": "execute_result"
    }
   ],
   "source": [
    "ss.head()"
   ]
  },
  {
   "cell_type": "code",
   "execution_count": 100,
   "metadata": {},
   "outputs": [
    {
     "data": {
      "text/plain": [
       "0.5317566724590267"
      ]
     },
     "execution_count": 100,
     "metadata": {},
     "output_type": "execute_result"
    }
   ],
   "source": [
    "ss['test_accuracy'].mean()"
   ]
  },
  {
   "cell_type": "code",
   "execution_count": 101,
   "metadata": {},
   "outputs": [],
   "source": [
    "ss.to_csv('NSL_SVM_ChiSquared_bestEstimator.csv')"
   ]
  },
  {
   "cell_type": "code",
   "execution_count": null,
   "metadata": {},
   "outputs": [],
   "source": []
  },
  {
   "cell_type": "markdown",
   "metadata": {},
   "source": [
    "# Random Forest"
   ]
  },
  {
   "cell_type": "code",
   "execution_count": 102,
   "metadata": {},
   "outputs": [],
   "source": [
    "from sklearn.ensemble import RandomForestClassifier"
   ]
  },
  {
   "cell_type": "code",
   "execution_count": 103,
   "metadata": {},
   "outputs": [],
   "source": [
    "randomForestModel = RandomForestClassifier(max_depth=2, random_state=0, n_estimators=100)"
   ]
  },
  {
   "cell_type": "code",
   "execution_count": 104,
   "metadata": {
    "scrolled": true
   },
   "outputs": [
    {
     "name": "stderr",
     "output_type": "stream",
     "text": [
      "[Parallel(n_jobs=-1)]: Using backend LokyBackend with 8 concurrent workers.\n",
      "C:\\Users\\nayer\\Anaconda3\\lib\\site-packages\\sklearn\\model_selection\\_split.py:657: Warning: The least populated class in y has only 1 members, which is too few. The minimum number of members in any class cannot be less than n_splits=4.\n",
      "  % (min_groups, self.n_splits)), Warning)\n",
      "[Parallel(n_jobs=-1)]: Done   4 out of   4 | elapsed:    0.2s finished\n"
     ]
    }
   ],
   "source": [
    "randomForestScore = cross_validate(randomForestModel, X, y, cv=4, scoring=scoring_metrics, verbose=3 ,n_jobs=-1)"
   ]
  },
  {
   "cell_type": "code",
   "execution_count": null,
   "metadata": {
    "scrolled": true
   },
   "outputs": [],
   "source": []
  },
  {
   "cell_type": "code",
   "execution_count": 105,
   "metadata": {
    "scrolled": true
   },
   "outputs": [],
   "source": [
    "randomForestScore = pd.DataFrame(randomForestScore)"
   ]
  },
  {
   "cell_type": "code",
   "execution_count": 106,
   "metadata": {},
   "outputs": [],
   "source": [
    "randomForestScore.to_csv('NSL_RandomForest_ChiSquared_scores.csv')"
   ]
  },
  {
   "cell_type": "code",
   "execution_count": 107,
   "metadata": {},
   "outputs": [
    {
     "data": {
      "text/html": [
       "<div>\n",
       "<style scoped>\n",
       "    .dataframe tbody tr th:only-of-type {\n",
       "        vertical-align: middle;\n",
       "    }\n",
       "\n",
       "    .dataframe tbody tr th {\n",
       "        vertical-align: top;\n",
       "    }\n",
       "\n",
       "    .dataframe thead th {\n",
       "        text-align: right;\n",
       "    }\n",
       "</style>\n",
       "<table border=\"1\" class=\"dataframe\">\n",
       "  <thead>\n",
       "    <tr style=\"text-align: right;\">\n",
       "      <th></th>\n",
       "      <th>fit_time</th>\n",
       "      <th>score_time</th>\n",
       "      <th>test_accuracy</th>\n",
       "      <th>test_precision</th>\n",
       "      <th>test_recall</th>\n",
       "      <th>test_f1_score</th>\n",
       "    </tr>\n",
       "  </thead>\n",
       "  <tbody>\n",
       "    <tr>\n",
       "      <td>0</td>\n",
       "      <td>0.178724</td>\n",
       "      <td>0.063085</td>\n",
       "      <td>0.897206</td>\n",
       "      <td>0.897206</td>\n",
       "      <td>0.897206</td>\n",
       "      <td>0.897206</td>\n",
       "    </tr>\n",
       "    <tr>\n",
       "      <td>1</td>\n",
       "      <td>0.149062</td>\n",
       "      <td>0.067422</td>\n",
       "      <td>0.903000</td>\n",
       "      <td>0.903000</td>\n",
       "      <td>0.903000</td>\n",
       "      <td>0.903000</td>\n",
       "    </tr>\n",
       "    <tr>\n",
       "      <td>2</td>\n",
       "      <td>0.161919</td>\n",
       "      <td>0.056660</td>\n",
       "      <td>0.915000</td>\n",
       "      <td>0.915000</td>\n",
       "      <td>0.915000</td>\n",
       "      <td>0.915000</td>\n",
       "    </tr>\n",
       "    <tr>\n",
       "      <td>3</td>\n",
       "      <td>0.162975</td>\n",
       "      <td>0.064007</td>\n",
       "      <td>0.909820</td>\n",
       "      <td>0.909820</td>\n",
       "      <td>0.909820</td>\n",
       "      <td>0.909820</td>\n",
       "    </tr>\n",
       "  </tbody>\n",
       "</table>\n",
       "</div>"
      ],
      "text/plain": [
       "   fit_time  score_time  test_accuracy  test_precision  test_recall  \\\n",
       "0  0.178724    0.063085       0.897206        0.897206     0.897206   \n",
       "1  0.149062    0.067422       0.903000        0.903000     0.903000   \n",
       "2  0.161919    0.056660       0.915000        0.915000     0.915000   \n",
       "3  0.162975    0.064007       0.909820        0.909820     0.909820   \n",
       "\n",
       "   test_f1_score  \n",
       "0       0.897206  \n",
       "1       0.903000  \n",
       "2       0.915000  \n",
       "3       0.909820  "
      ]
     },
     "execution_count": 107,
     "metadata": {},
     "output_type": "execute_result"
    }
   ],
   "source": [
    "randomForestScore"
   ]
  },
  {
   "cell_type": "code",
   "execution_count": 108,
   "metadata": {},
   "outputs": [],
   "source": [
    "from sklearn.model_selection import GridSearchCV\n",
    "import numpy as np"
   ]
  },
  {
   "cell_type": "code",
   "execution_count": 109,
   "metadata": {},
   "outputs": [],
   "source": [
    "rf_parameters={'n_estimators' : range(80,200,20),'max_depth': range(1,20,3), 'min_samples_split': np.arange(0.1,1,0.1)}"
   ]
  },
  {
   "cell_type": "code",
   "execution_count": 110,
   "metadata": {},
   "outputs": [],
   "source": [
    "rf2 = RandomForestClassifier()"
   ]
  },
  {
   "cell_type": "code",
   "execution_count": 111,
   "metadata": {},
   "outputs": [],
   "source": [
    "dlGrid = GridSearchCV(rf2, rf_parameters, scoring=scoring_metrics, refit='accuracy', verbose=3, n_jobs=-1, cv=3)"
   ]
  },
  {
   "cell_type": "code",
   "execution_count": 112,
   "metadata": {
    "scrolled": true
   },
   "outputs": [
    {
     "name": "stdout",
     "output_type": "stream",
     "text": [
      "Fitting 3 folds for each of 378 candidates, totalling 1134 fits\n"
     ]
    },
    {
     "name": "stderr",
     "output_type": "stream",
     "text": [
      "C:\\Users\\nayer\\Anaconda3\\lib\\site-packages\\sklearn\\model_selection\\_split.py:657: Warning: The least populated class in y has only 1 members, which is too few. The minimum number of members in any class cannot be less than n_splits=3.\n",
      "  % (min_groups, self.n_splits)), Warning)\n",
      "[Parallel(n_jobs=-1)]: Using backend LokyBackend with 8 concurrent workers.\n",
      "[Parallel(n_jobs=-1)]: Done  16 tasks      | elapsed:    1.1s\n",
      "[Parallel(n_jobs=-1)]: Done 112 tasks      | elapsed:    8.0s\n",
      "[Parallel(n_jobs=-1)]: Done 272 tasks      | elapsed:   20.6s\n",
      "[Parallel(n_jobs=-1)]: Done 496 tasks      | elapsed:   38.7s\n",
      "[Parallel(n_jobs=-1)]: Done 784 tasks      | elapsed:  1.1min\n",
      "[Parallel(n_jobs=-1)]: Done 1134 out of 1134 | elapsed:  1.6min finished\n"
     ]
    },
    {
     "data": {
      "text/plain": [
       "GridSearchCV(cv=3, error_score='raise-deprecating',\n",
       "             estimator=RandomForestClassifier(bootstrap=True, class_weight=None,\n",
       "                                              criterion='gini', max_depth=None,\n",
       "                                              max_features='auto',\n",
       "                                              max_leaf_nodes=None,\n",
       "                                              min_impurity_decrease=0.0,\n",
       "                                              min_impurity_split=None,\n",
       "                                              min_samples_leaf=1,\n",
       "                                              min_samples_split=2,\n",
       "                                              min_weight_fraction_leaf=0.0,\n",
       "                                              n_estimators='warn', n_jobs=None,\n",
       "                                              oob_score=Fa...\n",
       "                         'min_samples_split': array([0.1, 0.2, 0.3, 0.4, 0.5, 0.6, 0.7, 0.8, 0.9]),\n",
       "                         'n_estimators': range(80, 200, 20)},\n",
       "             pre_dispatch='2*n_jobs', refit='accuracy',\n",
       "             return_train_score=False,\n",
       "             scoring={'accuracy': make_scorer(accuracy_score),\n",
       "                      'f1_score': make_scorer(f1_score, average=micro),\n",
       "                      'precision': make_scorer(precision_score, average=micro),\n",
       "                      'recall': make_scorer(recall_score, average=micro)},\n",
       "             verbose=3)"
      ]
     },
     "execution_count": 112,
     "metadata": {},
     "output_type": "execute_result"
    }
   ],
   "source": [
    "dlGrid.fit(X, y)"
   ]
  },
  {
   "cell_type": "code",
   "execution_count": 113,
   "metadata": {},
   "outputs": [
    {
     "data": {
      "text/html": [
       "<div>\n",
       "<style scoped>\n",
       "    .dataframe tbody tr th:only-of-type {\n",
       "        vertical-align: middle;\n",
       "    }\n",
       "\n",
       "    .dataframe tbody tr th {\n",
       "        vertical-align: top;\n",
       "    }\n",
       "\n",
       "    .dataframe thead th {\n",
       "        text-align: right;\n",
       "    }\n",
       "</style>\n",
       "<table border=\"1\" class=\"dataframe\">\n",
       "  <thead>\n",
       "    <tr style=\"text-align: right;\">\n",
       "      <th></th>\n",
       "      <th>mean_fit_time</th>\n",
       "      <th>std_fit_time</th>\n",
       "      <th>mean_score_time</th>\n",
       "      <th>std_score_time</th>\n",
       "      <th>param_max_depth</th>\n",
       "      <th>param_min_samples_split</th>\n",
       "      <th>param_n_estimators</th>\n",
       "      <th>params</th>\n",
       "      <th>split0_test_accuracy</th>\n",
       "      <th>split1_test_accuracy</th>\n",
       "      <th>...</th>\n",
       "      <th>split2_test_recall</th>\n",
       "      <th>mean_test_recall</th>\n",
       "      <th>std_test_recall</th>\n",
       "      <th>rank_test_recall</th>\n",
       "      <th>split0_test_f1_score</th>\n",
       "      <th>split1_test_f1_score</th>\n",
       "      <th>split2_test_f1_score</th>\n",
       "      <th>mean_test_f1_score</th>\n",
       "      <th>std_test_f1_score</th>\n",
       "      <th>rank_test_f1_score</th>\n",
       "    </tr>\n",
       "  </thead>\n",
       "  <tbody>\n",
       "    <tr>\n",
       "      <td>0</td>\n",
       "      <td>0.238068</td>\n",
       "      <td>0.042067</td>\n",
       "      <td>0.113750</td>\n",
       "      <td>0.027003</td>\n",
       "      <td>1</td>\n",
       "      <td>0.1</td>\n",
       "      <td>80</td>\n",
       "      <td>{'max_depth': 1, 'min_samples_split': 0.1, 'n_...</td>\n",
       "      <td>0.839072</td>\n",
       "      <td>0.871718</td>\n",
       "      <td>...</td>\n",
       "      <td>0.858753</td>\n",
       "      <td>0.85650</td>\n",
       "      <td>0.013428</td>\n",
       "      <td>189</td>\n",
       "      <td>0.839072</td>\n",
       "      <td>0.871718</td>\n",
       "      <td>0.858753</td>\n",
       "      <td>0.85650</td>\n",
       "      <td>0.013428</td>\n",
       "      <td>189</td>\n",
       "    </tr>\n",
       "    <tr>\n",
       "      <td>1</td>\n",
       "      <td>0.205416</td>\n",
       "      <td>0.011364</td>\n",
       "      <td>0.112187</td>\n",
       "      <td>0.031552</td>\n",
       "      <td>1</td>\n",
       "      <td>0.1</td>\n",
       "      <td>100</td>\n",
       "      <td>{'max_depth': 1, 'min_samples_split': 0.1, 'n_...</td>\n",
       "      <td>0.857036</td>\n",
       "      <td>0.844711</td>\n",
       "      <td>...</td>\n",
       "      <td>0.858002</td>\n",
       "      <td>0.85325</td>\n",
       "      <td>0.006050</td>\n",
       "      <td>218</td>\n",
       "      <td>0.857036</td>\n",
       "      <td>0.844711</td>\n",
       "      <td>0.858002</td>\n",
       "      <td>0.85325</td>\n",
       "      <td>0.006050</td>\n",
       "      <td>218</td>\n",
       "    </tr>\n",
       "    <tr>\n",
       "      <td>2</td>\n",
       "      <td>0.258008</td>\n",
       "      <td>0.020122</td>\n",
       "      <td>0.188286</td>\n",
       "      <td>0.012080</td>\n",
       "      <td>1</td>\n",
       "      <td>0.1</td>\n",
       "      <td>120</td>\n",
       "      <td>{'max_depth': 1, 'min_samples_split': 0.1, 'n_...</td>\n",
       "      <td>0.860030</td>\n",
       "      <td>0.871718</td>\n",
       "      <td>...</td>\n",
       "      <td>0.859504</td>\n",
       "      <td>0.86375</td>\n",
       "      <td>0.005637</td>\n",
       "      <td>116</td>\n",
       "      <td>0.860030</td>\n",
       "      <td>0.871718</td>\n",
       "      <td>0.859504</td>\n",
       "      <td>0.86375</td>\n",
       "      <td>0.005637</td>\n",
       "      <td>116</td>\n",
       "    </tr>\n",
       "    <tr>\n",
       "      <td>3</td>\n",
       "      <td>0.294165</td>\n",
       "      <td>0.005343</td>\n",
       "      <td>0.241454</td>\n",
       "      <td>0.005480</td>\n",
       "      <td>1</td>\n",
       "      <td>0.1</td>\n",
       "      <td>140</td>\n",
       "      <td>{'max_depth': 1, 'min_samples_split': 0.1, 'n_...</td>\n",
       "      <td>0.860030</td>\n",
       "      <td>0.871718</td>\n",
       "      <td>...</td>\n",
       "      <td>0.835462</td>\n",
       "      <td>0.85575</td>\n",
       "      <td>0.015101</td>\n",
       "      <td>195</td>\n",
       "      <td>0.860030</td>\n",
       "      <td>0.871718</td>\n",
       "      <td>0.835462</td>\n",
       "      <td>0.85575</td>\n",
       "      <td>0.015101</td>\n",
       "      <td>195</td>\n",
       "    </tr>\n",
       "    <tr>\n",
       "      <td>4</td>\n",
       "      <td>0.449543</td>\n",
       "      <td>0.028109</td>\n",
       "      <td>0.244227</td>\n",
       "      <td>0.008962</td>\n",
       "      <td>1</td>\n",
       "      <td>0.1</td>\n",
       "      <td>160</td>\n",
       "      <td>{'max_depth': 1, 'min_samples_split': 0.1, 'n_...</td>\n",
       "      <td>0.856287</td>\n",
       "      <td>0.870218</td>\n",
       "      <td>...</td>\n",
       "      <td>0.858753</td>\n",
       "      <td>0.86175</td>\n",
       "      <td>0.006070</td>\n",
       "      <td>179</td>\n",
       "      <td>0.856287</td>\n",
       "      <td>0.870218</td>\n",
       "      <td>0.858753</td>\n",
       "      <td>0.86175</td>\n",
       "      <td>0.006070</td>\n",
       "      <td>179</td>\n",
       "    </tr>\n",
       "  </tbody>\n",
       "</table>\n",
       "<p>5 rows × 32 columns</p>\n",
       "</div>"
      ],
      "text/plain": [
       "   mean_fit_time  std_fit_time  mean_score_time  std_score_time  \\\n",
       "0       0.238068      0.042067         0.113750        0.027003   \n",
       "1       0.205416      0.011364         0.112187        0.031552   \n",
       "2       0.258008      0.020122         0.188286        0.012080   \n",
       "3       0.294165      0.005343         0.241454        0.005480   \n",
       "4       0.449543      0.028109         0.244227        0.008962   \n",
       "\n",
       "  param_max_depth param_min_samples_split param_n_estimators  \\\n",
       "0               1                     0.1                 80   \n",
       "1               1                     0.1                100   \n",
       "2               1                     0.1                120   \n",
       "3               1                     0.1                140   \n",
       "4               1                     0.1                160   \n",
       "\n",
       "                                              params  split0_test_accuracy  \\\n",
       "0  {'max_depth': 1, 'min_samples_split': 0.1, 'n_...              0.839072   \n",
       "1  {'max_depth': 1, 'min_samples_split': 0.1, 'n_...              0.857036   \n",
       "2  {'max_depth': 1, 'min_samples_split': 0.1, 'n_...              0.860030   \n",
       "3  {'max_depth': 1, 'min_samples_split': 0.1, 'n_...              0.860030   \n",
       "4  {'max_depth': 1, 'min_samples_split': 0.1, 'n_...              0.856287   \n",
       "\n",
       "   split1_test_accuracy  ...  split2_test_recall  mean_test_recall  \\\n",
       "0              0.871718  ...            0.858753           0.85650   \n",
       "1              0.844711  ...            0.858002           0.85325   \n",
       "2              0.871718  ...            0.859504           0.86375   \n",
       "3              0.871718  ...            0.835462           0.85575   \n",
       "4              0.870218  ...            0.858753           0.86175   \n",
       "\n",
       "   std_test_recall  rank_test_recall  split0_test_f1_score  \\\n",
       "0         0.013428               189              0.839072   \n",
       "1         0.006050               218              0.857036   \n",
       "2         0.005637               116              0.860030   \n",
       "3         0.015101               195              0.860030   \n",
       "4         0.006070               179              0.856287   \n",
       "\n",
       "   split1_test_f1_score  split2_test_f1_score  mean_test_f1_score  \\\n",
       "0              0.871718              0.858753             0.85650   \n",
       "1              0.844711              0.858002             0.85325   \n",
       "2              0.871718              0.859504             0.86375   \n",
       "3              0.871718              0.835462             0.85575   \n",
       "4              0.870218              0.858753             0.86175   \n",
       "\n",
       "   std_test_f1_score  rank_test_f1_score  \n",
       "0           0.013428                 189  \n",
       "1           0.006050                 218  \n",
       "2           0.005637                 116  \n",
       "3           0.015101                 195  \n",
       "4           0.006070                 179  \n",
       "\n",
       "[5 rows x 32 columns]"
      ]
     },
     "execution_count": 113,
     "metadata": {},
     "output_type": "execute_result"
    }
   ],
   "source": [
    "dtGridScores = pd.DataFrame(dlGrid.cv_results_)\n",
    "dtGridScores.head()"
   ]
  },
  {
   "cell_type": "code",
   "execution_count": 114,
   "metadata": {},
   "outputs": [],
   "source": [
    "dt3=dlGrid.best_estimator_"
   ]
  },
  {
   "cell_type": "code",
   "execution_count": 115,
   "metadata": {},
   "outputs": [
    {
     "name": "stderr",
     "output_type": "stream",
     "text": [
      "[Parallel(n_jobs=-1)]: Using backend LokyBackend with 8 concurrent workers.\n",
      "C:\\Users\\nayer\\Anaconda3\\lib\\site-packages\\sklearn\\model_selection\\_split.py:657: Warning: The least populated class in y has only 1 members, which is too few. The minimum number of members in any class cannot be less than n_splits=4.\n",
      "  % (min_groups, self.n_splits)), Warning)\n",
      "[Parallel(n_jobs=-1)]: Done   4 out of   4 | elapsed:    0.5s finished\n"
     ]
    }
   ],
   "source": [
    "dtFinalScore = cross_validate(dt3, X, y, cv=4, scoring=scoring_metrics, verbose=3, n_jobs=-1)"
   ]
  },
  {
   "cell_type": "code",
   "execution_count": 116,
   "metadata": {
    "scrolled": true
   },
   "outputs": [],
   "source": [
    "dtFinalScore = pd.DataFrame(dtFinalScore)"
   ]
  },
  {
   "cell_type": "code",
   "execution_count": 117,
   "metadata": {},
   "outputs": [
    {
     "data": {
      "text/plain": [
       "0.9537534070136281"
      ]
     },
     "execution_count": 117,
     "metadata": {},
     "output_type": "execute_result"
    }
   ],
   "source": [
    "dtFinalScore['test_accuracy'].mean()"
   ]
  },
  {
   "cell_type": "code",
   "execution_count": 118,
   "metadata": {},
   "outputs": [],
   "source": [
    "randomForestScore.to_csv('NSL_RandomForest_ChiSquared_bestEstimator.csv')"
   ]
  },
  {
   "cell_type": "markdown",
   "metadata": {},
   "source": [
    "# Neural Network"
   ]
  },
  {
   "cell_type": "code",
   "execution_count": 119,
   "metadata": {},
   "outputs": [],
   "source": [
    "from sklearn.neural_network import MLPClassifier"
   ]
  },
  {
   "cell_type": "code",
   "execution_count": 120,
   "metadata": {},
   "outputs": [],
   "source": [
    "mlpModel = MLPClassifier()"
   ]
  },
  {
   "cell_type": "code",
   "execution_count": 121,
   "metadata": {
    "scrolled": true
   },
   "outputs": [
    {
     "name": "stderr",
     "output_type": "stream",
     "text": [
      "[Parallel(n_jobs=-1)]: Using backend LokyBackend with 8 concurrent workers.\n",
      "C:\\Users\\nayer\\Anaconda3\\lib\\site-packages\\sklearn\\model_selection\\_split.py:657: Warning: The least populated class in y has only 1 members, which is too few. The minimum number of members in any class cannot be less than n_splits=4.\n",
      "  % (min_groups, self.n_splits)), Warning)\n",
      "[Parallel(n_jobs=-1)]: Done   4 out of   4 | elapsed:    4.5s finished\n"
     ]
    }
   ],
   "source": [
    "mlpScore=cross_validate(mlpModel, X, y, cv=4, scoring=scoring_metrics, verbose=3, n_jobs=-1)"
   ]
  },
  {
   "cell_type": "code",
   "execution_count": 122,
   "metadata": {
    "scrolled": true
   },
   "outputs": [
    {
     "data": {
      "text/plain": [
       "MLPClassifier(activation='relu', alpha=0.0001, batch_size='auto', beta_1=0.9,\n",
       "              beta_2=0.999, early_stopping=False, epsilon=1e-08,\n",
       "              hidden_layer_sizes=(100,), learning_rate='constant',\n",
       "              learning_rate_init=0.001, max_iter=200, momentum=0.9,\n",
       "              n_iter_no_change=10, nesterovs_momentum=True, power_t=0.5,\n",
       "              random_state=None, shuffle=True, solver='adam', tol=0.0001,\n",
       "              validation_fraction=0.1, verbose=False, warm_start=False)"
      ]
     },
     "execution_count": 122,
     "metadata": {},
     "output_type": "execute_result"
    }
   ],
   "source": [
    "mlpModel"
   ]
  },
  {
   "cell_type": "code",
   "execution_count": 123,
   "metadata": {},
   "outputs": [],
   "source": [
    "mlpScore = pd.DataFrame(mlpScore)"
   ]
  },
  {
   "cell_type": "code",
   "execution_count": 124,
   "metadata": {},
   "outputs": [],
   "source": [
    "mlpScore.to_csv('NSL_MLP_ChiSquared_scores.csv')"
   ]
  },
  {
   "cell_type": "code",
   "execution_count": 125,
   "metadata": {},
   "outputs": [],
   "source": [
    "nLayers=[\n",
    "    (4),\n",
    "    (7),\n",
    "    (10), #one layer of 10 nodes\n",
    "    (13),\n",
    "    (17),\n",
    "    (20),\n",
    "    (30),\n",
    "    (50),\n",
    "    (80),\n",
    "    (100),\n",
    "    (120),\n",
    "    (140),\n",
    "    (180),\n",
    "    (220),\n",
    "    (10, 10), #two layers, 10 nodes each\n",
    "    (20, 20), #two layers, 20 nodes each\n",
    "    (30, 30),\n",
    "    (50, 50),\n",
    "    (80, 80),\n",
    "    (100, 100),\n",
    "    (150, 150),\n",
    "    (10, 10, 10), #three layers, 10 nodes each\n",
    "    (20, 20, 20),\n",
    "    (30, 30, 30),\n",
    "    (50, 50, 50),\n",
    "    (80, 80, 80),\n",
    "]"
   ]
  },
  {
   "cell_type": "code",
   "execution_count": 126,
   "metadata": {},
   "outputs": [],
   "source": [
    "mlp_parameters = {\n",
    "    'hidden_layer_sizes': nLayers,\n",
    "    'solver': ['sgd', 'adam'],\n",
    "    'alpha': [0.001, 0.01, 0.05],\n",
    "    'learning_rate': ['constant','adaptive'],\n",
    "}"
   ]
  },
  {
   "cell_type": "code",
   "execution_count": 127,
   "metadata": {},
   "outputs": [],
   "source": [
    "from sklearn.model_selection import GridSearchCV\n",
    "from sklearn.model_selection import RandomizedSearchCV"
   ]
  },
  {
   "cell_type": "code",
   "execution_count": 128,
   "metadata": {},
   "outputs": [],
   "source": [
    "from sklearn.neural_network import MLPClassifier\n",
    "mlpModel2 = MLPClassifier()"
   ]
  },
  {
   "cell_type": "code",
   "execution_count": 129,
   "metadata": {},
   "outputs": [],
   "source": [
    "mlp_grid = GridSearchCV(mlpModel2, mlp_parameters, scoring=scoring_metrics, refit='accuracy', verbose=3, n_jobs=-1, cv=3)\n"
   ]
  },
  {
   "cell_type": "code",
   "execution_count": 130,
   "metadata": {
    "scrolled": false
   },
   "outputs": [
    {
     "name": "stderr",
     "output_type": "stream",
     "text": [
      "C:\\Users\\nayer\\Anaconda3\\lib\\site-packages\\sklearn\\model_selection\\_split.py:657: Warning: The least populated class in y has only 1 members, which is too few. The minimum number of members in any class cannot be less than n_splits=3.\n",
      "  % (min_groups, self.n_splits)), Warning)\n",
      "[Parallel(n_jobs=-1)]: Using backend LokyBackend with 8 concurrent workers.\n"
     ]
    },
    {
     "name": "stdout",
     "output_type": "stream",
     "text": [
      "Fitting 3 folds for each of 312 candidates, totalling 936 fits\n"
     ]
    },
    {
     "name": "stderr",
     "output_type": "stream",
     "text": [
      "[Parallel(n_jobs=-1)]: Done  16 tasks      | elapsed:    4.3s\n",
      "[Parallel(n_jobs=-1)]: Done 112 tasks      | elapsed:   35.4s\n",
      "[Parallel(n_jobs=-1)]: Done 272 tasks      | elapsed:  2.2min\n",
      "[Parallel(n_jobs=-1)]: Done 496 tasks      | elapsed:  3.6min\n",
      "[Parallel(n_jobs=-1)]: Done 784 tasks      | elapsed:  5.9min\n",
      "[Parallel(n_jobs=-1)]: Done 936 out of 936 | elapsed:  7.4min finished\n",
      "C:\\Users\\nayer\\Anaconda3\\lib\\site-packages\\sklearn\\model_selection\\_search.py:814: DeprecationWarning: The default of the `iid` parameter will change from True to False in version 0.22 and will be removed in 0.24. This will change numeric results when test-set sizes are unequal.\n",
      "  DeprecationWarning)\n",
      "C:\\Users\\nayer\\Anaconda3\\lib\\site-packages\\sklearn\\neural_network\\multilayer_perceptron.py:566: ConvergenceWarning: Stochastic Optimizer: Maximum iterations (200) reached and the optimization hasn't converged yet.\n",
      "  % self.max_iter, ConvergenceWarning)\n"
     ]
    },
    {
     "data": {
      "text/plain": [
       "GridSearchCV(cv=3, error_score='raise-deprecating',\n",
       "             estimator=MLPClassifier(activation='relu', alpha=0.0001,\n",
       "                                     batch_size='auto', beta_1=0.9,\n",
       "                                     beta_2=0.999, early_stopping=False,\n",
       "                                     epsilon=1e-08, hidden_layer_sizes=(100,),\n",
       "                                     learning_rate='constant',\n",
       "                                     learning_rate_init=0.001, max_iter=200,\n",
       "                                     momentum=0.9, n_iter_no_change=10,\n",
       "                                     nesterovs_momentum=True, power_t=0.5,\n",
       "                                     random_sta...\n",
       "                                                (50, 50, 50), (80, 80, 80)],\n",
       "                         'learning_rate': ['constant', 'adaptive'],\n",
       "                         'solver': ['sgd', 'adam']},\n",
       "             pre_dispatch='2*n_jobs', refit='accuracy',\n",
       "             return_train_score=False,\n",
       "             scoring={'accuracy': make_scorer(accuracy_score),\n",
       "                      'f1_score': make_scorer(f1_score, average=micro),\n",
       "                      'precision': make_scorer(precision_score, average=micro),\n",
       "                      'recall': make_scorer(recall_score, average=micro)},\n",
       "             verbose=3)"
      ]
     },
     "execution_count": 130,
     "metadata": {},
     "output_type": "execute_result"
    }
   ],
   "source": [
    "mlp_grid.fit(X, y)"
   ]
  },
  {
   "cell_type": "code",
   "execution_count": 131,
   "metadata": {},
   "outputs": [
    {
     "data": {
      "text/html": [
       "<div>\n",
       "<style scoped>\n",
       "    .dataframe tbody tr th:only-of-type {\n",
       "        vertical-align: middle;\n",
       "    }\n",
       "\n",
       "    .dataframe tbody tr th {\n",
       "        vertical-align: top;\n",
       "    }\n",
       "\n",
       "    .dataframe thead th {\n",
       "        text-align: right;\n",
       "    }\n",
       "</style>\n",
       "<table border=\"1\" class=\"dataframe\">\n",
       "  <thead>\n",
       "    <tr style=\"text-align: right;\">\n",
       "      <th></th>\n",
       "      <th>mean_fit_time</th>\n",
       "      <th>std_fit_time</th>\n",
       "      <th>mean_score_time</th>\n",
       "      <th>std_score_time</th>\n",
       "      <th>param_alpha</th>\n",
       "      <th>param_hidden_layer_sizes</th>\n",
       "      <th>param_learning_rate</th>\n",
       "      <th>param_solver</th>\n",
       "      <th>params</th>\n",
       "      <th>split0_test_accuracy</th>\n",
       "      <th>...</th>\n",
       "      <th>split2_test_recall</th>\n",
       "      <th>mean_test_recall</th>\n",
       "      <th>std_test_recall</th>\n",
       "      <th>rank_test_recall</th>\n",
       "      <th>split0_test_f1_score</th>\n",
       "      <th>split1_test_f1_score</th>\n",
       "      <th>split2_test_f1_score</th>\n",
       "      <th>mean_test_f1_score</th>\n",
       "      <th>std_test_f1_score</th>\n",
       "      <th>rank_test_f1_score</th>\n",
       "    </tr>\n",
       "  </thead>\n",
       "  <tbody>\n",
       "    <tr>\n",
       "      <td>0</td>\n",
       "      <td>1.261726</td>\n",
       "      <td>0.785391</td>\n",
       "      <td>0.019272</td>\n",
       "      <td>0.003233</td>\n",
       "      <td>0.001</td>\n",
       "      <td>4</td>\n",
       "      <td>constant</td>\n",
       "      <td>sgd</td>\n",
       "      <td>{'alpha': 0.001, 'hidden_layer_sizes': 4, 'lea...</td>\n",
       "      <td>0.529192</td>\n",
       "      <td>...</td>\n",
       "      <td>0.530428</td>\n",
       "      <td>0.64250</td>\n",
       "      <td>0.159400</td>\n",
       "      <td>234</td>\n",
       "      <td>0.529192</td>\n",
       "      <td>0.867967</td>\n",
       "      <td>0.530428</td>\n",
       "      <td>0.64250</td>\n",
       "      <td>0.159400</td>\n",
       "      <td>234</td>\n",
       "    </tr>\n",
       "    <tr>\n",
       "      <td>1</td>\n",
       "      <td>2.129574</td>\n",
       "      <td>0.344014</td>\n",
       "      <td>0.015955</td>\n",
       "      <td>0.001651</td>\n",
       "      <td>0.001</td>\n",
       "      <td>4</td>\n",
       "      <td>constant</td>\n",
       "      <td>adam</td>\n",
       "      <td>{'alpha': 0.001, 'hidden_layer_sizes': 4, 'lea...</td>\n",
       "      <td>0.562126</td>\n",
       "      <td>...</td>\n",
       "      <td>0.891811</td>\n",
       "      <td>0.74675</td>\n",
       "      <td>0.137569</td>\n",
       "      <td>217</td>\n",
       "      <td>0.562126</td>\n",
       "      <td>0.786947</td>\n",
       "      <td>0.891811</td>\n",
       "      <td>0.74675</td>\n",
       "      <td>0.137569</td>\n",
       "      <td>217</td>\n",
       "    </tr>\n",
       "    <tr>\n",
       "      <td>2</td>\n",
       "      <td>2.106794</td>\n",
       "      <td>0.069440</td>\n",
       "      <td>0.017085</td>\n",
       "      <td>0.002496</td>\n",
       "      <td>0.001</td>\n",
       "      <td>4</td>\n",
       "      <td>adaptive</td>\n",
       "      <td>sgd</td>\n",
       "      <td>{'alpha': 0.001, 'hidden_layer_sizes': 4, 'lea...</td>\n",
       "      <td>0.529192</td>\n",
       "      <td>...</td>\n",
       "      <td>0.530428</td>\n",
       "      <td>0.52975</td>\n",
       "      <td>0.000512</td>\n",
       "      <td>270</td>\n",
       "      <td>0.529192</td>\n",
       "      <td>0.529632</td>\n",
       "      <td>0.530428</td>\n",
       "      <td>0.52975</td>\n",
       "      <td>0.000512</td>\n",
       "      <td>270</td>\n",
       "    </tr>\n",
       "    <tr>\n",
       "      <td>3</td>\n",
       "      <td>2.327833</td>\n",
       "      <td>0.391325</td>\n",
       "      <td>0.014983</td>\n",
       "      <td>0.001875</td>\n",
       "      <td>0.001</td>\n",
       "      <td>4</td>\n",
       "      <td>adaptive</td>\n",
       "      <td>adam</td>\n",
       "      <td>{'alpha': 0.001, 'hidden_layer_sizes': 4, 'lea...</td>\n",
       "      <td>0.810629</td>\n",
       "      <td>...</td>\n",
       "      <td>0.916604</td>\n",
       "      <td>0.87700</td>\n",
       "      <td>0.047284</td>\n",
       "      <td>196</td>\n",
       "      <td>0.810629</td>\n",
       "      <td>0.903976</td>\n",
       "      <td>0.916604</td>\n",
       "      <td>0.87700</td>\n",
       "      <td>0.047284</td>\n",
       "      <td>196</td>\n",
       "    </tr>\n",
       "    <tr>\n",
       "      <td>4</td>\n",
       "      <td>0.831100</td>\n",
       "      <td>0.933089</td>\n",
       "      <td>0.017090</td>\n",
       "      <td>0.001336</td>\n",
       "      <td>0.001</td>\n",
       "      <td>7</td>\n",
       "      <td>constant</td>\n",
       "      <td>sgd</td>\n",
       "      <td>{'alpha': 0.001, 'hidden_layer_sizes': 7, 'lea...</td>\n",
       "      <td>0.530689</td>\n",
       "      <td>...</td>\n",
       "      <td>0.530428</td>\n",
       "      <td>0.48650</td>\n",
       "      <td>0.062320</td>\n",
       "      <td>301</td>\n",
       "      <td>0.530689</td>\n",
       "      <td>0.398350</td>\n",
       "      <td>0.530428</td>\n",
       "      <td>0.48650</td>\n",
       "      <td>0.062320</td>\n",
       "      <td>301</td>\n",
       "    </tr>\n",
       "  </tbody>\n",
       "</table>\n",
       "<p>5 rows × 33 columns</p>\n",
       "</div>"
      ],
      "text/plain": [
       "   mean_fit_time  std_fit_time  mean_score_time  std_score_time param_alpha  \\\n",
       "0       1.261726      0.785391         0.019272        0.003233       0.001   \n",
       "1       2.129574      0.344014         0.015955        0.001651       0.001   \n",
       "2       2.106794      0.069440         0.017085        0.002496       0.001   \n",
       "3       2.327833      0.391325         0.014983        0.001875       0.001   \n",
       "4       0.831100      0.933089         0.017090        0.001336       0.001   \n",
       "\n",
       "  param_hidden_layer_sizes param_learning_rate param_solver  \\\n",
       "0                        4            constant          sgd   \n",
       "1                        4            constant         adam   \n",
       "2                        4            adaptive          sgd   \n",
       "3                        4            adaptive         adam   \n",
       "4                        7            constant          sgd   \n",
       "\n",
       "                                              params  split0_test_accuracy  \\\n",
       "0  {'alpha': 0.001, 'hidden_layer_sizes': 4, 'lea...              0.529192   \n",
       "1  {'alpha': 0.001, 'hidden_layer_sizes': 4, 'lea...              0.562126   \n",
       "2  {'alpha': 0.001, 'hidden_layer_sizes': 4, 'lea...              0.529192   \n",
       "3  {'alpha': 0.001, 'hidden_layer_sizes': 4, 'lea...              0.810629   \n",
       "4  {'alpha': 0.001, 'hidden_layer_sizes': 7, 'lea...              0.530689   \n",
       "\n",
       "   ...  split2_test_recall  mean_test_recall  std_test_recall  \\\n",
       "0  ...            0.530428           0.64250         0.159400   \n",
       "1  ...            0.891811           0.74675         0.137569   \n",
       "2  ...            0.530428           0.52975         0.000512   \n",
       "3  ...            0.916604           0.87700         0.047284   \n",
       "4  ...            0.530428           0.48650         0.062320   \n",
       "\n",
       "   rank_test_recall  split0_test_f1_score  split1_test_f1_score  \\\n",
       "0               234              0.529192              0.867967   \n",
       "1               217              0.562126              0.786947   \n",
       "2               270              0.529192              0.529632   \n",
       "3               196              0.810629              0.903976   \n",
       "4               301              0.530689              0.398350   \n",
       "\n",
       "   split2_test_f1_score  mean_test_f1_score  std_test_f1_score  \\\n",
       "0              0.530428             0.64250           0.159400   \n",
       "1              0.891811             0.74675           0.137569   \n",
       "2              0.530428             0.52975           0.000512   \n",
       "3              0.916604             0.87700           0.047284   \n",
       "4              0.530428             0.48650           0.062320   \n",
       "\n",
       "   rank_test_f1_score  \n",
       "0                 234  \n",
       "1                 217  \n",
       "2                 270  \n",
       "3                 196  \n",
       "4                 301  \n",
       "\n",
       "[5 rows x 33 columns]"
      ]
     },
     "execution_count": 131,
     "metadata": {},
     "output_type": "execute_result"
    }
   ],
   "source": [
    "mlpGridScores=pd.DataFrame(mlp_grid.cv_results_)\n",
    "mlpGridScores.head()\n"
   ]
  },
  {
   "cell_type": "code",
   "execution_count": 132,
   "metadata": {},
   "outputs": [
    {
     "data": {
      "text/plain": [
       "{'alpha': 0.01,\n",
       " 'hidden_layer_sizes': 80,\n",
       " 'learning_rate': 'adaptive',\n",
       " 'solver': 'adam'}"
      ]
     },
     "execution_count": 132,
     "metadata": {},
     "output_type": "execute_result"
    }
   ],
   "source": [
    "mlpFinalModel = mlp_grid.best_estimator_\n",
    "mlp_grid.best_params_"
   ]
  },
  {
   "cell_type": "code",
   "execution_count": 133,
   "metadata": {},
   "outputs": [
    {
     "name": "stderr",
     "output_type": "stream",
     "text": [
      "[Parallel(n_jobs=-1)]: Using backend LokyBackend with 8 concurrent workers.\n",
      "C:\\Users\\nayer\\Anaconda3\\lib\\site-packages\\sklearn\\model_selection\\_split.py:657: Warning: The least populated class in y has only 1 members, which is too few. The minimum number of members in any class cannot be less than n_splits=4.\n",
      "  % (min_groups, self.n_splits)), Warning)\n",
      "[Parallel(n_jobs=-1)]: Done   4 out of   4 | elapsed:    4.2s finished\n"
     ]
    }
   ],
   "source": [
    "mlpFinalScore=cross_validate(mlpFinalModel, X, y, cv=4, scoring=scoring_metrics, verbose=3, n_jobs=-1)"
   ]
  },
  {
   "cell_type": "code",
   "execution_count": 134,
   "metadata": {},
   "outputs": [],
   "source": [
    "mlpFinalScore = pd.DataFrame(mlpFinalScore)\n",
    "mlpFinalScore.to_csv('NSL_ANN_ChiSquared_bestEstimator.csv')"
   ]
  },
  {
   "cell_type": "code",
   "execution_count": 135,
   "metadata": {},
   "outputs": [
    {
     "data": {
      "text/plain": [
       "0.956754401017604"
      ]
     },
     "execution_count": 135,
     "metadata": {},
     "output_type": "execute_result"
    }
   ],
   "source": [
    "mlpFinalScore['test_accuracy'].mean()"
   ]
  },
  {
   "cell_type": "markdown",
   "metadata": {},
   "source": [
    "# Decision Trees"
   ]
  },
  {
   "cell_type": "code",
   "execution_count": 136,
   "metadata": {},
   "outputs": [],
   "source": [
    "from sklearn.tree import tree"
   ]
  },
  {
   "cell_type": "code",
   "execution_count": 137,
   "metadata": {},
   "outputs": [],
   "source": [
    "dt=tree.DecisionTreeClassifier()"
   ]
  },
  {
   "cell_type": "code",
   "execution_count": 138,
   "metadata": {},
   "outputs": [
    {
     "name": "stderr",
     "output_type": "stream",
     "text": [
      "[Parallel(n_jobs=-1)]: Using backend LokyBackend with 8 concurrent workers.\n",
      "C:\\Users\\nayer\\Anaconda3\\lib\\site-packages\\sklearn\\model_selection\\_split.py:657: Warning: The least populated class in y has only 1 members, which is too few. The minimum number of members in any class cannot be less than n_splits=4.\n",
      "  % (min_groups, self.n_splits)), Warning)\n",
      "[Parallel(n_jobs=-1)]: Done   4 out of   4 | elapsed:    0.0s finished\n"
     ]
    }
   ],
   "source": [
    "dtScore = cross_validate(dt, X, y, cv=4, scoring=scoring_metrics, verbose=3, n_jobs=-1)"
   ]
  },
  {
   "cell_type": "code",
   "execution_count": 139,
   "metadata": {},
   "outputs": [
    {
     "data": {
      "text/html": [
       "<div>\n",
       "<style scoped>\n",
       "    .dataframe tbody tr th:only-of-type {\n",
       "        vertical-align: middle;\n",
       "    }\n",
       "\n",
       "    .dataframe tbody tr th {\n",
       "        vertical-align: top;\n",
       "    }\n",
       "\n",
       "    .dataframe thead th {\n",
       "        text-align: right;\n",
       "    }\n",
       "</style>\n",
       "<table border=\"1\" class=\"dataframe\">\n",
       "  <thead>\n",
       "    <tr style=\"text-align: right;\">\n",
       "      <th></th>\n",
       "      <th>fit_time</th>\n",
       "      <th>score_time</th>\n",
       "      <th>test_accuracy</th>\n",
       "      <th>test_precision</th>\n",
       "      <th>test_recall</th>\n",
       "      <th>test_f1_score</th>\n",
       "    </tr>\n",
       "  </thead>\n",
       "  <tbody>\n",
       "    <tr>\n",
       "      <td>0</td>\n",
       "      <td>0.013126</td>\n",
       "      <td>0.006371</td>\n",
       "      <td>0.980040</td>\n",
       "      <td>0.980040</td>\n",
       "      <td>0.980040</td>\n",
       "      <td>0.980040</td>\n",
       "    </tr>\n",
       "    <tr>\n",
       "      <td>1</td>\n",
       "      <td>0.017153</td>\n",
       "      <td>0.003705</td>\n",
       "      <td>0.991000</td>\n",
       "      <td>0.991000</td>\n",
       "      <td>0.991000</td>\n",
       "      <td>0.991000</td>\n",
       "    </tr>\n",
       "    <tr>\n",
       "      <td>2</td>\n",
       "      <td>0.016849</td>\n",
       "      <td>0.004001</td>\n",
       "      <td>0.988000</td>\n",
       "      <td>0.988000</td>\n",
       "      <td>0.988000</td>\n",
       "      <td>0.988000</td>\n",
       "    </tr>\n",
       "    <tr>\n",
       "      <td>3</td>\n",
       "      <td>0.010723</td>\n",
       "      <td>0.004001</td>\n",
       "      <td>0.988978</td>\n",
       "      <td>0.988978</td>\n",
       "      <td>0.988978</td>\n",
       "      <td>0.988978</td>\n",
       "    </tr>\n",
       "  </tbody>\n",
       "</table>\n",
       "</div>"
      ],
      "text/plain": [
       "   fit_time  score_time  test_accuracy  test_precision  test_recall  \\\n",
       "0  0.013126    0.006371       0.980040        0.980040     0.980040   \n",
       "1  0.017153    0.003705       0.991000        0.991000     0.991000   \n",
       "2  0.016849    0.004001       0.988000        0.988000     0.988000   \n",
       "3  0.010723    0.004001       0.988978        0.988978     0.988978   \n",
       "\n",
       "   test_f1_score  \n",
       "0       0.980040  \n",
       "1       0.991000  \n",
       "2       0.988000  \n",
       "3       0.988978  "
      ]
     },
     "execution_count": 139,
     "metadata": {},
     "output_type": "execute_result"
    }
   ],
   "source": [
    "dtScore = pd.DataFrame(dtScore)\n",
    "dtScore.head()"
   ]
  },
  {
   "cell_type": "code",
   "execution_count": 140,
   "metadata": {},
   "outputs": [],
   "source": [
    "dtScore.to_csv('NSL_dtScore_ChiSquared_scores.csv')"
   ]
  },
  {
   "cell_type": "code",
   "execution_count": null,
   "metadata": {},
   "outputs": [],
   "source": []
  },
  {
   "cell_type": "code",
   "execution_count": 141,
   "metadata": {},
   "outputs": [],
   "source": [
    "dt_parameters={'min_samples_split' : range(10,500,20),'max_depth': range(1,20,2)}"
   ]
  },
  {
   "cell_type": "code",
   "execution_count": 142,
   "metadata": {},
   "outputs": [],
   "source": [
    "dt2 = tree.DecisionTreeClassifier()"
   ]
  },
  {
   "cell_type": "code",
   "execution_count": 143,
   "metadata": {},
   "outputs": [],
   "source": [
    "dlGrid = GridSearchCV(dt2, dt_parameters, scoring=scoring_metrics, refit='accuracy', verbose=3, n_jobs=-1, cv=4)"
   ]
  },
  {
   "cell_type": "code",
   "execution_count": 144,
   "metadata": {
    "scrolled": true
   },
   "outputs": [
    {
     "name": "stderr",
     "output_type": "stream",
     "text": [
      "C:\\Users\\nayer\\Anaconda3\\lib\\site-packages\\sklearn\\model_selection\\_split.py:657: Warning: The least populated class in y has only 1 members, which is too few. The minimum number of members in any class cannot be less than n_splits=4.\n",
      "  % (min_groups, self.n_splits)), Warning)\n",
      "[Parallel(n_jobs=-1)]: Using backend LokyBackend with 8 concurrent workers.\n"
     ]
    },
    {
     "name": "stdout",
     "output_type": "stream",
     "text": [
      "Fitting 4 folds for each of 250 candidates, totalling 1000 fits\n"
     ]
    },
    {
     "name": "stderr",
     "output_type": "stream",
     "text": [
      "[Parallel(n_jobs=-1)]: Done  16 tasks      | elapsed:    0.2s\n",
      "[Parallel(n_jobs=-1)]: Done 1000 out of 1000 | elapsed:    4.5s finished\n"
     ]
    },
    {
     "data": {
      "text/plain": [
       "GridSearchCV(cv=4, error_score='raise-deprecating',\n",
       "             estimator=DecisionTreeClassifier(class_weight=None,\n",
       "                                              criterion='gini', max_depth=None,\n",
       "                                              max_features=None,\n",
       "                                              max_leaf_nodes=None,\n",
       "                                              min_impurity_decrease=0.0,\n",
       "                                              min_impurity_split=None,\n",
       "                                              min_samples_leaf=1,\n",
       "                                              min_samples_split=2,\n",
       "                                              min_weight_fraction_leaf=0.0,\n",
       "                                              presort=False, random_state=None,\n",
       "                                              splitter='best'),\n",
       "             iid='warn', n...\n",
       "             param_grid={'max_depth': range(1, 20, 2),\n",
       "                         'min_samples_split': range(10, 500, 20)},\n",
       "             pre_dispatch='2*n_jobs', refit='accuracy',\n",
       "             return_train_score=False,\n",
       "             scoring={'accuracy': make_scorer(accuracy_score),\n",
       "                      'f1_score': make_scorer(f1_score, average=micro),\n",
       "                      'precision': make_scorer(precision_score, average=micro),\n",
       "                      'recall': make_scorer(recall_score, average=micro)},\n",
       "             verbose=3)"
      ]
     },
     "execution_count": 144,
     "metadata": {},
     "output_type": "execute_result"
    }
   ],
   "source": [
    "dlGrid.fit(X, y)"
   ]
  },
  {
   "cell_type": "code",
   "execution_count": 145,
   "metadata": {},
   "outputs": [],
   "source": [
    "dtGridScores = pd.DataFrame(dlGrid.cv_results_)\n",
    "dtGridScores.head()\n",
    "dtGridScores.to_csv('NSL_DT_ChiSquared_GridSearch.csv')"
   ]
  },
  {
   "cell_type": "code",
   "execution_count": 146,
   "metadata": {},
   "outputs": [
    {
     "data": {
      "text/plain": [
       "{'max_depth': 15, 'min_samples_split': 10}"
      ]
     },
     "execution_count": 146,
     "metadata": {},
     "output_type": "execute_result"
    }
   ],
   "source": [
    "dt3=dlGrid.best_estimator_\n",
    "dlGrid.best_params_"
   ]
  },
  {
   "cell_type": "code",
   "execution_count": 147,
   "metadata": {},
   "outputs": [
    {
     "name": "stderr",
     "output_type": "stream",
     "text": [
      "[Parallel(n_jobs=-1)]: Using backend LokyBackend with 8 concurrent workers.\n",
      "C:\\Users\\nayer\\Anaconda3\\lib\\site-packages\\sklearn\\model_selection\\_split.py:657: Warning: The least populated class in y has only 1 members, which is too few. The minimum number of members in any class cannot be less than n_splits=4.\n",
      "  % (min_groups, self.n_splits)), Warning)\n",
      "[Parallel(n_jobs=-1)]: Done   4 out of   4 | elapsed:    0.0s finished\n"
     ]
    }
   ],
   "source": [
    "dtFinalScore = cross_validate(dt3, X, y, cv=4, scoring=scoring_metrics, verbose=3, n_jobs=-1)"
   ]
  },
  {
   "cell_type": "code",
   "execution_count": 148,
   "metadata": {},
   "outputs": [
    {
     "data": {
      "text/plain": [
       "0.9882544710178841"
      ]
     },
     "execution_count": 148,
     "metadata": {},
     "output_type": "execute_result"
    }
   ],
   "source": [
    "dtFinalScore = pd.DataFrame(dtFinalScore)\n",
    "dtFinalScore.to_csv('NSL_DT_ChiSquared_bestEstimator.csv')\n",
    "dtFinalScore['test_precision'].mean()"
   ]
  },
  {
   "cell_type": "markdown",
   "metadata": {},
   "source": [
    "# KNN"
   ]
  },
  {
   "cell_type": "code",
   "execution_count": 149,
   "metadata": {},
   "outputs": [],
   "source": [
    "from sklearn.neighbors import KNeighborsClassifier"
   ]
  },
  {
   "cell_type": "code",
   "execution_count": 150,
   "metadata": {},
   "outputs": [],
   "source": [
    "knn = KNeighborsClassifier()"
   ]
  },
  {
   "cell_type": "code",
   "execution_count": 151,
   "metadata": {},
   "outputs": [],
   "source": [
    "k_range = list(range(1, 101, 5))"
   ]
  },
  {
   "cell_type": "code",
   "execution_count": 152,
   "metadata": {},
   "outputs": [],
   "source": [
    "param_dict = dict(n_neighbors=k_range)"
   ]
  },
  {
   "cell_type": "code",
   "execution_count": 153,
   "metadata": {},
   "outputs": [],
   "source": [
    "grid = GridSearchCV(knn, param_dict, cv=4, scoring=scoring_metrics, refit='accuracy', verbose=3, n_jobs=-1)"
   ]
  },
  {
   "cell_type": "code",
   "execution_count": 154,
   "metadata": {
    "scrolled": true
   },
   "outputs": [
    {
     "name": "stderr",
     "output_type": "stream",
     "text": [
      "C:\\Users\\nayer\\Anaconda3\\lib\\site-packages\\sklearn\\model_selection\\_split.py:657: Warning: The least populated class in y has only 1 members, which is too few. The minimum number of members in any class cannot be less than n_splits=4.\n",
      "  % (min_groups, self.n_splits)), Warning)\n",
      "[Parallel(n_jobs=-1)]: Using backend LokyBackend with 8 concurrent workers.\n"
     ]
    },
    {
     "name": "stdout",
     "output_type": "stream",
     "text": [
      "Fitting 4 folds for each of 20 candidates, totalling 80 fits\n"
     ]
    },
    {
     "name": "stderr",
     "output_type": "stream",
     "text": [
      "[Parallel(n_jobs=-1)]: Done  16 tasks      | elapsed:    1.4s\n",
      "[Parallel(n_jobs=-1)]: Done  80 out of  80 | elapsed:    8.5s finished\n"
     ]
    },
    {
     "data": {
      "text/plain": [
       "GridSearchCV(cv=4, error_score='raise-deprecating',\n",
       "             estimator=KNeighborsClassifier(algorithm='auto', leaf_size=30,\n",
       "                                            metric='minkowski',\n",
       "                                            metric_params=None, n_jobs=None,\n",
       "                                            n_neighbors=5, p=2,\n",
       "                                            weights='uniform'),\n",
       "             iid='warn', n_jobs=-1,\n",
       "             param_grid={'n_neighbors': [1, 6, 11, 16, 21, 26, 31, 36, 41, 46,\n",
       "                                         51, 56, 61, 66, 71, 76, 81, 86, 91,\n",
       "                                         96]},\n",
       "             pre_dispatch='2*n_jobs', refit='accuracy',\n",
       "             return_train_score=False,\n",
       "             scoring={'accuracy': make_scorer(accuracy_score),\n",
       "                      'f1_score': make_scorer(f1_score, average=micro),\n",
       "                      'precision': make_scorer(precision_score, average=micro),\n",
       "                      'recall': make_scorer(recall_score, average=micro)},\n",
       "             verbose=3)"
      ]
     },
     "execution_count": 154,
     "metadata": {},
     "output_type": "execute_result"
    }
   ],
   "source": [
    "grid.fit(X, y)"
   ]
  },
  {
   "cell_type": "code",
   "execution_count": 155,
   "metadata": {},
   "outputs": [],
   "source": [
    "knnScore = pd.DataFrame(grid.cv_results_)\n",
    "knnScore.to_csv('NSL_KNN_ChiSquared_GridSearch.csv')"
   ]
  },
  {
   "cell_type": "code",
   "execution_count": 156,
   "metadata": {},
   "outputs": [
    {
     "data": {
      "text/plain": [
       "{'n_neighbors': 1}"
      ]
     },
     "execution_count": 156,
     "metadata": {},
     "output_type": "execute_result"
    }
   ],
   "source": [
    "knn2=grid.best_estimator_\n",
    "grid.best_params_"
   ]
  },
  {
   "cell_type": "code",
   "execution_count": 157,
   "metadata": {},
   "outputs": [
    {
     "name": "stderr",
     "output_type": "stream",
     "text": [
      "[Parallel(n_jobs=-1)]: Using backend LokyBackend with 8 concurrent workers.\n",
      "C:\\Users\\nayer\\Anaconda3\\lib\\site-packages\\sklearn\\model_selection\\_split.py:657: Warning: The least populated class in y has only 1 members, which is too few. The minimum number of members in any class cannot be less than n_splits=4.\n",
      "  % (min_groups, self.n_splits)), Warning)\n",
      "[Parallel(n_jobs=-1)]: Done   4 out of   4 | elapsed:    0.3s finished\n"
     ]
    }
   ],
   "source": [
    "knnFinalScore = cross_validate(knn2, X, y, cv=4, scoring=scoring_metrics, verbose=3, n_jobs=-1)"
   ]
  },
  {
   "cell_type": "code",
   "execution_count": 158,
   "metadata": {},
   "outputs": [],
   "source": [
    "knnFinalScore = pd.DataFrame(knnFinalScore)"
   ]
  },
  {
   "cell_type": "code",
   "execution_count": 159,
   "metadata": {},
   "outputs": [],
   "source": [
    "knnFinalScore.to_csv('NSL_KNN_PCA_bestEstimator.csv')"
   ]
  },
  {
   "cell_type": "code",
   "execution_count": 160,
   "metadata": {},
   "outputs": [
    {
     "data": {
      "text/plain": [
       "fit_time          3.980021\n",
       "score_time        0.019681\n",
       "test_accuracy     0.969756\n",
       "test_precision    0.969756\n",
       "test_recall       0.969756\n",
       "test_f1_score     0.969756\n",
       "dtype: float64"
      ]
     },
     "execution_count": 160,
     "metadata": {},
     "output_type": "execute_result"
    }
   ],
   "source": [
    "pd.DataFrame(mlpScore).mean()"
   ]
  },
  {
   "cell_type": "code",
   "execution_count": null,
   "metadata": {},
   "outputs": [],
   "source": []
  },
  {
   "cell_type": "markdown",
   "metadata": {},
   "source": [
    "# All Results"
   ]
  },
  {
   "cell_type": "code",
   "execution_count": 161,
   "metadata": {},
   "outputs": [
    {
     "data": {
      "text/html": [
       "<div>\n",
       "<style scoped>\n",
       "    .dataframe tbody tr th:only-of-type {\n",
       "        vertical-align: middle;\n",
       "    }\n",
       "\n",
       "    .dataframe tbody tr th {\n",
       "        vertical-align: top;\n",
       "    }\n",
       "\n",
       "    .dataframe thead th {\n",
       "        text-align: right;\n",
       "    }\n",
       "</style>\n",
       "<table border=\"1\" class=\"dataframe\">\n",
       "  <thead>\n",
       "    <tr style=\"text-align: right;\">\n",
       "      <th></th>\n",
       "      <th>0</th>\n",
       "      <th>1</th>\n",
       "      <th>2</th>\n",
       "      <th>3</th>\n",
       "    </tr>\n",
       "  </thead>\n",
       "  <tbody>\n",
       "    <tr>\n",
       "      <td>fit_time</td>\n",
       "      <td>3.980021</td>\n",
       "      <td>0.016569</td>\n",
       "      <td>0.025103</td>\n",
       "      <td>0.163170</td>\n",
       "    </tr>\n",
       "    <tr>\n",
       "      <td>score_time</td>\n",
       "      <td>0.019681</td>\n",
       "      <td>0.006683</td>\n",
       "      <td>0.322414</td>\n",
       "      <td>0.062793</td>\n",
       "    </tr>\n",
       "    <tr>\n",
       "      <td>test_accuracy</td>\n",
       "      <td>0.969756</td>\n",
       "      <td>0.988254</td>\n",
       "      <td>0.963751</td>\n",
       "      <td>0.906256</td>\n",
       "    </tr>\n",
       "    <tr>\n",
       "      <td>test_precision</td>\n",
       "      <td>0.969756</td>\n",
       "      <td>0.988254</td>\n",
       "      <td>0.963751</td>\n",
       "      <td>0.906256</td>\n",
       "    </tr>\n",
       "    <tr>\n",
       "      <td>test_recall</td>\n",
       "      <td>0.969756</td>\n",
       "      <td>0.988254</td>\n",
       "      <td>0.963751</td>\n",
       "      <td>0.906256</td>\n",
       "    </tr>\n",
       "    <tr>\n",
       "      <td>test_f1_score</td>\n",
       "      <td>0.969756</td>\n",
       "      <td>0.988254</td>\n",
       "      <td>0.963751</td>\n",
       "      <td>0.906256</td>\n",
       "    </tr>\n",
       "  </tbody>\n",
       "</table>\n",
       "</div>"
      ],
      "text/plain": [
       "                       0         1         2         3\n",
       "fit_time        3.980021  0.016569  0.025103  0.163170\n",
       "score_time      0.019681  0.006683  0.322414  0.062793\n",
       "test_accuracy   0.969756  0.988254  0.963751  0.906256\n",
       "test_precision  0.969756  0.988254  0.963751  0.906256\n",
       "test_recall     0.969756  0.988254  0.963751  0.906256\n",
       "test_f1_score   0.969756  0.988254  0.963751  0.906256"
      ]
     },
     "execution_count": 161,
     "metadata": {},
     "output_type": "execute_result"
    }
   ],
   "source": [
    "allResults=pd.concat([\n",
    "    mlpScore.mean(),\n",
    "    dtFinalScore.mean(),\n",
    "    knnFinalScore.mean(),\n",
    "    randomForestScore.mean()\n",
    "], axis=1)\n",
    "allResults"
   ]
  },
  {
   "cell_type": "code",
   "execution_count": 162,
   "metadata": {},
   "outputs": [
    {
     "data": {
      "text/html": [
       "<div>\n",
       "<style scoped>\n",
       "    .dataframe tbody tr th:only-of-type {\n",
       "        vertical-align: middle;\n",
       "    }\n",
       "\n",
       "    .dataframe tbody tr th {\n",
       "        vertical-align: top;\n",
       "    }\n",
       "\n",
       "    .dataframe thead th {\n",
       "        text-align: right;\n",
       "    }\n",
       "</style>\n",
       "<table border=\"1\" class=\"dataframe\">\n",
       "  <thead>\n",
       "    <tr style=\"text-align: right;\">\n",
       "      <th></th>\n",
       "      <th>Multi-level Perceptron</th>\n",
       "      <th>Decision Tree</th>\n",
       "      <th>KNN</th>\n",
       "      <th>Random Forest</th>\n",
       "    </tr>\n",
       "  </thead>\n",
       "  <tbody>\n",
       "    <tr>\n",
       "      <td>fit_time</td>\n",
       "      <td>3.980021</td>\n",
       "      <td>0.016569</td>\n",
       "      <td>0.025103</td>\n",
       "      <td>0.163170</td>\n",
       "    </tr>\n",
       "    <tr>\n",
       "      <td>score_time</td>\n",
       "      <td>0.019681</td>\n",
       "      <td>0.006683</td>\n",
       "      <td>0.322414</td>\n",
       "      <td>0.062793</td>\n",
       "    </tr>\n",
       "    <tr>\n",
       "      <td>test_accuracy</td>\n",
       "      <td>0.969756</td>\n",
       "      <td>0.988254</td>\n",
       "      <td>0.963751</td>\n",
       "      <td>0.906256</td>\n",
       "    </tr>\n",
       "    <tr>\n",
       "      <td>test_precision</td>\n",
       "      <td>0.969756</td>\n",
       "      <td>0.988254</td>\n",
       "      <td>0.963751</td>\n",
       "      <td>0.906256</td>\n",
       "    </tr>\n",
       "    <tr>\n",
       "      <td>test_recall</td>\n",
       "      <td>0.969756</td>\n",
       "      <td>0.988254</td>\n",
       "      <td>0.963751</td>\n",
       "      <td>0.906256</td>\n",
       "    </tr>\n",
       "    <tr>\n",
       "      <td>test_f1_score</td>\n",
       "      <td>0.969756</td>\n",
       "      <td>0.988254</td>\n",
       "      <td>0.963751</td>\n",
       "      <td>0.906256</td>\n",
       "    </tr>\n",
       "  </tbody>\n",
       "</table>\n",
       "</div>"
      ],
      "text/plain": [
       "                Multi-level Perceptron  Decision Tree       KNN  Random Forest\n",
       "fit_time                      3.980021       0.016569  0.025103       0.163170\n",
       "score_time                    0.019681       0.006683  0.322414       0.062793\n",
       "test_accuracy                 0.969756       0.988254  0.963751       0.906256\n",
       "test_precision                0.969756       0.988254  0.963751       0.906256\n",
       "test_recall                   0.969756       0.988254  0.963751       0.906256\n",
       "test_f1_score                 0.969756       0.988254  0.963751       0.906256"
      ]
     },
     "execution_count": 162,
     "metadata": {},
     "output_type": "execute_result"
    }
   ],
   "source": [
    "allResults.rename(columns={0:'Multi-level Perceptron', 1:'Decision Tree', 2:'KNN' , 3:'Random Forest' },  inplace=True)\n",
    "allResults"
   ]
  },
  {
   "cell_type": "markdown",
   "metadata": {},
   "source": [
    "# All Results"
   ]
  },
  {
   "cell_type": "code",
   "execution_count": 163,
   "metadata": {},
   "outputs": [],
   "source": [
    "allResults.to_csv('NSL_ChiSquared_Final.csv')"
   ]
  },
  {
   "cell_type": "code",
   "execution_count": null,
   "metadata": {},
   "outputs": [],
   "source": []
  },
  {
   "cell_type": "code",
   "execution_count": null,
   "metadata": {},
   "outputs": [],
   "source": []
  },
  {
   "cell_type": "code",
   "execution_count": null,
   "metadata": {},
   "outputs": [],
   "source": []
  },
  {
   "cell_type": "code",
   "execution_count": null,
   "metadata": {},
   "outputs": [],
   "source": []
  },
  {
   "cell_type": "code",
   "execution_count": null,
   "metadata": {},
   "outputs": [],
   "source": []
  },
  {
   "cell_type": "code",
   "execution_count": null,
   "metadata": {},
   "outputs": [],
   "source": []
  },
  {
   "cell_type": "code",
   "execution_count": null,
   "metadata": {},
   "outputs": [],
   "source": []
  },
  {
   "cell_type": "code",
   "execution_count": null,
   "metadata": {},
   "outputs": [],
   "source": []
  },
  {
   "cell_type": "code",
   "execution_count": null,
   "metadata": {},
   "outputs": [],
   "source": []
  },
  {
   "cell_type": "code",
   "execution_count": null,
   "metadata": {},
   "outputs": [],
   "source": []
  },
  {
   "cell_type": "code",
   "execution_count": null,
   "metadata": {},
   "outputs": [],
   "source": []
  }
 ],
 "metadata": {
  "kernelspec": {
   "display_name": "Python 3",
   "language": "python",
   "name": "python3"
  },
  "language_info": {
   "codemirror_mode": {
    "name": "ipython",
    "version": 3
   },
   "file_extension": ".py",
   "mimetype": "text/x-python",
   "name": "python",
   "nbconvert_exporter": "python",
   "pygments_lexer": "ipython3",
   "version": "3.7.4"
  }
 },
 "nbformat": 4,
 "nbformat_minor": 2
}
