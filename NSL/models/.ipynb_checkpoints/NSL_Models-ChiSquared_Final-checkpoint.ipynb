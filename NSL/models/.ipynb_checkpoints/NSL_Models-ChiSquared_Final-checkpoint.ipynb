{
 "cells": [
  {
   "cell_type": "code",
   "execution_count": 1,
   "metadata": {},
   "outputs": [],
   "source": [
    "import pandas as pd\n",
    "import numpy as np"
   ]
  },
  {
   "cell_type": "code",
   "execution_count": 2,
   "metadata": {},
   "outputs": [],
   "source": [
    "from sklearn.model_selection import cross_val_score\n",
    "from sklearn.model_selection import cross_validate\n",
    "from sklearn.feature_selection import SelectKBest\n",
    "from sklearn.feature_selection import f_classif\n",
    "from sklearn.metrics import fbeta_score, make_scorer\n",
    "from sklearn.metrics import make_scorer, accuracy_score, precision_score, recall_score, f1_score\n"
   ]
  },
  {
   "cell_type": "markdown",
   "metadata": {},
   "source": [
    "# Reading Data"
   ]
  },
  {
   "cell_type": "code",
   "execution_count": 3,
   "metadata": {
    "scrolled": true
   },
   "outputs": [],
   "source": [
    "df = pd.read_csv('../Dataset/NSL_new.csv')"
   ]
  },
  {
   "cell_type": "code",
   "execution_count": 4,
   "metadata": {},
   "outputs": [],
   "source": [
    "df = df.sample(n=4000)"
   ]
  },
  {
   "cell_type": "code",
   "execution_count": 5,
   "metadata": {},
   "outputs": [],
   "source": [
    "X = df.drop(['label'], axis=1)\n",
    "y = df['label']"
   ]
  },
  {
   "cell_type": "code",
   "execution_count": 6,
   "metadata": {},
   "outputs": [],
   "source": [
    "scoring_metrics = {'accuracy' : make_scorer(accuracy_score), \n",
    "           'precision' : make_scorer(precision_score, average=\"micro\"),\n",
    "           'recall' : make_scorer(recall_score, average=\"micro\"), \n",
    "           'f1_score' : make_scorer(f1_score, average=\"micro\")}"
   ]
  },
  {
   "cell_type": "code",
   "execution_count": 7,
   "metadata": {},
   "outputs": [
    {
     "data": {
      "text/html": [
       "<div>\n",
       "<style scoped>\n",
       "    .dataframe tbody tr th:only-of-type {\n",
       "        vertical-align: middle;\n",
       "    }\n",
       "\n",
       "    .dataframe tbody tr th {\n",
       "        vertical-align: top;\n",
       "    }\n",
       "\n",
       "    .dataframe thead th {\n",
       "        text-align: right;\n",
       "    }\n",
       "</style>\n",
       "<table border=\"1\" class=\"dataframe\">\n",
       "  <thead>\n",
       "    <tr style=\"text-align: right;\">\n",
       "      <th></th>\n",
       "      <th>duration</th>\n",
       "      <th>src_bytes</th>\n",
       "      <th>dst_bytes</th>\n",
       "      <th>land</th>\n",
       "      <th>wrong_fragment</th>\n",
       "      <th>urgent</th>\n",
       "      <th>hot</th>\n",
       "      <th>num_failed_logins</th>\n",
       "      <th>logged_in</th>\n",
       "      <th>num_compromised</th>\n",
       "      <th>...</th>\n",
       "      <th>flag_RSTO</th>\n",
       "      <th>flag_RSTOS0</th>\n",
       "      <th>flag_RSTR</th>\n",
       "      <th>flag_S0</th>\n",
       "      <th>flag_S1</th>\n",
       "      <th>flag_S2</th>\n",
       "      <th>flag_S3</th>\n",
       "      <th>flag_SF</th>\n",
       "      <th>flag_SH</th>\n",
       "      <th>label</th>\n",
       "    </tr>\n",
       "  </thead>\n",
       "  <tbody>\n",
       "    <tr>\n",
       "      <td>38682</td>\n",
       "      <td>0</td>\n",
       "      <td>0</td>\n",
       "      <td>0</td>\n",
       "      <td>0</td>\n",
       "      <td>0</td>\n",
       "      <td>0</td>\n",
       "      <td>0</td>\n",
       "      <td>0</td>\n",
       "      <td>0</td>\n",
       "      <td>0</td>\n",
       "      <td>...</td>\n",
       "      <td>0</td>\n",
       "      <td>0</td>\n",
       "      <td>0</td>\n",
       "      <td>1</td>\n",
       "      <td>0</td>\n",
       "      <td>0</td>\n",
       "      <td>0</td>\n",
       "      <td>0</td>\n",
       "      <td>0</td>\n",
       "      <td>neptune</td>\n",
       "    </tr>\n",
       "    <tr>\n",
       "      <td>13509</td>\n",
       "      <td>0</td>\n",
       "      <td>350</td>\n",
       "      <td>13336</td>\n",
       "      <td>0</td>\n",
       "      <td>0</td>\n",
       "      <td>0</td>\n",
       "      <td>0</td>\n",
       "      <td>0</td>\n",
       "      <td>1</td>\n",
       "      <td>0</td>\n",
       "      <td>...</td>\n",
       "      <td>0</td>\n",
       "      <td>0</td>\n",
       "      <td>0</td>\n",
       "      <td>0</td>\n",
       "      <td>0</td>\n",
       "      <td>0</td>\n",
       "      <td>0</td>\n",
       "      <td>1</td>\n",
       "      <td>0</td>\n",
       "      <td>normal</td>\n",
       "    </tr>\n",
       "    <tr>\n",
       "      <td>97156</td>\n",
       "      <td>0</td>\n",
       "      <td>181</td>\n",
       "      <td>11928</td>\n",
       "      <td>0</td>\n",
       "      <td>0</td>\n",
       "      <td>0</td>\n",
       "      <td>0</td>\n",
       "      <td>0</td>\n",
       "      <td>1</td>\n",
       "      <td>0</td>\n",
       "      <td>...</td>\n",
       "      <td>0</td>\n",
       "      <td>0</td>\n",
       "      <td>0</td>\n",
       "      <td>0</td>\n",
       "      <td>0</td>\n",
       "      <td>0</td>\n",
       "      <td>0</td>\n",
       "      <td>1</td>\n",
       "      <td>0</td>\n",
       "      <td>normal</td>\n",
       "    </tr>\n",
       "    <tr>\n",
       "      <td>86891</td>\n",
       "      <td>0</td>\n",
       "      <td>0</td>\n",
       "      <td>0</td>\n",
       "      <td>0</td>\n",
       "      <td>0</td>\n",
       "      <td>0</td>\n",
       "      <td>0</td>\n",
       "      <td>0</td>\n",
       "      <td>0</td>\n",
       "      <td>0</td>\n",
       "      <td>...</td>\n",
       "      <td>0</td>\n",
       "      <td>0</td>\n",
       "      <td>0</td>\n",
       "      <td>1</td>\n",
       "      <td>0</td>\n",
       "      <td>0</td>\n",
       "      <td>0</td>\n",
       "      <td>0</td>\n",
       "      <td>0</td>\n",
       "      <td>neptune</td>\n",
       "    </tr>\n",
       "    <tr>\n",
       "      <td>83778</td>\n",
       "      <td>204</td>\n",
       "      <td>87</td>\n",
       "      <td>30</td>\n",
       "      <td>0</td>\n",
       "      <td>0</td>\n",
       "      <td>0</td>\n",
       "      <td>0</td>\n",
       "      <td>0</td>\n",
       "      <td>0</td>\n",
       "      <td>0</td>\n",
       "      <td>...</td>\n",
       "      <td>0</td>\n",
       "      <td>0</td>\n",
       "      <td>0</td>\n",
       "      <td>0</td>\n",
       "      <td>0</td>\n",
       "      <td>0</td>\n",
       "      <td>0</td>\n",
       "      <td>1</td>\n",
       "      <td>0</td>\n",
       "      <td>normal</td>\n",
       "    </tr>\n",
       "  </tbody>\n",
       "</table>\n",
       "<p>5 rows × 123 columns</p>\n",
       "</div>"
      ],
      "text/plain": [
       "       duration  src_bytes  dst_bytes  land  wrong_fragment  urgent  hot  \\\n",
       "38682         0          0          0     0               0       0    0   \n",
       "13509         0        350      13336     0               0       0    0   \n",
       "97156         0        181      11928     0               0       0    0   \n",
       "86891         0          0          0     0               0       0    0   \n",
       "83778       204         87         30     0               0       0    0   \n",
       "\n",
       "       num_failed_logins  logged_in  num_compromised  ...  flag_RSTO  \\\n",
       "38682                  0          0                0  ...          0   \n",
       "13509                  0          1                0  ...          0   \n",
       "97156                  0          1                0  ...          0   \n",
       "86891                  0          0                0  ...          0   \n",
       "83778                  0          0                0  ...          0   \n",
       "\n",
       "       flag_RSTOS0  flag_RSTR  flag_S0  flag_S1  flag_S2  flag_S3  flag_SF  \\\n",
       "38682            0          0        1        0        0        0        0   \n",
       "13509            0          0        0        0        0        0        1   \n",
       "97156            0          0        0        0        0        0        1   \n",
       "86891            0          0        1        0        0        0        0   \n",
       "83778            0          0        0        0        0        0        1   \n",
       "\n",
       "       flag_SH    label  \n",
       "38682        0  neptune  \n",
       "13509        0   normal  \n",
       "97156        0   normal  \n",
       "86891        0  neptune  \n",
       "83778        0   normal  \n",
       "\n",
       "[5 rows x 123 columns]"
      ]
     },
     "execution_count": 7,
     "metadata": {},
     "output_type": "execute_result"
    }
   ],
   "source": [
    "df.head()"
   ]
  },
  {
   "cell_type": "code",
   "execution_count": 8,
   "metadata": {
    "scrolled": true
   },
   "outputs": [
    {
     "data": {
      "text/html": [
       "<div>\n",
       "<style scoped>\n",
       "    .dataframe tbody tr th:only-of-type {\n",
       "        vertical-align: middle;\n",
       "    }\n",
       "\n",
       "    .dataframe tbody tr th {\n",
       "        vertical-align: top;\n",
       "    }\n",
       "\n",
       "    .dataframe thead th {\n",
       "        text-align: right;\n",
       "    }\n",
       "</style>\n",
       "<table border=\"1\" class=\"dataframe\">\n",
       "  <thead>\n",
       "    <tr style=\"text-align: right;\">\n",
       "      <th></th>\n",
       "      <th>duration</th>\n",
       "      <th>src_bytes</th>\n",
       "      <th>dst_bytes</th>\n",
       "      <th>land</th>\n",
       "      <th>wrong_fragment</th>\n",
       "      <th>urgent</th>\n",
       "      <th>hot</th>\n",
       "      <th>num_failed_logins</th>\n",
       "      <th>logged_in</th>\n",
       "      <th>num_compromised</th>\n",
       "      <th>...</th>\n",
       "      <th>flag_REJ</th>\n",
       "      <th>flag_RSTO</th>\n",
       "      <th>flag_RSTOS0</th>\n",
       "      <th>flag_RSTR</th>\n",
       "      <th>flag_S0</th>\n",
       "      <th>flag_S1</th>\n",
       "      <th>flag_S2</th>\n",
       "      <th>flag_S3</th>\n",
       "      <th>flag_SF</th>\n",
       "      <th>flag_SH</th>\n",
       "    </tr>\n",
       "  </thead>\n",
       "  <tbody>\n",
       "    <tr>\n",
       "      <td>38682</td>\n",
       "      <td>0</td>\n",
       "      <td>0</td>\n",
       "      <td>0</td>\n",
       "      <td>0</td>\n",
       "      <td>0</td>\n",
       "      <td>0</td>\n",
       "      <td>0</td>\n",
       "      <td>0</td>\n",
       "      <td>0</td>\n",
       "      <td>0</td>\n",
       "      <td>...</td>\n",
       "      <td>0</td>\n",
       "      <td>0</td>\n",
       "      <td>0</td>\n",
       "      <td>0</td>\n",
       "      <td>1</td>\n",
       "      <td>0</td>\n",
       "      <td>0</td>\n",
       "      <td>0</td>\n",
       "      <td>0</td>\n",
       "      <td>0</td>\n",
       "    </tr>\n",
       "    <tr>\n",
       "      <td>13509</td>\n",
       "      <td>0</td>\n",
       "      <td>350</td>\n",
       "      <td>13336</td>\n",
       "      <td>0</td>\n",
       "      <td>0</td>\n",
       "      <td>0</td>\n",
       "      <td>0</td>\n",
       "      <td>0</td>\n",
       "      <td>1</td>\n",
       "      <td>0</td>\n",
       "      <td>...</td>\n",
       "      <td>0</td>\n",
       "      <td>0</td>\n",
       "      <td>0</td>\n",
       "      <td>0</td>\n",
       "      <td>0</td>\n",
       "      <td>0</td>\n",
       "      <td>0</td>\n",
       "      <td>0</td>\n",
       "      <td>1</td>\n",
       "      <td>0</td>\n",
       "    </tr>\n",
       "    <tr>\n",
       "      <td>97156</td>\n",
       "      <td>0</td>\n",
       "      <td>181</td>\n",
       "      <td>11928</td>\n",
       "      <td>0</td>\n",
       "      <td>0</td>\n",
       "      <td>0</td>\n",
       "      <td>0</td>\n",
       "      <td>0</td>\n",
       "      <td>1</td>\n",
       "      <td>0</td>\n",
       "      <td>...</td>\n",
       "      <td>0</td>\n",
       "      <td>0</td>\n",
       "      <td>0</td>\n",
       "      <td>0</td>\n",
       "      <td>0</td>\n",
       "      <td>0</td>\n",
       "      <td>0</td>\n",
       "      <td>0</td>\n",
       "      <td>1</td>\n",
       "      <td>0</td>\n",
       "    </tr>\n",
       "    <tr>\n",
       "      <td>86891</td>\n",
       "      <td>0</td>\n",
       "      <td>0</td>\n",
       "      <td>0</td>\n",
       "      <td>0</td>\n",
       "      <td>0</td>\n",
       "      <td>0</td>\n",
       "      <td>0</td>\n",
       "      <td>0</td>\n",
       "      <td>0</td>\n",
       "      <td>0</td>\n",
       "      <td>...</td>\n",
       "      <td>0</td>\n",
       "      <td>0</td>\n",
       "      <td>0</td>\n",
       "      <td>0</td>\n",
       "      <td>1</td>\n",
       "      <td>0</td>\n",
       "      <td>0</td>\n",
       "      <td>0</td>\n",
       "      <td>0</td>\n",
       "      <td>0</td>\n",
       "    </tr>\n",
       "    <tr>\n",
       "      <td>83778</td>\n",
       "      <td>204</td>\n",
       "      <td>87</td>\n",
       "      <td>30</td>\n",
       "      <td>0</td>\n",
       "      <td>0</td>\n",
       "      <td>0</td>\n",
       "      <td>0</td>\n",
       "      <td>0</td>\n",
       "      <td>0</td>\n",
       "      <td>0</td>\n",
       "      <td>...</td>\n",
       "      <td>0</td>\n",
       "      <td>0</td>\n",
       "      <td>0</td>\n",
       "      <td>0</td>\n",
       "      <td>0</td>\n",
       "      <td>0</td>\n",
       "      <td>0</td>\n",
       "      <td>0</td>\n",
       "      <td>1</td>\n",
       "      <td>0</td>\n",
       "    </tr>\n",
       "  </tbody>\n",
       "</table>\n",
       "<p>5 rows × 122 columns</p>\n",
       "</div>"
      ],
      "text/plain": [
       "       duration  src_bytes  dst_bytes  land  wrong_fragment  urgent  hot  \\\n",
       "38682         0          0          0     0               0       0    0   \n",
       "13509         0        350      13336     0               0       0    0   \n",
       "97156         0        181      11928     0               0       0    0   \n",
       "86891         0          0          0     0               0       0    0   \n",
       "83778       204         87         30     0               0       0    0   \n",
       "\n",
       "       num_failed_logins  logged_in  num_compromised  ...  flag_REJ  \\\n",
       "38682                  0          0                0  ...         0   \n",
       "13509                  0          1                0  ...         0   \n",
       "97156                  0          1                0  ...         0   \n",
       "86891                  0          0                0  ...         0   \n",
       "83778                  0          0                0  ...         0   \n",
       "\n",
       "       flag_RSTO  flag_RSTOS0  flag_RSTR  flag_S0  flag_S1  flag_S2  flag_S3  \\\n",
       "38682          0            0          0        1        0        0        0   \n",
       "13509          0            0          0        0        0        0        0   \n",
       "97156          0            0          0        0        0        0        0   \n",
       "86891          0            0          0        1        0        0        0   \n",
       "83778          0            0          0        0        0        0        0   \n",
       "\n",
       "       flag_SF  flag_SH  \n",
       "38682        0        0  \n",
       "13509        1        0  \n",
       "97156        1        0  \n",
       "86891        0        0  \n",
       "83778        1        0  \n",
       "\n",
       "[5 rows x 122 columns]"
      ]
     },
     "execution_count": 8,
     "metadata": {},
     "output_type": "execute_result"
    }
   ],
   "source": [
    "X.head()"
   ]
  },
  {
   "cell_type": "code",
   "execution_count": 9,
   "metadata": {},
   "outputs": [
    {
     "data": {
      "text/plain": [
       "38682    neptune\n",
       "13509     normal\n",
       "97156     normal\n",
       "86891    neptune\n",
       "83778     normal\n",
       "Name: label, dtype: object"
      ]
     },
     "execution_count": 9,
     "metadata": {},
     "output_type": "execute_result"
    }
   ],
   "source": [
    "y.head()"
   ]
  },
  {
   "cell_type": "code",
   "execution_count": 10,
   "metadata": {},
   "outputs": [],
   "source": [
    "y = y.replace( to_replace =  'normal' , value = 0 )\n",
    "\n",
    "y = y.replace( to_replace =  'neptune' , value = 1 )\n",
    "y = y.replace( to_replace =  'back' , value = 1 )\n",
    "y = y.replace( to_replace =  'land' , value = 1 )\n",
    "y = y.replace( to_replace =  'pod' , value = 1 )\n",
    "y = y.replace( to_replace =  'smurf' , value = 1 )\n",
    "y = y.replace( to_replace =  'teardrop' , value = 1 )\n",
    "y = y.replace( to_replace =  'mailbomb' , value = 1 )\n",
    "y = y.replace( to_replace =  'apache2' , value = 1 )\n",
    "y = y.replace( to_replace =  'processtable' , value = 1 )\n",
    "y = y.replace( to_replace =  'udpstorm' , value = 1 )\n",
    "y = y.replace( to_replace =  'worm' , value = 1 )\n",
    "\n",
    "y = y.replace( to_replace =  'ipsweep' , value = 2 )\n",
    "y = y.replace( to_replace =  'nmap' , value = 2 )\n",
    "y = y.replace( to_replace =  'portsweep' , value = 2 )\n",
    "y = y.replace( to_replace =  'satan' , value = 2 )\n",
    "y = y.replace( to_replace =  'mscan' , value = 2 )\n",
    "y = y.replace( to_replace =  'saint' , value = 2 )\n",
    "\n",
    "y = y.replace( to_replace =  'ftp_write' , value = 3 )\n",
    "y = y.replace( to_replace =  'guess_passwd' , value = 3 )\n",
    "y = y.replace( to_replace =  'imap' , value = 3)\n",
    "y = y.replace( to_replace =  'multihop' , value = 3 )\n",
    "y = y.replace( to_replace =  'phf' , value = 3 )\n",
    "y = y.replace( to_replace =  'spy' , value = 3 )\n",
    "y = y.replace( to_replace =  'warezclient' , value = 3 )\n",
    "y = y.replace( to_replace =  'warezmaster' , value = 3 )\n",
    "y = y.replace( to_replace =  'sendmail' , value = 3 )\n",
    "y = y.replace( to_replace =  'snmpgetattack' , value = 3 )\n",
    "y = y.replace( to_replace =  'snmpguess' , value = 3 )\n",
    "y = y.replace( to_replace =  'xlock' , value = 3 )\n",
    "y = y.replace( to_replace =  'xsnoop' , value = 3 )\n",
    "y = y.replace( to_replace =  'httptunnel' , value = 3 )\n",
    "\n",
    "y = y.replace( to_replace =  'buffer_overflow' , value = 4 )\n",
    "y = y.replace( to_replace =  'loadmodule' , value = 4 )\n",
    "y = y.replace( to_replace =  'perl' , value = 4 )\n",
    "y = y.replace( to_replace =  'rootkit' , value = 4 )\n",
    "y = y.replace( to_replace =  'ps' , value = 4 )\n",
    "y = y.replace( to_replace =  'sqlattack' , value = 4  )\n",
    "y = y.replace( to_replace =  'xterm' , value = 4 )\n",
    "\n",
    "y = y.replace( to_replace =  'unknown' , value = 5 )"
   ]
  },
  {
   "cell_type": "code",
   "execution_count": 11,
   "metadata": {
    "scrolled": true
   },
   "outputs": [
    {
     "data": {
      "text/plain": [
       "38682    1\n",
       "13509    0\n",
       "97156    0\n",
       "86891    1\n",
       "83778    0\n",
       "Name: label, dtype: int64"
      ]
     },
     "execution_count": 11,
     "metadata": {},
     "output_type": "execute_result"
    }
   ],
   "source": [
    "y.head()"
   ]
  },
  {
   "cell_type": "markdown",
   "metadata": {},
   "source": [
    "# ChiSquared"
   ]
  },
  {
   "cell_type": "code",
   "execution_count": 12,
   "metadata": {},
   "outputs": [],
   "source": [
    "import matplotlib.pyplot as plt\n",
    "\n",
    "from sklearn.datasets import load_iris\n",
    "from sklearn.model_selection import train_test_split\n",
    "from sklearn.preprocessing import MinMaxScaler\n",
    "from sklearn.svm import LinearSVC\n",
    "from sklearn.pipeline import make_pipeline\n",
    "from sklearn.feature_selection import SelectKBest, chi2"
   ]
  },
  {
   "cell_type": "code",
   "execution_count": 13,
   "metadata": {},
   "outputs": [
    {
     "name": "stdout",
     "output_type": "stream",
     "text": [
      "before transform:         duration  src_bytes  dst_bytes  land  wrong_fragment  urgent  hot  \\\n",
      "38682          0          0          0     0               0       0    0   \n",
      "13509          0        350      13336     0               0       0    0   \n",
      "97156          0        181      11928     0               0       0    0   \n",
      "86891          0          0          0     0               0       0    0   \n",
      "83778        204         87         30     0               0       0    0   \n",
      "...          ...        ...        ...   ...             ...     ...  ...   \n",
      "13673          0          0          0     0               0       0    0   \n",
      "48335          0          0          0     0               0       0    0   \n",
      "31668          0          0          0     0               0       0    0   \n",
      "115937         0       1480          0     0               1       0    0   \n",
      "101584         0          0          0     0               0       0    0   \n",
      "\n",
      "        num_failed_logins  logged_in  num_compromised  ...  flag_REJ  \\\n",
      "38682                   0          0                0  ...         0   \n",
      "13509                   0          1                0  ...         0   \n",
      "97156                   0          1                0  ...         0   \n",
      "86891                   0          0                0  ...         0   \n",
      "83778                   0          0                0  ...         0   \n",
      "...                   ...        ...              ...  ...       ...   \n",
      "13673                   0          0                0  ...         0   \n",
      "48335                   0          0                0  ...         0   \n",
      "31668                   0          0                0  ...         0   \n",
      "115937                  0          0                0  ...         0   \n",
      "101584                  0          0                0  ...         0   \n",
      "\n",
      "        flag_RSTO  flag_RSTOS0  flag_RSTR  flag_S0  flag_S1  flag_S2  flag_S3  \\\n",
      "38682           0            0          0        1        0        0        0   \n",
      "13509           0            0          0        0        0        0        0   \n",
      "97156           0            0          0        0        0        0        0   \n",
      "86891           0            0          0        1        0        0        0   \n",
      "83778           0            0          0        0        0        0        0   \n",
      "...           ...          ...        ...      ...      ...      ...      ...   \n",
      "13673           0            0          0        1        0        0        0   \n",
      "48335           0            0          0        1        0        0        0   \n",
      "31668           0            0          0        1        0        0        0   \n",
      "115937          0            0          0        0        0        0        0   \n",
      "101584          0            0          0        1        0        0        0   \n",
      "\n",
      "        flag_SF  flag_SH  \n",
      "38682         0        0  \n",
      "13509         1        0  \n",
      "97156         1        0  \n",
      "86891         0        0  \n",
      "83778         1        0  \n",
      "...         ...      ...  \n",
      "13673         0        0  \n",
      "48335         0        0  \n",
      "31668         0        0  \n",
      "115937        1        0  \n",
      "101584        0        0  \n",
      "\n",
      "[4000 rows x 122 columns]\n",
      "scores_: [5.61670647e+06 8.04617830e+08 8.58600436e+06 3.87533443e-01\n",
      " 1.33655172e+02            nan 5.72512733e+03 3.04677688e+01\n",
      " 1.20714862e+03 3.04062194e+02 3.02640999e+02 5.10596946e+00\n",
      " 4.54431282e+02 3.34167052e+02 1.70198982e+00 1.70021615e+01\n",
      "            nan            nan 2.36564652e+02 2.38028209e+05\n",
      " 5.27062449e+03 1.77173996e+03 1.78910624e+03 4.78071215e+02\n",
      " 4.65755079e+02 8.17580987e+02 2.60465782e+02 2.59465511e+02\n",
      " 4.82440703e+04 2.36697929e+05 8.47677894e+02 5.24345052e+02\n",
      " 8.67011688e+02 2.74274450e+02 1.78824330e+03 1.83965343e+03\n",
      " 3.74589170e+02 4.71415710e+02 5.08539654e+02 6.13796653e+01\n",
      " 2.14378203e+02 6.80795928e+00 4.25497455e+00 3.72754075e+01\n",
      " 1.02994350e+01 1.86547148e+01 2.98965517e+01 3.72754075e+01\n",
      " 2.63793103e+01 4.04482759e+01 3.51724138e+01 2.53389010e+01\n",
      " 2.19642959e+01 2.51043498e+02 1.05517241e+01 1.01334262e+03\n",
      " 9.21242256e+01 4.04482759e+01 4.22068966e+01 3.93959221e+01\n",
      " 1.82129092e+02 3.32343927e+02 1.34223651e+01            nan\n",
      " 3.16551724e+01 8.52151339e+02            nan 2.98965517e+01\n",
      "            nan 1.93448276e+01 4.07475910e+01 2.69189341e+01\n",
      " 1.23103448e+01 2.46206897e+01 1.90936424e+01 2.17992727e+01\n",
      " 1.93448276e+01 4.07475910e+01 1.67577115e+01 2.28620690e+01\n",
      " 2.63793103e+01 2.17992727e+01 2.81379310e+01 1.90936424e+01\n",
      " 4.25497455e+00 1.52242559e+02            nan 3.51724138e+00\n",
      " 2.02647822e+00 6.08747321e+00 6.81932567e+02 8.50994910e-01\n",
      "            nan 5.27586207e+00 5.27586207e+00 1.54832519e+02\n",
      " 1.05517241e+01 1.18723510e+01 1.84262165e+01 3.20832243e+01\n",
      " 1.58275862e+01 4.58399135e+01            nan            nan\n",
      " 2.57892039e+01 1.70198982e+00 1.64426509e+01 3.55422543e+01\n",
      " 4.74827586e+01 5.62758621e+01 2.52062548e+01 1.02994350e+01\n",
      " 1.66163009e+02 3.72116148e+01 4.11977401e+01 6.85034314e+02\n",
      " 1.88744646e+03 8.50994910e+00 2.55298473e+00 1.70198982e+00\n",
      " 1.09349800e+03 9.26949153e+01]\n",
      "pvalues_: [0.00000000e+000 0.00000000e+000 0.00000000e+000 9.83484795e-001\n",
      " 6.43508716e-028             nan 0.00000000e+000 3.93034348e-006\n",
      " 4.49218591e-260 1.44050001e-064 2.91810150e-064 2.76596169e-001\n",
      " 4.78460795e-097 4.59273861e-071 7.90356139e-001 1.93108126e-003\n",
      "             nan             nan 5.09582723e-050 0.00000000e+000\n",
      " 0.00000000e+000 0.00000000e+000 0.00000000e+000 3.70194911e-102\n",
      " 1.70434783e-099 1.19428047e-175 3.61923545e-055 5.94517361e-055\n",
      " 0.00000000e+000 0.00000000e+000 3.60834816e-182 3.63211119e-112\n",
      " 2.33775835e-186 3.82270328e-058 0.00000000e+000 0.00000000e+000\n",
      " 8.58683538e-080 1.01763481e-100 9.52832772e-109 1.48763015e-012\n",
      " 3.03772269e-045 1.46391455e-001 3.72597183e-001 1.58066127e-007\n",
      " 3.56747770e-002 9.18690798e-004 5.13759681e-006 1.58066127e-007\n",
      " 2.65324517e-005 3.49621840e-008 4.28152175e-007 4.30010055e-005\n",
      " 2.03726920e-004 3.87937851e-053 3.20919130e-002 4.58172484e-218\n",
      " 4.65746944e-019 3.49621840e-008 1.51129378e-008 5.77047770e-008\n",
      " 2.60173267e-038 1.13657120e-070 9.38623532e-003             nan\n",
      " 2.25003085e-006 3.87429436e-183             nan 5.13759681e-006\n",
      "             nan 6.72336546e-004 3.03147987e-008 2.06433421e-005\n",
      " 1.51866746e-002 5.99617746e-005 7.53337884e-004 2.19726163e-004\n",
      " 6.72336546e-004 3.03147987e-008 2.15406613e-003 1.34918677e-004\n",
      " 2.65324517e-005 2.19726163e-004 1.16952457e-005 7.53337884e-004\n",
      " 3.72597183e-001 6.73166479e-032             nan 4.75261602e-001\n",
      " 7.30888627e-001 1.92710264e-001 2.84582260e-146 9.31483678e-001\n",
      "             nan 2.60145052e-001 2.60145052e-001 1.87478619e-032\n",
      " 3.20919130e-002 1.83261740e-002 1.01848788e-003 1.83961539e-006\n",
      " 3.25946164e-003 2.65919174e-009             nan             nan\n",
      " 3.48972841e-005 7.90356139e-001 2.47923142e-003 3.59408127e-007\n",
      " 1.20968941e-009 1.75513502e-011 4.57267232e-005 3.56747770e-002\n",
      " 6.96404311e-035 1.62924067e-007 2.44599426e-008 6.06229585e-147\n",
      " 0.00000000e+000 7.45862289e-002 6.35173847e-001 7.90356139e-001\n",
      " 1.94315970e-235 3.52250458e-019]\n",
      "selected index: [  0   1   2   6   8  19  20  21  22  23  25  28  29  30  31  32  34  35\n",
      "  38  55  65  90 115 116 120]\n",
      "after transform: [[0.0000e+00 0.0000e+00 0.0000e+00 ... 0.0000e+00 1.0000e+00 0.0000e+00]\n",
      " [0.0000e+00 3.5000e+02 1.3336e+04 ... 0.0000e+00 0.0000e+00 1.0000e+00]\n",
      " [0.0000e+00 1.8100e+02 1.1928e+04 ... 0.0000e+00 0.0000e+00 1.0000e+00]\n",
      " ...\n",
      " [0.0000e+00 0.0000e+00 0.0000e+00 ... 0.0000e+00 1.0000e+00 0.0000e+00]\n",
      " [0.0000e+00 1.4800e+03 0.0000e+00 ... 0.0000e+00 0.0000e+00 1.0000e+00]\n",
      " [0.0000e+00 0.0000e+00 0.0000e+00 ... 0.0000e+00 1.0000e+00 0.0000e+00]]\n"
     ]
    }
   ],
   "source": [
    "print(\"before transform:\",X)\n",
    "selector=SelectKBest(score_func=chi2,k=25)\n",
    "fit = selector.fit(X,y)\n",
    "features = fit.transform(X)\n",
    "print(\"scores_:\",fit.scores_)\n",
    "print(\"pvalues_:\",fit.pvalues_)\n",
    "print(\"selected index:\",fit.get_support(True))\n",
    "print(\"after transform:\",fit.transform(X)) \n",
    "X = fit.transform(X)"
   ]
  },
  {
   "cell_type": "markdown",
   "metadata": {},
   "source": [
    "# Random Forest"
   ]
  },
  {
   "cell_type": "code",
   "execution_count": 14,
   "metadata": {},
   "outputs": [],
   "source": [
    "from sklearn.ensemble import RandomForestClassifier"
   ]
  },
  {
   "cell_type": "code",
   "execution_count": 15,
   "metadata": {},
   "outputs": [],
   "source": [
    "randomForestModel = RandomForestClassifier(max_depth=2, random_state=0, n_estimators=100)"
   ]
  },
  {
   "cell_type": "code",
   "execution_count": 17,
   "metadata": {
    "scrolled": true
   },
   "outputs": [
    {
     "name": "stderr",
     "output_type": "stream",
     "text": [
      "[Parallel(n_jobs=-1)]: Using backend LokyBackend with 8 concurrent workers.\n",
      "C:\\Users\\nayer\\Anaconda3\\lib\\site-packages\\sklearn\\model_selection\\_split.py:657: Warning: The least populated class in y has only 2 members, which is too few. The minimum number of members in any class cannot be less than n_splits=4.\n",
      "  % (min_groups, self.n_splits)), Warning)\n",
      "[Parallel(n_jobs=-1)]: Done   4 out of   4 | elapsed:    3.4s finished\n"
     ]
    }
   ],
   "source": [
    "randomForestScore = cross_validate(randomForestModel, X, y, cv=4, scoring=scoring_metrics, verbose=3 ,n_jobs=-1)"
   ]
  },
  {
   "cell_type": "code",
   "execution_count": null,
   "metadata": {
    "scrolled": true
   },
   "outputs": [],
   "source": []
  },
  {
   "cell_type": "code",
   "execution_count": 18,
   "metadata": {
    "scrolled": true
   },
   "outputs": [],
   "source": [
    "randomForestScore = pd.DataFrame(randomForestScore)"
   ]
  },
  {
   "cell_type": "code",
   "execution_count": 19,
   "metadata": {},
   "outputs": [],
   "source": [
    "randomForestScore.to_csv('NSL_RandomForest_ChiSquared_scores.csv')"
   ]
  },
  {
   "cell_type": "code",
   "execution_count": 20,
   "metadata": {},
   "outputs": [
    {
     "data": {
      "text/html": [
       "<div>\n",
       "<style scoped>\n",
       "    .dataframe tbody tr th:only-of-type {\n",
       "        vertical-align: middle;\n",
       "    }\n",
       "\n",
       "    .dataframe tbody tr th {\n",
       "        vertical-align: top;\n",
       "    }\n",
       "\n",
       "    .dataframe thead th {\n",
       "        text-align: right;\n",
       "    }\n",
       "</style>\n",
       "<table border=\"1\" class=\"dataframe\">\n",
       "  <thead>\n",
       "    <tr style=\"text-align: right;\">\n",
       "      <th></th>\n",
       "      <th>fit_time</th>\n",
       "      <th>score_time</th>\n",
       "      <th>test_accuracy</th>\n",
       "      <th>test_precision</th>\n",
       "      <th>test_recall</th>\n",
       "      <th>test_f1_score</th>\n",
       "    </tr>\n",
       "  </thead>\n",
       "  <tbody>\n",
       "    <tr>\n",
       "      <td>0</td>\n",
       "      <td>0.220007</td>\n",
       "      <td>0.111840</td>\n",
       "      <td>0.918245</td>\n",
       "      <td>0.918245</td>\n",
       "      <td>0.918245</td>\n",
       "      <td>0.918245</td>\n",
       "    </tr>\n",
       "    <tr>\n",
       "      <td>1</td>\n",
       "      <td>0.221212</td>\n",
       "      <td>0.089945</td>\n",
       "      <td>0.920080</td>\n",
       "      <td>0.920080</td>\n",
       "      <td>0.920080</td>\n",
       "      <td>0.920080</td>\n",
       "    </tr>\n",
       "    <tr>\n",
       "      <td>2</td>\n",
       "      <td>0.229800</td>\n",
       "      <td>0.075332</td>\n",
       "      <td>0.913828</td>\n",
       "      <td>0.913828</td>\n",
       "      <td>0.913828</td>\n",
       "      <td>0.913828</td>\n",
       "    </tr>\n",
       "    <tr>\n",
       "      <td>3</td>\n",
       "      <td>0.220738</td>\n",
       "      <td>0.094440</td>\n",
       "      <td>0.927856</td>\n",
       "      <td>0.927856</td>\n",
       "      <td>0.927856</td>\n",
       "      <td>0.927856</td>\n",
       "    </tr>\n",
       "  </tbody>\n",
       "</table>\n",
       "</div>"
      ],
      "text/plain": [
       "   fit_time  score_time  test_accuracy  test_precision  test_recall  \\\n",
       "0  0.220007    0.111840       0.918245        0.918245     0.918245   \n",
       "1  0.221212    0.089945       0.920080        0.920080     0.920080   \n",
       "2  0.229800    0.075332       0.913828        0.913828     0.913828   \n",
       "3  0.220738    0.094440       0.927856        0.927856     0.927856   \n",
       "\n",
       "   test_f1_score  \n",
       "0       0.918245  \n",
       "1       0.920080  \n",
       "2       0.913828  \n",
       "3       0.927856  "
      ]
     },
     "execution_count": 20,
     "metadata": {},
     "output_type": "execute_result"
    }
   ],
   "source": [
    "randomForestScore"
   ]
  },
  {
   "cell_type": "code",
   "execution_count": 21,
   "metadata": {},
   "outputs": [],
   "source": [
    "from sklearn.model_selection import GridSearchCV\n",
    "import numpy as np"
   ]
  },
  {
   "cell_type": "code",
   "execution_count": 22,
   "metadata": {},
   "outputs": [],
   "source": [
    "rf_parameters={'n_estimators' : range(80,200,20),'max_depth': range(1,20,3), 'min_samples_split': np.arange(0.1,1,0.1)}"
   ]
  },
  {
   "cell_type": "code",
   "execution_count": 23,
   "metadata": {},
   "outputs": [],
   "source": [
    "rf2 = RandomForestClassifier()"
   ]
  },
  {
   "cell_type": "code",
   "execution_count": 24,
   "metadata": {},
   "outputs": [],
   "source": [
    "dlGrid = GridSearchCV(rf2, rf_parameters, scoring=scoring_metrics, refit='accuracy', verbose=3, n_jobs=-1, cv=3)"
   ]
  },
  {
   "cell_type": "code",
   "execution_count": 27,
   "metadata": {
    "scrolled": true
   },
   "outputs": [
    {
     "name": "stdout",
     "output_type": "stream",
     "text": [
      "Fitting 3 folds for each of 378 candidates, totalling 1134 fits\n"
     ]
    },
    {
     "name": "stderr",
     "output_type": "stream",
     "text": [
      "C:\\Users\\nayer\\Anaconda3\\lib\\site-packages\\sklearn\\model_selection\\_split.py:657: Warning: The least populated class in y has only 2 members, which is too few. The minimum number of members in any class cannot be less than n_splits=3.\n",
      "  % (min_groups, self.n_splits)), Warning)\n",
      "[Parallel(n_jobs=-1)]: Using backend LokyBackend with 8 concurrent workers.\n",
      "[Parallel(n_jobs=-1)]: Done  16 tasks      | elapsed:    2.6s\n",
      "[Parallel(n_jobs=-1)]: Done 112 tasks      | elapsed:   10.5s\n",
      "[Parallel(n_jobs=-1)]: Done 272 tasks      | elapsed:   23.8s\n",
      "[Parallel(n_jobs=-1)]: Done 496 tasks      | elapsed:   40.2s\n",
      "[Parallel(n_jobs=-1)]: Done 784 tasks      | elapsed:  1.0min\n",
      "[Parallel(n_jobs=-1)]: Done 1134 out of 1134 | elapsed:  1.6min finished\n"
     ]
    },
    {
     "data": {
      "text/plain": [
       "GridSearchCV(cv=3, error_score='raise-deprecating',\n",
       "             estimator=RandomForestClassifier(bootstrap=True, class_weight=None,\n",
       "                                              criterion='gini', max_depth=None,\n",
       "                                              max_features='auto',\n",
       "                                              max_leaf_nodes=None,\n",
       "                                              min_impurity_decrease=0.0,\n",
       "                                              min_impurity_split=None,\n",
       "                                              min_samples_leaf=1,\n",
       "                                              min_samples_split=2,\n",
       "                                              min_weight_fraction_leaf=0.0,\n",
       "                                              n_estimators='warn', n_jobs=None,\n",
       "                                              oob_score=Fa...\n",
       "                         'min_samples_split': array([0.1, 0.2, 0.3, 0.4, 0.5, 0.6, 0.7, 0.8, 0.9]),\n",
       "                         'n_estimators': range(80, 200, 20)},\n",
       "             pre_dispatch='2*n_jobs', refit='accuracy',\n",
       "             return_train_score=False,\n",
       "             scoring={'accuracy': make_scorer(accuracy_score),\n",
       "                      'f1_score': make_scorer(f1_score, average=micro),\n",
       "                      'precision': make_scorer(precision_score, average=micro),\n",
       "                      'recall': make_scorer(recall_score, average=micro)},\n",
       "             verbose=3)"
      ]
     },
     "execution_count": 27,
     "metadata": {},
     "output_type": "execute_result"
    }
   ],
   "source": [
    "dlGrid.fit(X, y)"
   ]
  },
  {
   "cell_type": "code",
   "execution_count": 28,
   "metadata": {},
   "outputs": [
    {
     "data": {
      "text/html": [
       "<div>\n",
       "<style scoped>\n",
       "    .dataframe tbody tr th:only-of-type {\n",
       "        vertical-align: middle;\n",
       "    }\n",
       "\n",
       "    .dataframe tbody tr th {\n",
       "        vertical-align: top;\n",
       "    }\n",
       "\n",
       "    .dataframe thead th {\n",
       "        text-align: right;\n",
       "    }\n",
       "</style>\n",
       "<table border=\"1\" class=\"dataframe\">\n",
       "  <thead>\n",
       "    <tr style=\"text-align: right;\">\n",
       "      <th></th>\n",
       "      <th>mean_fit_time</th>\n",
       "      <th>std_fit_time</th>\n",
       "      <th>mean_score_time</th>\n",
       "      <th>std_score_time</th>\n",
       "      <th>param_max_depth</th>\n",
       "      <th>param_min_samples_split</th>\n",
       "      <th>param_n_estimators</th>\n",
       "      <th>params</th>\n",
       "      <th>split0_test_accuracy</th>\n",
       "      <th>split1_test_accuracy</th>\n",
       "      <th>...</th>\n",
       "      <th>split2_test_recall</th>\n",
       "      <th>mean_test_recall</th>\n",
       "      <th>std_test_recall</th>\n",
       "      <th>rank_test_recall</th>\n",
       "      <th>split0_test_f1_score</th>\n",
       "      <th>split1_test_f1_score</th>\n",
       "      <th>split2_test_f1_score</th>\n",
       "      <th>mean_test_f1_score</th>\n",
       "      <th>std_test_f1_score</th>\n",
       "      <th>rank_test_f1_score</th>\n",
       "    </tr>\n",
       "  </thead>\n",
       "  <tbody>\n",
       "    <tr>\n",
       "      <td>0</td>\n",
       "      <td>0.287591</td>\n",
       "      <td>0.005843</td>\n",
       "      <td>0.137304</td>\n",
       "      <td>0.036277</td>\n",
       "      <td>1</td>\n",
       "      <td>0.1</td>\n",
       "      <td>80</td>\n",
       "      <td>{'max_depth': 1, 'min_samples_split': 0.1, 'n_...</td>\n",
       "      <td>0.866667</td>\n",
       "      <td>0.869467</td>\n",
       "      <td>...</td>\n",
       "      <td>0.848348</td>\n",
       "      <td>0.86150</td>\n",
       "      <td>0.009363</td>\n",
       "      <td>207</td>\n",
       "      <td>0.866667</td>\n",
       "      <td>0.869467</td>\n",
       "      <td>0.848348</td>\n",
       "      <td>0.86150</td>\n",
       "      <td>0.009363</td>\n",
       "      <td>207</td>\n",
       "    </tr>\n",
       "    <tr>\n",
       "      <td>1</td>\n",
       "      <td>0.234340</td>\n",
       "      <td>0.054745</td>\n",
       "      <td>0.134497</td>\n",
       "      <td>0.059267</td>\n",
       "      <td>1</td>\n",
       "      <td>0.1</td>\n",
       "      <td>100</td>\n",
       "      <td>{'max_depth': 1, 'min_samples_split': 0.1, 'n_...</td>\n",
       "      <td>0.844195</td>\n",
       "      <td>0.866467</td>\n",
       "      <td>...</td>\n",
       "      <td>0.874625</td>\n",
       "      <td>0.86175</td>\n",
       "      <td>0.012863</td>\n",
       "      <td>205</td>\n",
       "      <td>0.844195</td>\n",
       "      <td>0.866467</td>\n",
       "      <td>0.874625</td>\n",
       "      <td>0.86175</td>\n",
       "      <td>0.012863</td>\n",
       "      <td>205</td>\n",
       "    </tr>\n",
       "    <tr>\n",
       "      <td>2</td>\n",
       "      <td>0.309663</td>\n",
       "      <td>0.094506</td>\n",
       "      <td>0.192712</td>\n",
       "      <td>0.029361</td>\n",
       "      <td>1</td>\n",
       "      <td>0.1</td>\n",
       "      <td>120</td>\n",
       "      <td>{'max_depth': 1, 'min_samples_split': 0.1, 'n_...</td>\n",
       "      <td>0.861423</td>\n",
       "      <td>0.866467</td>\n",
       "      <td>...</td>\n",
       "      <td>0.875375</td>\n",
       "      <td>0.86775</td>\n",
       "      <td>0.005768</td>\n",
       "      <td>177</td>\n",
       "      <td>0.861423</td>\n",
       "      <td>0.866467</td>\n",
       "      <td>0.875375</td>\n",
       "      <td>0.86775</td>\n",
       "      <td>0.005768</td>\n",
       "      <td>177</td>\n",
       "    </tr>\n",
       "    <tr>\n",
       "      <td>3</td>\n",
       "      <td>0.506380</td>\n",
       "      <td>0.006365</td>\n",
       "      <td>0.209097</td>\n",
       "      <td>0.031626</td>\n",
       "      <td>1</td>\n",
       "      <td>0.1</td>\n",
       "      <td>140</td>\n",
       "      <td>{'max_depth': 1, 'min_samples_split': 0.1, 'n_...</td>\n",
       "      <td>0.865169</td>\n",
       "      <td>0.867967</td>\n",
       "      <td>...</td>\n",
       "      <td>0.870871</td>\n",
       "      <td>0.86800</td>\n",
       "      <td>0.002328</td>\n",
       "      <td>167</td>\n",
       "      <td>0.865169</td>\n",
       "      <td>0.867967</td>\n",
       "      <td>0.870871</td>\n",
       "      <td>0.86800</td>\n",
       "      <td>0.002328</td>\n",
       "      <td>167</td>\n",
       "    </tr>\n",
       "    <tr>\n",
       "      <td>4</td>\n",
       "      <td>0.415766</td>\n",
       "      <td>0.033822</td>\n",
       "      <td>0.319706</td>\n",
       "      <td>0.031839</td>\n",
       "      <td>1</td>\n",
       "      <td>0.1</td>\n",
       "      <td>160</td>\n",
       "      <td>{'max_depth': 1, 'min_samples_split': 0.1, 'n_...</td>\n",
       "      <td>0.864419</td>\n",
       "      <td>0.866467</td>\n",
       "      <td>...</td>\n",
       "      <td>0.870871</td>\n",
       "      <td>0.86725</td>\n",
       "      <td>0.002692</td>\n",
       "      <td>188</td>\n",
       "      <td>0.864419</td>\n",
       "      <td>0.866467</td>\n",
       "      <td>0.870871</td>\n",
       "      <td>0.86725</td>\n",
       "      <td>0.002692</td>\n",
       "      <td>188</td>\n",
       "    </tr>\n",
       "  </tbody>\n",
       "</table>\n",
       "<p>5 rows × 32 columns</p>\n",
       "</div>"
      ],
      "text/plain": [
       "   mean_fit_time  std_fit_time  mean_score_time  std_score_time  \\\n",
       "0       0.287591      0.005843         0.137304        0.036277   \n",
       "1       0.234340      0.054745         0.134497        0.059267   \n",
       "2       0.309663      0.094506         0.192712        0.029361   \n",
       "3       0.506380      0.006365         0.209097        0.031626   \n",
       "4       0.415766      0.033822         0.319706        0.031839   \n",
       "\n",
       "  param_max_depth param_min_samples_split param_n_estimators  \\\n",
       "0               1                     0.1                 80   \n",
       "1               1                     0.1                100   \n",
       "2               1                     0.1                120   \n",
       "3               1                     0.1                140   \n",
       "4               1                     0.1                160   \n",
       "\n",
       "                                              params  split0_test_accuracy  \\\n",
       "0  {'max_depth': 1, 'min_samples_split': 0.1, 'n_...              0.866667   \n",
       "1  {'max_depth': 1, 'min_samples_split': 0.1, 'n_...              0.844195   \n",
       "2  {'max_depth': 1, 'min_samples_split': 0.1, 'n_...              0.861423   \n",
       "3  {'max_depth': 1, 'min_samples_split': 0.1, 'n_...              0.865169   \n",
       "4  {'max_depth': 1, 'min_samples_split': 0.1, 'n_...              0.864419   \n",
       "\n",
       "   split1_test_accuracy  ...  split2_test_recall  mean_test_recall  \\\n",
       "0              0.869467  ...            0.848348           0.86150   \n",
       "1              0.866467  ...            0.874625           0.86175   \n",
       "2              0.866467  ...            0.875375           0.86775   \n",
       "3              0.867967  ...            0.870871           0.86800   \n",
       "4              0.866467  ...            0.870871           0.86725   \n",
       "\n",
       "   std_test_recall  rank_test_recall  split0_test_f1_score  \\\n",
       "0         0.009363               207              0.866667   \n",
       "1         0.012863               205              0.844195   \n",
       "2         0.005768               177              0.861423   \n",
       "3         0.002328               167              0.865169   \n",
       "4         0.002692               188              0.864419   \n",
       "\n",
       "   split1_test_f1_score  split2_test_f1_score  mean_test_f1_score  \\\n",
       "0              0.869467              0.848348             0.86150   \n",
       "1              0.866467              0.874625             0.86175   \n",
       "2              0.866467              0.875375             0.86775   \n",
       "3              0.867967              0.870871             0.86800   \n",
       "4              0.866467              0.870871             0.86725   \n",
       "\n",
       "   std_test_f1_score  rank_test_f1_score  \n",
       "0           0.009363                 207  \n",
       "1           0.012863                 205  \n",
       "2           0.005768                 177  \n",
       "3           0.002328                 167  \n",
       "4           0.002692                 188  \n",
       "\n",
       "[5 rows x 32 columns]"
      ]
     },
     "execution_count": 28,
     "metadata": {},
     "output_type": "execute_result"
    }
   ],
   "source": [
    "dtGridScores = pd.DataFrame(dlGrid.cv_results_)\n",
    "dtGridScores.head()"
   ]
  },
  {
   "cell_type": "code",
   "execution_count": 29,
   "metadata": {},
   "outputs": [],
   "source": [
    "dt3=dlGrid.best_estimator_"
   ]
  },
  {
   "cell_type": "code",
   "execution_count": 31,
   "metadata": {},
   "outputs": [
    {
     "name": "stderr",
     "output_type": "stream",
     "text": [
      "[Parallel(n_jobs=-1)]: Using backend LokyBackend with 8 concurrent workers.\n",
      "C:\\Users\\nayer\\Anaconda3\\lib\\site-packages\\sklearn\\model_selection\\_split.py:657: Warning: The least populated class in y has only 2 members, which is too few. The minimum number of members in any class cannot be less than n_splits=4.\n",
      "  % (min_groups, self.n_splits)), Warning)\n",
      "[Parallel(n_jobs=-1)]: Done   4 out of   4 | elapsed:    0.9s finished\n"
     ]
    }
   ],
   "source": [
    "dtFinalScore = cross_validate(dt3, X, y, cv=4, scoring=scoring_metrics, verbose=3, n_jobs=-1)"
   ]
  },
  {
   "cell_type": "code",
   "execution_count": 32,
   "metadata": {
    "scrolled": true
   },
   "outputs": [],
   "source": [
    "dtFinalScore = pd.DataFrame(dtFinalScore)"
   ]
  },
  {
   "cell_type": "code",
   "execution_count": 33,
   "metadata": {},
   "outputs": [
    {
     "data": {
      "text/plain": [
       "0.9692533646031369"
      ]
     },
     "execution_count": 33,
     "metadata": {},
     "output_type": "execute_result"
    }
   ],
   "source": [
    "dtFinalScore['test_accuracy'].mean()"
   ]
  },
  {
   "cell_type": "code",
   "execution_count": 34,
   "metadata": {},
   "outputs": [],
   "source": [
    "randomForestScore.to_csv('NSL_RandomForest_ChiSquared_bestEstimator.csv')"
   ]
  },
  {
   "cell_type": "markdown",
   "metadata": {},
   "source": [
    "# Neural Network"
   ]
  },
  {
   "cell_type": "code",
   "execution_count": 35,
   "metadata": {},
   "outputs": [],
   "source": [
    "from sklearn.neural_network import MLPClassifier"
   ]
  },
  {
   "cell_type": "code",
   "execution_count": 36,
   "metadata": {},
   "outputs": [],
   "source": [
    "mlpModel = MLPClassifier()"
   ]
  },
  {
   "cell_type": "code",
   "execution_count": 37,
   "metadata": {
    "scrolled": true
   },
   "outputs": [
    {
     "name": "stderr",
     "output_type": "stream",
     "text": [
      "[Parallel(n_jobs=-1)]: Using backend LokyBackend with 8 concurrent workers.\n",
      "C:\\Users\\nayer\\Anaconda3\\lib\\site-packages\\sklearn\\model_selection\\_split.py:657: Warning: The least populated class in y has only 2 members, which is too few. The minimum number of members in any class cannot be less than n_splits=4.\n",
      "  % (min_groups, self.n_splits)), Warning)\n",
      "[Parallel(n_jobs=-1)]: Done   4 out of   4 | elapsed:    4.9s finished\n"
     ]
    }
   ],
   "source": [
    "mlpScore=cross_validate(mlpModel, X, y, cv=4, scoring=scoring_metrics, verbose=3, n_jobs=-1)"
   ]
  },
  {
   "cell_type": "code",
   "execution_count": 38,
   "metadata": {
    "scrolled": true
   },
   "outputs": [
    {
     "data": {
      "text/plain": [
       "MLPClassifier(activation='relu', alpha=0.0001, batch_size='auto', beta_1=0.9,\n",
       "              beta_2=0.999, early_stopping=False, epsilon=1e-08,\n",
       "              hidden_layer_sizes=(100,), learning_rate='constant',\n",
       "              learning_rate_init=0.001, max_iter=200, momentum=0.9,\n",
       "              n_iter_no_change=10, nesterovs_momentum=True, power_t=0.5,\n",
       "              random_state=None, shuffle=True, solver='adam', tol=0.0001,\n",
       "              validation_fraction=0.1, verbose=False, warm_start=False)"
      ]
     },
     "execution_count": 38,
     "metadata": {},
     "output_type": "execute_result"
    }
   ],
   "source": [
    "mlpModel"
   ]
  },
  {
   "cell_type": "code",
   "execution_count": 39,
   "metadata": {},
   "outputs": [],
   "source": [
    "mlpScore = pd.DataFrame(mlpScore)"
   ]
  },
  {
   "cell_type": "code",
   "execution_count": 40,
   "metadata": {},
   "outputs": [],
   "source": [
    "mlpScore.to_csv('NSL_MLP_ChiSquared_scores.csv')"
   ]
  },
  {
   "cell_type": "code",
   "execution_count": 41,
   "metadata": {},
   "outputs": [],
   "source": [
    "nLayers=[\n",
    "    (4),\n",
    "    (7),\n",
    "    (10), #one layer of 10 nodes\n",
    "    (13),\n",
    "    (17),\n",
    "    (20),\n",
    "    (30),\n",
    "    (50),\n",
    "    (80),\n",
    "    (100),\n",
    "    (120),\n",
    "    (140),\n",
    "    (180),\n",
    "    (220),\n",
    "    (10, 10), #two layers, 10 nodes each\n",
    "    (20, 20), #two layers, 20 nodes each\n",
    "    (30, 30),\n",
    "    (50, 50),\n",
    "    (80, 80),\n",
    "    (100, 100),\n",
    "    (150, 150),\n",
    "    (10, 10, 10), #three layers, 10 nodes each\n",
    "    (20, 20, 20),\n",
    "    (30, 30, 30),\n",
    "    (50, 50, 50),\n",
    "    (80, 80, 80),\n",
    "]"
   ]
  },
  {
   "cell_type": "code",
   "execution_count": 42,
   "metadata": {},
   "outputs": [],
   "source": [
    "mlp_parameters = {\n",
    "    'hidden_layer_sizes': nLayers,\n",
    "    'solver': ['sgd', 'adam'],\n",
    "    'alpha': [0.001, 0.01, 0.05],\n",
    "    'learning_rate': ['constant','adaptive'],\n",
    "}"
   ]
  },
  {
   "cell_type": "code",
   "execution_count": 43,
   "metadata": {},
   "outputs": [],
   "source": [
    "from sklearn.model_selection import GridSearchCV\n",
    "from sklearn.model_selection import RandomizedSearchCV"
   ]
  },
  {
   "cell_type": "code",
   "execution_count": 44,
   "metadata": {},
   "outputs": [],
   "source": [
    "from sklearn.neural_network import MLPClassifier\n",
    "mlpModel2 = MLPClassifier()"
   ]
  },
  {
   "cell_type": "code",
   "execution_count": 45,
   "metadata": {},
   "outputs": [],
   "source": [
    "mlp_grid = GridSearchCV(mlpModel2, mlp_parameters, scoring=scoring_metrics, refit='accuracy', verbose=3, n_jobs=-1, cv=3)\n"
   ]
  },
  {
   "cell_type": "code",
   "execution_count": null,
   "metadata": {
    "scrolled": true
   },
   "outputs": [
    {
     "name": "stdout",
     "output_type": "stream",
     "text": [
      "Fitting 3 folds for each of 312 candidates, totalling 936 fits\n"
     ]
    },
    {
     "name": "stderr",
     "output_type": "stream",
     "text": [
      "C:\\Users\\nayer\\Anaconda3\\lib\\site-packages\\sklearn\\model_selection\\_split.py:657: Warning: The least populated class in y has only 2 members, which is too few. The minimum number of members in any class cannot be less than n_splits=3.\n",
      "  % (min_groups, self.n_splits)), Warning)\n",
      "[Parallel(n_jobs=-1)]: Using backend LokyBackend with 8 concurrent workers.\n",
      "[Parallel(n_jobs=-1)]: Done  16 tasks      | elapsed:    5.2s\n",
      "[Parallel(n_jobs=-1)]: Done 128 tasks      | elapsed:   40.2s\n",
      "[Parallel(n_jobs=-1)]: Done 288 tasks      | elapsed:  2.1min\n",
      "[Parallel(n_jobs=-1)]: Done 512 tasks      | elapsed:  3.6min\n"
     ]
    }
   ],
   "source": [
    "mlp_grid.fit(X, y)"
   ]
  },
  {
   "cell_type": "code",
   "execution_count": null,
   "metadata": {},
   "outputs": [],
   "source": [
    "mlpGridScores=pd.DataFrame(mlp_grid.cv_results_)\n",
    "mlpGridScores.head()\n"
   ]
  },
  {
   "cell_type": "code",
   "execution_count": null,
   "metadata": {},
   "outputs": [],
   "source": [
    "mlpFinalModel = mlp_grid.best_estimator_\n",
    "mlp_grid.best_params_"
   ]
  },
  {
   "cell_type": "code",
   "execution_count": null,
   "metadata": {},
   "outputs": [],
   "source": [
    "mlpFinalScore=cross_validate(mlpFinalModel, X, y, cv=4, scoring=scoring_metrics, verbose=3, n_jobs=-1)"
   ]
  },
  {
   "cell_type": "code",
   "execution_count": null,
   "metadata": {},
   "outputs": [],
   "source": [
    "mlpFinalScore = pd.DataFrame(mlpFinalScore)\n",
    "mlpFinalScore.to_csv('NSL_ANN_ChiSquared_bestEstimator.csv')"
   ]
  },
  {
   "cell_type": "code",
   "execution_count": null,
   "metadata": {},
   "outputs": [],
   "source": [
    "mlpFinalScore['test_accuracy'].mean()"
   ]
  },
  {
   "cell_type": "markdown",
   "metadata": {},
   "source": [
    "# Decision Trees"
   ]
  },
  {
   "cell_type": "code",
   "execution_count": null,
   "metadata": {},
   "outputs": [],
   "source": [
    "from sklearn.tree import tree"
   ]
  },
  {
   "cell_type": "code",
   "execution_count": null,
   "metadata": {},
   "outputs": [],
   "source": [
    "dt=tree.DecisionTreeClassifier()"
   ]
  },
  {
   "cell_type": "code",
   "execution_count": null,
   "metadata": {},
   "outputs": [],
   "source": [
    "dtScore = cross_validate(dt, X, y, cv=4, scoring=scoring_metrics, verbose=3, n_jobs=-1)"
   ]
  },
  {
   "cell_type": "code",
   "execution_count": null,
   "metadata": {},
   "outputs": [],
   "source": [
    "dtScore = pd.DataFrame(dtScore)\n",
    "dtScore.head()"
   ]
  },
  {
   "cell_type": "code",
   "execution_count": null,
   "metadata": {},
   "outputs": [],
   "source": [
    "dtScore.to_csv('NSL_dtScore_ChiSquared_scores.csv')"
   ]
  },
  {
   "cell_type": "code",
   "execution_count": null,
   "metadata": {},
   "outputs": [],
   "source": []
  },
  {
   "cell_type": "code",
   "execution_count": null,
   "metadata": {},
   "outputs": [],
   "source": [
    "dt_parameters={'min_samples_split' : range(10,500,20),'max_depth': range(1,20,2)}"
   ]
  },
  {
   "cell_type": "code",
   "execution_count": null,
   "metadata": {},
   "outputs": [],
   "source": [
    "dt2 = tree.DecisionTreeClassifier()"
   ]
  },
  {
   "cell_type": "code",
   "execution_count": null,
   "metadata": {},
   "outputs": [],
   "source": [
    "dlGrid = GridSearchCV(dt2, dt_parameters, scoring=scoring_metrics, refit='accuracy', verbose=3, n_jobs=-1, cv=4)"
   ]
  },
  {
   "cell_type": "code",
   "execution_count": null,
   "metadata": {
    "scrolled": true
   },
   "outputs": [],
   "source": [
    "dlGrid.fit(X, y)"
   ]
  },
  {
   "cell_type": "code",
   "execution_count": null,
   "metadata": {},
   "outputs": [],
   "source": [
    "dtGridScores = pd.DataFrame(dlGrid.cv_results_)\n",
    "dtGridScores.head()\n",
    "dtGridScores.to_csv('NSL_DT_ChiSquared_GridSearch.csv')"
   ]
  },
  {
   "cell_type": "code",
   "execution_count": null,
   "metadata": {},
   "outputs": [],
   "source": [
    "dt3=dlGrid.best_estimator_\n",
    "dlGrid.best_params_"
   ]
  },
  {
   "cell_type": "code",
   "execution_count": null,
   "metadata": {},
   "outputs": [],
   "source": [
    "dtFinalScore = cross_validate(dt3, X, y, cv=4, scoring=scoring_metrics, verbose=3, n_jobs=-1)"
   ]
  },
  {
   "cell_type": "code",
   "execution_count": null,
   "metadata": {},
   "outputs": [],
   "source": [
    "dtFinalScore = pd.DataFrame(dtFinalScore)\n",
    "dtFinalScore.to_csv('NSL_DT_ChiSquared_bestEstimator.csv')\n",
    "dtFinalScore['test_precision'].mean()"
   ]
  },
  {
   "cell_type": "markdown",
   "metadata": {},
   "source": [
    "# KNN"
   ]
  },
  {
   "cell_type": "code",
   "execution_count": null,
   "metadata": {},
   "outputs": [],
   "source": [
    "from sklearn.neighbors import KNeighborsClassifier"
   ]
  },
  {
   "cell_type": "code",
   "execution_count": null,
   "metadata": {},
   "outputs": [],
   "source": [
    "knn = KNeighborsClassifier()"
   ]
  },
  {
   "cell_type": "code",
   "execution_count": null,
   "metadata": {},
   "outputs": [],
   "source": [
    "k_range = list(range(1, 101, 5))"
   ]
  },
  {
   "cell_type": "code",
   "execution_count": null,
   "metadata": {},
   "outputs": [],
   "source": [
    "param_dict = dict(n_neighbors=k_range)"
   ]
  },
  {
   "cell_type": "code",
   "execution_count": null,
   "metadata": {},
   "outputs": [],
   "source": [
    "grid = GridSearchCV(knn, param_dict, cv=4, scoring=scoring_metrics, refit='accuracy', verbose=3, n_jobs=-1)"
   ]
  },
  {
   "cell_type": "code",
   "execution_count": null,
   "metadata": {
    "scrolled": true
   },
   "outputs": [],
   "source": [
    "grid.fit(X, y)"
   ]
  },
  {
   "cell_type": "code",
   "execution_count": null,
   "metadata": {},
   "outputs": [],
   "source": [
    "knnScore = pd.DataFrame(grid.cv_results_)\n",
    "knnScore.to_csv('NSL_KNN_ChiSquared_GridSearch.csv')"
   ]
  },
  {
   "cell_type": "code",
   "execution_count": null,
   "metadata": {},
   "outputs": [],
   "source": [
    "knn2=grid.best_estimator_\n",
    "grid.best_params_"
   ]
  },
  {
   "cell_type": "code",
   "execution_count": null,
   "metadata": {},
   "outputs": [],
   "source": [
    "knnFinalScore = cross_validate(knn2, X, y, cv=4, scoring=scoring_metrics, verbose=3, n_jobs=-1)"
   ]
  },
  {
   "cell_type": "code",
   "execution_count": null,
   "metadata": {},
   "outputs": [],
   "source": [
    "knnFinalScore = pd.DataFrame(knnFinalScore)"
   ]
  },
  {
   "cell_type": "code",
   "execution_count": null,
   "metadata": {},
   "outputs": [],
   "source": [
    "knnFinalScore.to_csv('NSL_KNN_PCA_bestEstimator.csv')"
   ]
  },
  {
   "cell_type": "code",
   "execution_count": null,
   "metadata": {},
   "outputs": [],
   "source": [
    "pd.DataFrame(mlpScore).mean()"
   ]
  },
  {
   "cell_type": "code",
   "execution_count": null,
   "metadata": {},
   "outputs": [],
   "source": []
  },
  {
   "cell_type": "markdown",
   "metadata": {},
   "source": [
    "# All Results"
   ]
  },
  {
   "cell_type": "code",
   "execution_count": null,
   "metadata": {},
   "outputs": [],
   "source": [
    "allResults=pd.concat([\n",
    "    mlpScore.mean(),\n",
    "    dtFinalScore.mean(),\n",
    "    knnFinalScore.mean(),\n",
    "    randomForestScore.mean()\n",
    "], axis=1)\n",
    "allResults"
   ]
  },
  {
   "cell_type": "code",
   "execution_count": null,
   "metadata": {},
   "outputs": [],
   "source": [
    "allResults.rename(columns={0:'Multi-level Perceptron', 1:'Decision Tree', 2:'KNN' , 3:'Random Forest' },  inplace=True)\n",
    "allResults"
   ]
  },
  {
   "cell_type": "markdown",
   "metadata": {},
   "source": [
    "# All Results"
   ]
  },
  {
   "cell_type": "code",
   "execution_count": null,
   "metadata": {},
   "outputs": [],
   "source": [
    "allResults.to_csv('NSL_ChiSquared_Final.csv')"
   ]
  },
  {
   "cell_type": "code",
   "execution_count": null,
   "metadata": {},
   "outputs": [],
   "source": []
  },
  {
   "cell_type": "code",
   "execution_count": null,
   "metadata": {},
   "outputs": [],
   "source": []
  },
  {
   "cell_type": "code",
   "execution_count": null,
   "metadata": {},
   "outputs": [],
   "source": []
  },
  {
   "cell_type": "code",
   "execution_count": null,
   "metadata": {},
   "outputs": [],
   "source": []
  },
  {
   "cell_type": "code",
   "execution_count": null,
   "metadata": {},
   "outputs": [],
   "source": []
  },
  {
   "cell_type": "code",
   "execution_count": null,
   "metadata": {},
   "outputs": [],
   "source": []
  },
  {
   "cell_type": "code",
   "execution_count": null,
   "metadata": {},
   "outputs": [],
   "source": []
  },
  {
   "cell_type": "code",
   "execution_count": null,
   "metadata": {},
   "outputs": [],
   "source": []
  },
  {
   "cell_type": "code",
   "execution_count": null,
   "metadata": {},
   "outputs": [],
   "source": []
  },
  {
   "cell_type": "code",
   "execution_count": null,
   "metadata": {},
   "outputs": [],
   "source": []
  },
  {
   "cell_type": "code",
   "execution_count": null,
   "metadata": {},
   "outputs": [],
   "source": []
  }
 ],
 "metadata": {
  "kernelspec": {
   "display_name": "Python 3",
   "language": "python",
   "name": "python3"
  },
  "language_info": {
   "codemirror_mode": {
    "name": "ipython",
    "version": 3
   },
   "file_extension": ".py",
   "mimetype": "text/x-python",
   "name": "python",
   "nbconvert_exporter": "python",
   "pygments_lexer": "ipython3",
   "version": "3.7.4"
  }
 },
 "nbformat": 4,
 "nbformat_minor": 2
}
