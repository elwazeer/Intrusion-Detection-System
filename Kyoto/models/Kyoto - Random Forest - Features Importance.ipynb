{
 "cells": [
  {
   "cell_type": "code",
   "execution_count": 1,
   "metadata": {},
   "outputs": [],
   "source": [
    "import pandas as pd\n",
    "import numpy as np"
   ]
  },
  {
   "cell_type": "code",
   "execution_count": 2,
   "metadata": {},
   "outputs": [],
   "source": [
    "from sklearn.model_selection import cross_val_score\n",
    "from sklearn.model_selection import cross_validate"
   ]
  },
  {
   "cell_type": "markdown",
   "metadata": {},
   "source": [
    "# Reading Data"
   ]
  },
  {
   "cell_type": "code",
   "execution_count": 20,
   "metadata": {
    "scrolled": true
   },
   "outputs": [],
   "source": [
    "df = pd.read_csv('kyoto.csv')\n"
   ]
  },
  {
   "cell_type": "code",
   "execution_count": 21,
   "metadata": {},
   "outputs": [
    {
     "data": {
      "text/html": [
       "<div>\n",
       "<style scoped>\n",
       "    .dataframe tbody tr th:only-of-type {\n",
       "        vertical-align: middle;\n",
       "    }\n",
       "\n",
       "    .dataframe tbody tr th {\n",
       "        vertical-align: top;\n",
       "    }\n",
       "\n",
       "    .dataframe thead th {\n",
       "        text-align: right;\n",
       "    }\n",
       "</style>\n",
       "<table border=\"1\" class=\"dataframe\">\n",
       "  <thead>\n",
       "    <tr style=\"text-align: right;\">\n",
       "      <th></th>\n",
       "      <th>Duration</th>\n",
       "      <th>Service</th>\n",
       "      <th>Source_bytes</th>\n",
       "      <th>Destination_bytes</th>\n",
       "      <th>Count</th>\n",
       "      <th>Same_srv_rate</th>\n",
       "      <th>Serror_rate</th>\n",
       "      <th>Srv_serror_rate</th>\n",
       "      <th>Dst_host_count</th>\n",
       "      <th>Dst_host_srv_count</th>\n",
       "      <th>Dst_host_same_src_port_rate</th>\n",
       "      <th>Dst_host_serror_rate</th>\n",
       "      <th>Dst_host_srv_serror_rate</th>\n",
       "      <th>Flag</th>\n",
       "      <th>Label</th>\n",
       "      <th>Source_Port_Number</th>\n",
       "      <th>Destination_Port_Number</th>\n",
       "      <th>protocol_type</th>\n",
       "    </tr>\n",
       "  </thead>\n",
       "  <tbody>\n",
       "    <tr>\n",
       "      <th>86848</th>\n",
       "      <td>0.000000</td>\n",
       "      <td>other</td>\n",
       "      <td>0</td>\n",
       "      <td>0</td>\n",
       "      <td>0</td>\n",
       "      <td>0.0</td>\n",
       "      <td>0.0</td>\n",
       "      <td>1.0</td>\n",
       "      <td>0</td>\n",
       "      <td>0</td>\n",
       "      <td>0.00</td>\n",
       "      <td>0.00</td>\n",
       "      <td>0.00</td>\n",
       "      <td>S0</td>\n",
       "      <td>-1</td>\n",
       "      <td>56313</td>\n",
       "      <td>80</td>\n",
       "      <td>tcp</td>\n",
       "    </tr>\n",
       "    <tr>\n",
       "      <th>273287</th>\n",
       "      <td>2.999473</td>\n",
       "      <td>other</td>\n",
       "      <td>0</td>\n",
       "      <td>0</td>\n",
       "      <td>0</td>\n",
       "      <td>0.0</td>\n",
       "      <td>0.0</td>\n",
       "      <td>0.8</td>\n",
       "      <td>0</td>\n",
       "      <td>4</td>\n",
       "      <td>0.00</td>\n",
       "      <td>0.00</td>\n",
       "      <td>1.00</td>\n",
       "      <td>S0</td>\n",
       "      <td>-1</td>\n",
       "      <td>60893</td>\n",
       "      <td>23</td>\n",
       "      <td>tcp</td>\n",
       "    </tr>\n",
       "    <tr>\n",
       "      <th>377838</th>\n",
       "      <td>0.000449</td>\n",
       "      <td>dns</td>\n",
       "      <td>44</td>\n",
       "      <td>104</td>\n",
       "      <td>12</td>\n",
       "      <td>1.0</td>\n",
       "      <td>0.0</td>\n",
       "      <td>0.0</td>\n",
       "      <td>84</td>\n",
       "      <td>98</td>\n",
       "      <td>0.00</td>\n",
       "      <td>0.00</td>\n",
       "      <td>0.00</td>\n",
       "      <td>SF</td>\n",
       "      <td>-1</td>\n",
       "      <td>26409</td>\n",
       "      <td>53</td>\n",
       "      <td>udp</td>\n",
       "    </tr>\n",
       "    <tr>\n",
       "      <th>319624</th>\n",
       "      <td>0.000530</td>\n",
       "      <td>dns</td>\n",
       "      <td>44</td>\n",
       "      <td>104</td>\n",
       "      <td>18</td>\n",
       "      <td>1.0</td>\n",
       "      <td>0.0</td>\n",
       "      <td>0.0</td>\n",
       "      <td>9</td>\n",
       "      <td>100</td>\n",
       "      <td>0.00</td>\n",
       "      <td>0.00</td>\n",
       "      <td>0.00</td>\n",
       "      <td>SF</td>\n",
       "      <td>1</td>\n",
       "      <td>39915</td>\n",
       "      <td>53</td>\n",
       "      <td>udp</td>\n",
       "    </tr>\n",
       "    <tr>\n",
       "      <th>23836</th>\n",
       "      <td>0.000000</td>\n",
       "      <td>dns</td>\n",
       "      <td>0</td>\n",
       "      <td>0</td>\n",
       "      <td>1</td>\n",
       "      <td>1.0</td>\n",
       "      <td>0.0</td>\n",
       "      <td>0.4</td>\n",
       "      <td>12</td>\n",
       "      <td>24</td>\n",
       "      <td>0.08</td>\n",
       "      <td>0.17</td>\n",
       "      <td>0.08</td>\n",
       "      <td>SHR</td>\n",
       "      <td>-1</td>\n",
       "      <td>59703</td>\n",
       "      <td>53</td>\n",
       "      <td>udp</td>\n",
       "    </tr>\n",
       "  </tbody>\n",
       "</table>\n",
       "</div>"
      ],
      "text/plain": [
       "        Duration Service  Source_bytes  Destination_bytes  Count  \\\n",
       "86848   0.000000   other             0                  0      0   \n",
       "273287  2.999473   other             0                  0      0   \n",
       "377838  0.000449     dns            44                104     12   \n",
       "319624  0.000530     dns            44                104     18   \n",
       "23836   0.000000     dns             0                  0      1   \n",
       "\n",
       "        Same_srv_rate  Serror_rate  Srv_serror_rate  Dst_host_count  \\\n",
       "86848             0.0          0.0              1.0               0   \n",
       "273287            0.0          0.0              0.8               0   \n",
       "377838            1.0          0.0              0.0              84   \n",
       "319624            1.0          0.0              0.0               9   \n",
       "23836             1.0          0.0              0.4              12   \n",
       "\n",
       "        Dst_host_srv_count  Dst_host_same_src_port_rate  Dst_host_serror_rate  \\\n",
       "86848                    0                         0.00                  0.00   \n",
       "273287                   4                         0.00                  0.00   \n",
       "377838                  98                         0.00                  0.00   \n",
       "319624                 100                         0.00                  0.00   \n",
       "23836                   24                         0.08                  0.17   \n",
       "\n",
       "        Dst_host_srv_serror_rate Flag  Label  Source_Port_Number  \\\n",
       "86848                       0.00   S0     -1               56313   \n",
       "273287                      1.00   S0     -1               60893   \n",
       "377838                      0.00   SF     -1               26409   \n",
       "319624                      0.00   SF      1               39915   \n",
       "23836                       0.08  SHR     -1               59703   \n",
       "\n",
       "        Destination_Port_Number protocol_type  \n",
       "86848                        80           tcp  \n",
       "273287                       23           tcp  \n",
       "377838                       53           udp  \n",
       "319624                       53           udp  \n",
       "23836                        53           udp  "
      ]
     },
     "execution_count": 21,
     "metadata": {},
     "output_type": "execute_result"
    }
   ],
   "source": [
    "df.head()\n",
    "# for col in df.columns: \n",
    "#     print(col) "
   ]
  },
  {
   "cell_type": "markdown",
   "metadata": {},
   "source": [
    "# Data Preprocessing"
   ]
  },
  {
   "cell_type": "code",
   "execution_count": 22,
   "metadata": {},
   "outputs": [],
   "source": [
    "def isNumber(s): \n",
    "\n",
    "    # try to convert the string to int \n",
    "    try: \n",
    "        flag = s.isnumeric() \n",
    "        return flag\n",
    "    # catch exception if cannot be converted \n",
    "    except AttributeError: \n",
    "        return False"
   ]
  },
  {
   "cell_type": "code",
   "execution_count": 23,
   "metadata": {},
   "outputs": [],
   "source": [
    "dummy_cols = ['Service' , 'Flag' , 'protocol_type']\n",
    "df = pd.get_dummies( df , columns = dummy_cols)"
   ]
  },
  {
   "cell_type": "code",
   "execution_count": 24,
   "metadata": {},
   "outputs": [],
   "source": [
    "# df['IDS_detection'].replace( to_replace='0' , value = 0 )\n",
    "\n",
    "\n",
    "# for x in df['IDS_detection']: \n",
    "#     if ( x == 0 ):\n",
    "#         continue\n",
    "#     else:\n",
    "#         df['IDS_detection'].replace( to_replace=x , value = 1 )\n",
    "\n",
    "# df['IDS_detection'] = df['IDS_detection'].replace(to_replace=r\"^(.(?<!0))*?$\", value='Turf',regex=True)"
   ]
  },
  {
   "cell_type": "code",
   "execution_count": 25,
   "metadata": {},
   "outputs": [],
   "source": [
    "# for x in df['Malware_detection']: \n",
    "#     if ( x != 0 or x != '0' ):\n",
    "#         df.at[x,'Malware_detection'] = 1\n",
    "\n",
    "# df['Malware_detection'].replace( to_replace='0' , value = 0 )\n",
    "\n",
    "\n",
    "# for x in df['Malware_detection']: \n",
    "#     if ( x == 0 ):\n",
    "#         continue\n",
    "#     else:\n",
    "#         df['Malware_detection'].replace( to_replace=x , value = 1 )"
   ]
  },
  {
   "cell_type": "code",
   "execution_count": 26,
   "metadata": {},
   "outputs": [],
   "source": [
    "# for x in df['Ashula_detection']: \n",
    "#     if ( x != 0 or x != '0' ):\n",
    "#         df.at[x,'Ashula_detection'] = 1\n",
    "\n",
    "# df['Ashula_detection'].replace( to_replace='0' , value = 0 )\n",
    "\n",
    "\n",
    "# for x in df['Ashula_detection']: \n",
    "#     if ( x == 0 ):\n",
    "#         continue\n",
    "#     else:\n",
    "#         df['Ashula_detection'].replace( to_replace=x , value = 1 )"
   ]
  },
  {
   "cell_type": "code",
   "execution_count": 27,
   "metadata": {},
   "outputs": [],
   "source": [
    "# from sklearn import preprocessing\n",
    "\n",
    "# x = df.values #returns a numpy array\n",
    "# min_max_scaler = preprocessing.MinMaxScaler()\n",
    "# x_scaled = min_max_scaler.fit_transform(x)\n",
    "# df = pd.DataFrame(x_scaled)"
   ]
  },
  {
   "cell_type": "code",
   "execution_count": 28,
   "metadata": {},
   "outputs": [
    {
     "data": {
      "text/plain": [
       "Duration                       0\n",
       "Source_bytes                   0\n",
       "Destination_bytes              0\n",
       "Count                          0\n",
       "Same_srv_rate                  0\n",
       "Serror_rate                    0\n",
       "Srv_serror_rate                0\n",
       "Dst_host_count                 0\n",
       "Dst_host_srv_count             0\n",
       "Dst_host_same_src_port_rate    0\n",
       "Dst_host_serror_rate           0\n",
       "Dst_host_srv_serror_rate       0\n",
       "Label                          0\n",
       "Source_Port_Number             0\n",
       "Destination_Port_Number        0\n",
       "Service_dns                    0\n",
       "Service_http                   0\n",
       "Service_other                  0\n",
       "Service_rdp                    0\n",
       "Service_smtp                   0\n",
       "Service_snmp                   0\n",
       "Service_ssh                    0\n",
       "Flag_OTH                       0\n",
       "Flag_REJ                       0\n",
       "Flag_RSTO                      0\n",
       "Flag_RSTR                      0\n",
       "Flag_RSTRH                     0\n",
       "Flag_S0                        0\n",
       "Flag_SF                        0\n",
       "Flag_SH                        0\n",
       "Flag_SHR                       0\n",
       "protocol_type_icmp             0\n",
       "protocol_type_tcp              0\n",
       "protocol_type_udp              0\n",
       "dtype: int64"
      ]
     },
     "execution_count": 28,
     "metadata": {},
     "output_type": "execute_result"
    }
   ],
   "source": [
    "df.isna().sum()"
   ]
  },
  {
   "cell_type": "code",
   "execution_count": 29,
   "metadata": {},
   "outputs": [
    {
     "data": {
      "text/plain": [
       "Duration                       0\n",
       "Source_bytes                   0\n",
       "Destination_bytes              0\n",
       "Count                          0\n",
       "Same_srv_rate                  0\n",
       "Serror_rate                    0\n",
       "Srv_serror_rate                0\n",
       "Dst_host_count                 0\n",
       "Dst_host_srv_count             0\n",
       "Dst_host_same_src_port_rate    0\n",
       "Dst_host_serror_rate           0\n",
       "Dst_host_srv_serror_rate       0\n",
       "Label                          0\n",
       "Source_Port_Number             0\n",
       "Destination_Port_Number        0\n",
       "Service_dns                    0\n",
       "Service_http                   0\n",
       "Service_other                  0\n",
       "Service_rdp                    0\n",
       "Service_smtp                   0\n",
       "Service_snmp                   0\n",
       "Service_ssh                    0\n",
       "Flag_OTH                       0\n",
       "Flag_REJ                       0\n",
       "Flag_RSTO                      0\n",
       "Flag_RSTR                      0\n",
       "Flag_RSTRH                     0\n",
       "Flag_S0                        0\n",
       "Flag_SF                        0\n",
       "Flag_SH                        0\n",
       "Flag_SHR                       0\n",
       "protocol_type_icmp             0\n",
       "protocol_type_tcp              0\n",
       "protocol_type_udp              0\n",
       "dtype: int64"
      ]
     },
     "execution_count": 29,
     "metadata": {},
     "output_type": "execute_result"
    }
   ],
   "source": [
    "df = df.dropna()\n",
    "df.isna().sum()"
   ]
  },
  {
   "cell_type": "markdown",
   "metadata": {},
   "source": [
    "\n",
    "# Split Data"
   ]
  },
  {
   "cell_type": "code",
   "execution_count": 30,
   "metadata": {},
   "outputs": [],
   "source": [
    "X = df.drop(columns = ['Label'] , axis = 1 )\n",
    "y = df['Label']\n",
    "# y = df.iloc[:, 38]\n",
    "# X = df.drop('label' , 1)"
   ]
  },
  {
   "cell_type": "code",
   "execution_count": 31,
   "metadata": {},
   "outputs": [],
   "source": [
    "scoring_metrics={'accuracy' }"
   ]
  },
  {
   "cell_type": "code",
   "execution_count": 32,
   "metadata": {
    "scrolled": true
   },
   "outputs": [
    {
     "data": {
      "text/html": [
       "<div>\n",
       "<style scoped>\n",
       "    .dataframe tbody tr th:only-of-type {\n",
       "        vertical-align: middle;\n",
       "    }\n",
       "\n",
       "    .dataframe tbody tr th {\n",
       "        vertical-align: top;\n",
       "    }\n",
       "\n",
       "    .dataframe thead th {\n",
       "        text-align: right;\n",
       "    }\n",
       "</style>\n",
       "<table border=\"1\" class=\"dataframe\">\n",
       "  <thead>\n",
       "    <tr style=\"text-align: right;\">\n",
       "      <th></th>\n",
       "      <th>Duration</th>\n",
       "      <th>Source_bytes</th>\n",
       "      <th>Destination_bytes</th>\n",
       "      <th>Count</th>\n",
       "      <th>Same_srv_rate</th>\n",
       "      <th>Serror_rate</th>\n",
       "      <th>Srv_serror_rate</th>\n",
       "      <th>Dst_host_count</th>\n",
       "      <th>Dst_host_srv_count</th>\n",
       "      <th>Dst_host_same_src_port_rate</th>\n",
       "      <th>...</th>\n",
       "      <th>Flag_RSTO</th>\n",
       "      <th>Flag_RSTR</th>\n",
       "      <th>Flag_RSTRH</th>\n",
       "      <th>Flag_S0</th>\n",
       "      <th>Flag_SF</th>\n",
       "      <th>Flag_SH</th>\n",
       "      <th>Flag_SHR</th>\n",
       "      <th>protocol_type_icmp</th>\n",
       "      <th>protocol_type_tcp</th>\n",
       "      <th>protocol_type_udp</th>\n",
       "    </tr>\n",
       "  </thead>\n",
       "  <tbody>\n",
       "    <tr>\n",
       "      <th>86848</th>\n",
       "      <td>0.000000</td>\n",
       "      <td>0</td>\n",
       "      <td>0</td>\n",
       "      <td>0</td>\n",
       "      <td>0.0</td>\n",
       "      <td>0.0</td>\n",
       "      <td>1.0</td>\n",
       "      <td>0</td>\n",
       "      <td>0</td>\n",
       "      <td>0.00</td>\n",
       "      <td>...</td>\n",
       "      <td>0</td>\n",
       "      <td>0</td>\n",
       "      <td>0</td>\n",
       "      <td>1</td>\n",
       "      <td>0</td>\n",
       "      <td>0</td>\n",
       "      <td>0</td>\n",
       "      <td>0</td>\n",
       "      <td>1</td>\n",
       "      <td>0</td>\n",
       "    </tr>\n",
       "    <tr>\n",
       "      <th>273287</th>\n",
       "      <td>2.999473</td>\n",
       "      <td>0</td>\n",
       "      <td>0</td>\n",
       "      <td>0</td>\n",
       "      <td>0.0</td>\n",
       "      <td>0.0</td>\n",
       "      <td>0.8</td>\n",
       "      <td>0</td>\n",
       "      <td>4</td>\n",
       "      <td>0.00</td>\n",
       "      <td>...</td>\n",
       "      <td>0</td>\n",
       "      <td>0</td>\n",
       "      <td>0</td>\n",
       "      <td>1</td>\n",
       "      <td>0</td>\n",
       "      <td>0</td>\n",
       "      <td>0</td>\n",
       "      <td>0</td>\n",
       "      <td>1</td>\n",
       "      <td>0</td>\n",
       "    </tr>\n",
       "    <tr>\n",
       "      <th>377838</th>\n",
       "      <td>0.000449</td>\n",
       "      <td>44</td>\n",
       "      <td>104</td>\n",
       "      <td>12</td>\n",
       "      <td>1.0</td>\n",
       "      <td>0.0</td>\n",
       "      <td>0.0</td>\n",
       "      <td>84</td>\n",
       "      <td>98</td>\n",
       "      <td>0.00</td>\n",
       "      <td>...</td>\n",
       "      <td>0</td>\n",
       "      <td>0</td>\n",
       "      <td>0</td>\n",
       "      <td>0</td>\n",
       "      <td>1</td>\n",
       "      <td>0</td>\n",
       "      <td>0</td>\n",
       "      <td>0</td>\n",
       "      <td>0</td>\n",
       "      <td>1</td>\n",
       "    </tr>\n",
       "    <tr>\n",
       "      <th>319624</th>\n",
       "      <td>0.000530</td>\n",
       "      <td>44</td>\n",
       "      <td>104</td>\n",
       "      <td>18</td>\n",
       "      <td>1.0</td>\n",
       "      <td>0.0</td>\n",
       "      <td>0.0</td>\n",
       "      <td>9</td>\n",
       "      <td>100</td>\n",
       "      <td>0.00</td>\n",
       "      <td>...</td>\n",
       "      <td>0</td>\n",
       "      <td>0</td>\n",
       "      <td>0</td>\n",
       "      <td>0</td>\n",
       "      <td>1</td>\n",
       "      <td>0</td>\n",
       "      <td>0</td>\n",
       "      <td>0</td>\n",
       "      <td>0</td>\n",
       "      <td>1</td>\n",
       "    </tr>\n",
       "    <tr>\n",
       "      <th>23836</th>\n",
       "      <td>0.000000</td>\n",
       "      <td>0</td>\n",
       "      <td>0</td>\n",
       "      <td>1</td>\n",
       "      <td>1.0</td>\n",
       "      <td>0.0</td>\n",
       "      <td>0.4</td>\n",
       "      <td>12</td>\n",
       "      <td>24</td>\n",
       "      <td>0.08</td>\n",
       "      <td>...</td>\n",
       "      <td>0</td>\n",
       "      <td>0</td>\n",
       "      <td>0</td>\n",
       "      <td>0</td>\n",
       "      <td>0</td>\n",
       "      <td>0</td>\n",
       "      <td>1</td>\n",
       "      <td>0</td>\n",
       "      <td>0</td>\n",
       "      <td>1</td>\n",
       "    </tr>\n",
       "  </tbody>\n",
       "</table>\n",
       "<p>5 rows × 34 columns</p>\n",
       "</div>"
      ],
      "text/plain": [
       "        Duration  Source_bytes  Destination_bytes  Count  Same_srv_rate  \\\n",
       "86848   0.000000             0                  0      0            0.0   \n",
       "273287  2.999473             0                  0      0            0.0   \n",
       "377838  0.000449            44                104     12            1.0   \n",
       "319624  0.000530            44                104     18            1.0   \n",
       "23836   0.000000             0                  0      1            1.0   \n",
       "\n",
       "        Serror_rate  Srv_serror_rate  Dst_host_count  Dst_host_srv_count  \\\n",
       "86848           0.0              1.0               0                   0   \n",
       "273287          0.0              0.8               0                   4   \n",
       "377838          0.0              0.0              84                  98   \n",
       "319624          0.0              0.0               9                 100   \n",
       "23836           0.0              0.4              12                  24   \n",
       "\n",
       "        Dst_host_same_src_port_rate  ...  Flag_RSTO  Flag_RSTR  Flag_RSTRH  \\\n",
       "86848                          0.00  ...          0          0           0   \n",
       "273287                         0.00  ...          0          0           0   \n",
       "377838                         0.00  ...          0          0           0   \n",
       "319624                         0.00  ...          0          0           0   \n",
       "23836                          0.08  ...          0          0           0   \n",
       "\n",
       "        Flag_S0  Flag_SF  Flag_SH  Flag_SHR  protocol_type_icmp  \\\n",
       "86848         1        0        0         0                   0   \n",
       "273287        1        0        0         0                   0   \n",
       "377838        0        1        0         0                   0   \n",
       "319624        0        1        0         0                   0   \n",
       "23836         0        0        0         1                   0   \n",
       "\n",
       "        protocol_type_tcp  protocol_type_udp  \n",
       "86848                   1                  0  \n",
       "273287                  1                  0  \n",
       "377838                  0                  1  \n",
       "319624                  0                  1  \n",
       "23836                   0                  1  \n",
       "\n",
       "[5 rows x 34 columns]"
      ]
     },
     "execution_count": 32,
     "metadata": {},
     "output_type": "execute_result"
    }
   ],
   "source": [
    "df.head()"
   ]
  },
  {
   "cell_type": "code",
   "execution_count": 33,
   "metadata": {},
   "outputs": [
    {
     "data": {
      "text/plain": [
       "(1000,)"
      ]
     },
     "execution_count": 33,
     "metadata": {},
     "output_type": "execute_result"
    }
   ],
   "source": [
    "y.shape"
   ]
  },
  {
   "cell_type": "code",
   "execution_count": 34,
   "metadata": {},
   "outputs": [
    {
     "data": {
      "text/plain": [
       "86848    -1\n",
       "273287   -1\n",
       "377838   -1\n",
       "319624    1\n",
       "23836    -1\n",
       "Name: Label, dtype: int64"
      ]
     },
     "execution_count": 34,
     "metadata": {},
     "output_type": "execute_result"
    }
   ],
   "source": [
    "y.head()"
   ]
  },
  {
   "cell_type": "code",
   "execution_count": 40,
   "metadata": {},
   "outputs": [],
   "source": [
    "from sklearn import datasets\n",
    "from sklearn import metrics\n",
    "from sklearn.tree import DecisionTreeClassifier\n",
    "from sklearn.ensemble import RandomForestClassifier\n",
    "\n",
    "model = RandomForestClassifier()\n",
    "#model = DecisionTreeClassifier()\n",
    "\n",
    "model.fit(X, y)\n",
    "\n",
    "importances = model.feature_importances_"
   ]
  },
  {
   "cell_type": "code",
   "execution_count": 42,
   "metadata": {},
   "outputs": [
    {
     "name": "stdout",
     "output_type": "stream",
     "text": [
      "Feature ranking:\n",
      "1. feature 7 (0.356788)\n",
      "2. feature 3 (0.151717)\n",
      "3. feature 16 (0.124108)\n",
      "4. feature 26 (0.114229)\n",
      "5. feature 2 (0.101446)\n",
      "6. feature 12 (0.088971)\n",
      "7. feature 1 (0.027759)\n",
      "8. feature 9 (0.015841)\n",
      "9. feature 4 (0.009640)\n",
      "10. feature 10 (0.009502)\n",
      "11. feature 13 (0.000000)\n",
      "12. feature 11 (0.000000)\n",
      "13. feature 6 (0.000000)\n",
      "14. feature 8 (0.000000)\n",
      "15. feature 15 (0.000000)\n",
      "16. feature 5 (0.000000)\n",
      "17. feature 14 (0.000000)\n",
      "18. feature 32 (0.000000)\n",
      "19. feature 31 (0.000000)\n",
      "20. feature 17 (0.000000)\n",
      "21. feature 18 (0.000000)\n",
      "22. feature 19 (0.000000)\n",
      "23. feature 20 (0.000000)\n",
      "24. feature 21 (0.000000)\n",
      "25. feature 22 (0.000000)\n",
      "26. feature 23 (0.000000)\n",
      "27. feature 24 (0.000000)\n",
      "28. feature 25 (0.000000)\n",
      "29. feature 27 (0.000000)\n",
      "30. feature 28 (0.000000)\n",
      "31. feature 29 (0.000000)\n",
      "32. feature 30 (0.000000)\n",
      "33. feature 0 (0.000000)\n"
     ]
    }
   ],
   "source": [
    "import numpy as np\n",
    "import matplotlib.pyplot as plt\n",
    "\n",
    "std = np.std([tree.feature_importances_ for tree in model.estimators_],axis=0)\n",
    "indices = np.argsort(importances)[::-1]\n",
    "\n",
    "# Print the feature ranking\n",
    "print(\"Feature ranking:\")\n",
    "\n",
    "for f in range(X.shape[1]):\n",
    "    print(\"%d. feature %d (%f)\" % (f + 1, indices[f], importances[indices[f]]))"
   ]
  },
  {
   "cell_type": "code",
   "execution_count": 43,
   "metadata": {},
   "outputs": [
    {
     "data": {
      "image/png": "[encoded data removed]",
      "text/plain": [
       "<Figure size 432x288 with 1 Axes>"
      ]
     },
     "metadata": {
      "needs_background": "light"
     },
     "output_type": "display_data"
    }
   ],
   "source": [
    "plt.figure()\n",
    "plt.title(\"Feature importances\")\n",
    "plt.bar(range(X.shape[1]), importances[indices],\n",
    "       color=\"r\", yerr=std[indices], align=\"center\")\n",
    "plt.xticks(range(X.shape[1]), indices)\n",
    "plt.xlim([-1, X.shape[1]])\n",
    "plt.show()"
   ]
  },
  {
   "cell_type": "code",
   "execution_count": null,
   "metadata": {},
   "outputs": [],
   "source": []
  }
 ],
 "metadata": {
  "kernelspec": {
   "display_name": "Python 3",
   "language": "python",
   "name": "python3"
  },
  "language_info": {
   "codemirror_mode": {
    "name": "ipython",
    "version": 3
   },
   "file_extension": ".py",
   "mimetype": "text/x-python",
   "name": "python",
   "nbconvert_exporter": "python",
   "pygments_lexer": "ipython3",
   "version": "3.7.3"
  }
 },
 "nbformat": 4,
 "nbformat_minor": 2
}
